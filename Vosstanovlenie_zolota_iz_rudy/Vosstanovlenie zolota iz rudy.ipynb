{
 "cells": [
  {
   "cell_type": "markdown",
   "metadata": {
    "toc": true
   },
   "source": [
    "<h1>Содержание<span class=\"tocSkip\"></span></h1>\n",
    "<div class=\"toc\"><ul class=\"toc-item\"><li><span><a href=\"#Подготовка-данных\" data-toc-modified-id=\"Подготовка-данных-1\"><span class=\"toc-item-num\">1&nbsp;&nbsp;</span>Подготовка данных</a></span><ul class=\"toc-item\"><li><span><a href=\"#Откроем-и-изучим-данные\" data-toc-modified-id=\"Откроем-и-изучим-данные-1.1\"><span class=\"toc-item-num\">1.1&nbsp;&nbsp;</span>Откроем и изучим данные</a></span></li><li><span><a href=\"#Проверим-правильно-ли-рассчитана-эффективность-обогащения\" data-toc-modified-id=\"Проверим-правильно-ли-рассчитана-эффективность-обогащения-1.2\"><span class=\"toc-item-num\">1.2&nbsp;&nbsp;</span>Проверим правильно ли рассчитана эффективность обогащения</a></span></li><li><span><a href=\"#Проанализируем-признаки,-недоступные-в-тестовой-выборке\" data-toc-modified-id=\"Проанализируем-признаки,-недоступные-в-тестовой-выборке-1.3\"><span class=\"toc-item-num\">1.3&nbsp;&nbsp;</span>Проанализируем признаки, недоступные в тестовой выборке</a></span></li><li><span><a href=\"#Проведем-предобработку-данных\" data-toc-modified-id=\"Проведем-предобработку-данных-1.4\"><span class=\"toc-item-num\">1.4&nbsp;&nbsp;</span>Проведем предобработку данных</a></span></li></ul></li><li><span><a href=\"#Анализ-данных\" data-toc-modified-id=\"Анализ-данных-2\"><span class=\"toc-item-num\">2&nbsp;&nbsp;</span>Анализ данных</a></span><ul class=\"toc-item\"><li><span><a href=\"#Посмотрим,-как-меняется-концентрация-металлов-на-различных-этапах\" data-toc-modified-id=\"Посмотрим,-как-меняется-концентрация-металлов-на-различных-этапах-2.1\"><span class=\"toc-item-num\">2.1&nbsp;&nbsp;</span>Посмотрим, как меняется концентрация металлов на различных этапах</a></span><ul class=\"toc-item\"><li><span><a href=\"#Концентрация-золота\" data-toc-modified-id=\"Концентрация-золота-2.1.1\"><span class=\"toc-item-num\">2.1.1&nbsp;&nbsp;</span>Концентрация золота</a></span></li><li><span><a href=\"#Концентрация-серебра\" data-toc-modified-id=\"Концентрация-серебра-2.1.2\"><span class=\"toc-item-num\">2.1.2&nbsp;&nbsp;</span>Концентрация серебра</a></span></li><li><span><a href=\"#Концентрация-свинца\" data-toc-modified-id=\"Концентрация-свинца-2.1.3\"><span class=\"toc-item-num\">2.1.3&nbsp;&nbsp;</span>Концентрация свинца</a></span></li></ul></li><li><span><a href=\"#Сравним-распределение-размеров-гранул-исходного-сырья-на-обучающей-и-тестовой-выборках\" data-toc-modified-id=\"Сравним-распределение-размеров-гранул-исходного-сырья-на-обучающей-и-тестовой-выборках-2.2\"><span class=\"toc-item-num\">2.2&nbsp;&nbsp;</span>Сравним распределение размеров гранул исходного сырья на обучающей и тестовой выборках</a></span></li><li><span><a href=\"#Исследуем-суммарную-концентрацию-металлов-на-разных-стадиях\" data-toc-modified-id=\"Исследуем-суммарную-концентрацию-металлов-на-разных-стадиях-2.3\"><span class=\"toc-item-num\">2.3&nbsp;&nbsp;</span>Исследуем суммарную концентрацию металлов на разных стадиях</a></span></li></ul></li><li><span><a href=\"#Модель\" data-toc-modified-id=\"Модель-3\"><span class=\"toc-item-num\">3&nbsp;&nbsp;</span>Модель</a></span><ul class=\"toc-item\"><li><span><a href=\"#Напишем-функцию-для-вычисления-итоговой-sMAPE\" data-toc-modified-id=\"Напишем-функцию-для-вычисления-итоговой-sMAPE-3.1\"><span class=\"toc-item-num\">3.1&nbsp;&nbsp;</span>Напишем функцию для вычисления итоговой sMAPE</a></span></li><li><span><a href=\"#Обучим-разные-модели\" data-toc-modified-id=\"Обучим-разные-модели-3.2\"><span class=\"toc-item-num\">3.2&nbsp;&nbsp;</span>Обучим разные модели</a></span></li></ul></li><li><span><a href=\"#Вывод\" data-toc-modified-id=\"Вывод-4\"><span class=\"toc-item-num\">4&nbsp;&nbsp;</span>Вывод</a></span></li><li><span><a href=\"#Чек-лист-готовности-проекта\" data-toc-modified-id=\"Чек-лист-готовности-проекта-5\"><span class=\"toc-item-num\">5&nbsp;&nbsp;</span>Чек-лист готовности проекта</a></span></li></ul></div>"
   ]
  },
  {
   "cell_type": "markdown",
   "metadata": {},
   "source": [
    "# Восстановление золота из руды"
   ]
  },
  {
   "cell_type": "markdown",
   "metadata": {},
   "source": [
    "## Подготовка данных"
   ]
  },
  {
   "cell_type": "code",
   "execution_count": 1,
   "metadata": {},
   "outputs": [],
   "source": [
    "import matplotlib.pyplot as plt\n",
    "import numpy as np\n",
    "import pandas as pd\n",
    "import warnings\n",
    "\n",
    "from sklearn.dummy import DummyRegressor\n",
    "from sklearn.ensemble import RandomForestRegressor\n",
    "from sklearn.linear_model import LinearRegression\n",
    "from sklearn.metrics import make_scorer, mean_absolute_error\n",
    "from sklearn.model_selection import cross_val_score\n",
    "from sklearn.tree import DecisionTreeRegressor\n",
    "\n",
    "warnings.filterwarnings('ignore') "
   ]
  },
  {
   "cell_type": "markdown",
   "metadata": {},
   "source": [
    "### Откроем и изучим данные"
   ]
  },
  {
   "cell_type": "code",
   "execution_count": 2,
   "metadata": {},
   "outputs": [
    {
     "data": {
      "text/html": [
       "<div>\n",
       "<style scoped>\n",
       "    .dataframe tbody tr th:only-of-type {\n",
       "        vertical-align: middle;\n",
       "    }\n",
       "\n",
       "    .dataframe tbody tr th {\n",
       "        vertical-align: top;\n",
       "    }\n",
       "\n",
       "    .dataframe thead th {\n",
       "        text-align: right;\n",
       "    }\n",
       "</style>\n",
       "<table border=\"1\" class=\"dataframe\">\n",
       "  <thead>\n",
       "    <tr style=\"text-align: right;\">\n",
       "      <th></th>\n",
       "      <th>date</th>\n",
       "      <th>rougher.input.feed_au</th>\n",
       "      <th>rougher.input.feed_ag</th>\n",
       "      <th>rougher.input.feed_pb</th>\n",
       "      <th>rougher.input.feed_sol</th>\n",
       "      <th>rougher.input.feed_rate</th>\n",
       "      <th>rougher.input.feed_size</th>\n",
       "      <th>rougher.input.floatbank10_sulfate</th>\n",
       "      <th>rougher.input.floatbank10_xanthate</th>\n",
       "      <th>rougher.state.floatbank10_a_air</th>\n",
       "      <th>...</th>\n",
       "      <th>secondary_cleaner.output.tail_sol</th>\n",
       "      <th>final.output.concentrate_au</th>\n",
       "      <th>final.output.concentrate_ag</th>\n",
       "      <th>final.output.concentrate_pb</th>\n",
       "      <th>final.output.concentrate_sol</th>\n",
       "      <th>final.output.recovery</th>\n",
       "      <th>final.output.tail_au</th>\n",
       "      <th>final.output.tail_ag</th>\n",
       "      <th>final.output.tail_pb</th>\n",
       "      <th>final.output.tail_sol</th>\n",
       "    </tr>\n",
       "  </thead>\n",
       "  <tbody>\n",
       "    <tr>\n",
       "      <th>0</th>\n",
       "      <td>2016-01-15 00:00:00</td>\n",
       "      <td>6.486150</td>\n",
       "      <td>6.100378</td>\n",
       "      <td>2.284912</td>\n",
       "      <td>36.808594</td>\n",
       "      <td>523.546326</td>\n",
       "      <td>55.486599</td>\n",
       "      <td>11.986616</td>\n",
       "      <td>6.007990</td>\n",
       "      <td>999.706909</td>\n",
       "      <td>...</td>\n",
       "      <td>8.764648</td>\n",
       "      <td>42.192020</td>\n",
       "      <td>6.055403</td>\n",
       "      <td>9.889648</td>\n",
       "      <td>5.507324</td>\n",
       "      <td>70.541216</td>\n",
       "      <td>2.143149</td>\n",
       "      <td>10.411962</td>\n",
       "      <td>0.895447</td>\n",
       "      <td>16.904297</td>\n",
       "    </tr>\n",
       "    <tr>\n",
       "      <th>1</th>\n",
       "      <td>2016-01-15 01:00:00</td>\n",
       "      <td>6.478583</td>\n",
       "      <td>6.161113</td>\n",
       "      <td>2.266033</td>\n",
       "      <td>35.753385</td>\n",
       "      <td>525.290581</td>\n",
       "      <td>57.278666</td>\n",
       "      <td>11.971193</td>\n",
       "      <td>6.005766</td>\n",
       "      <td>1000.286398</td>\n",
       "      <td>...</td>\n",
       "      <td>9.001494</td>\n",
       "      <td>42.701629</td>\n",
       "      <td>6.029369</td>\n",
       "      <td>9.968944</td>\n",
       "      <td>5.257781</td>\n",
       "      <td>69.266198</td>\n",
       "      <td>2.224930</td>\n",
       "      <td>10.462676</td>\n",
       "      <td>0.927452</td>\n",
       "      <td>16.634514</td>\n",
       "    </tr>\n",
       "    <tr>\n",
       "      <th>2</th>\n",
       "      <td>2016-01-15 02:00:00</td>\n",
       "      <td>6.362222</td>\n",
       "      <td>6.116455</td>\n",
       "      <td>2.159622</td>\n",
       "      <td>35.971630</td>\n",
       "      <td>530.026610</td>\n",
       "      <td>57.510649</td>\n",
       "      <td>11.920603</td>\n",
       "      <td>6.197377</td>\n",
       "      <td>999.719565</td>\n",
       "      <td>...</td>\n",
       "      <td>8.842896</td>\n",
       "      <td>42.657501</td>\n",
       "      <td>6.055926</td>\n",
       "      <td>10.213995</td>\n",
       "      <td>5.383759</td>\n",
       "      <td>68.116445</td>\n",
       "      <td>2.257889</td>\n",
       "      <td>10.507046</td>\n",
       "      <td>0.953716</td>\n",
       "      <td>16.208849</td>\n",
       "    </tr>\n",
       "    <tr>\n",
       "      <th>3</th>\n",
       "      <td>2016-01-15 03:00:00</td>\n",
       "      <td>6.118189</td>\n",
       "      <td>6.043309</td>\n",
       "      <td>2.037807</td>\n",
       "      <td>36.862241</td>\n",
       "      <td>542.590390</td>\n",
       "      <td>57.792734</td>\n",
       "      <td>11.630094</td>\n",
       "      <td>6.203177</td>\n",
       "      <td>999.814770</td>\n",
       "      <td>...</td>\n",
       "      <td>9.122857</td>\n",
       "      <td>42.689819</td>\n",
       "      <td>6.047977</td>\n",
       "      <td>9.977019</td>\n",
       "      <td>4.858634</td>\n",
       "      <td>68.347543</td>\n",
       "      <td>2.146849</td>\n",
       "      <td>10.422762</td>\n",
       "      <td>0.883763</td>\n",
       "      <td>16.532835</td>\n",
       "    </tr>\n",
       "    <tr>\n",
       "      <th>4</th>\n",
       "      <td>2016-01-15 04:00:00</td>\n",
       "      <td>5.663707</td>\n",
       "      <td>6.060915</td>\n",
       "      <td>1.786875</td>\n",
       "      <td>34.347666</td>\n",
       "      <td>540.531893</td>\n",
       "      <td>56.047189</td>\n",
       "      <td>10.957755</td>\n",
       "      <td>6.198826</td>\n",
       "      <td>999.678690</td>\n",
       "      <td>...</td>\n",
       "      <td>8.871028</td>\n",
       "      <td>42.774141</td>\n",
       "      <td>6.148599</td>\n",
       "      <td>10.142511</td>\n",
       "      <td>4.939416</td>\n",
       "      <td>66.927016</td>\n",
       "      <td>2.055292</td>\n",
       "      <td>10.360302</td>\n",
       "      <td>0.792826</td>\n",
       "      <td>16.525686</td>\n",
       "    </tr>\n",
       "  </tbody>\n",
       "</table>\n",
       "<p>5 rows × 87 columns</p>\n",
       "</div>"
      ],
      "text/plain": [
       "                  date  rougher.input.feed_au  rougher.input.feed_ag  \\\n",
       "0  2016-01-15 00:00:00               6.486150               6.100378   \n",
       "1  2016-01-15 01:00:00               6.478583               6.161113   \n",
       "2  2016-01-15 02:00:00               6.362222               6.116455   \n",
       "3  2016-01-15 03:00:00               6.118189               6.043309   \n",
       "4  2016-01-15 04:00:00               5.663707               6.060915   \n",
       "\n",
       "   rougher.input.feed_pb  rougher.input.feed_sol  rougher.input.feed_rate  \\\n",
       "0               2.284912               36.808594               523.546326   \n",
       "1               2.266033               35.753385               525.290581   \n",
       "2               2.159622               35.971630               530.026610   \n",
       "3               2.037807               36.862241               542.590390   \n",
       "4               1.786875               34.347666               540.531893   \n",
       "\n",
       "   rougher.input.feed_size  rougher.input.floatbank10_sulfate  \\\n",
       "0                55.486599                          11.986616   \n",
       "1                57.278666                          11.971193   \n",
       "2                57.510649                          11.920603   \n",
       "3                57.792734                          11.630094   \n",
       "4                56.047189                          10.957755   \n",
       "\n",
       "   rougher.input.floatbank10_xanthate  rougher.state.floatbank10_a_air  ...  \\\n",
       "0                            6.007990                       999.706909  ...   \n",
       "1                            6.005766                      1000.286398  ...   \n",
       "2                            6.197377                       999.719565  ...   \n",
       "3                            6.203177                       999.814770  ...   \n",
       "4                            6.198826                       999.678690  ...   \n",
       "\n",
       "   secondary_cleaner.output.tail_sol  final.output.concentrate_au  \\\n",
       "0                           8.764648                    42.192020   \n",
       "1                           9.001494                    42.701629   \n",
       "2                           8.842896                    42.657501   \n",
       "3                           9.122857                    42.689819   \n",
       "4                           8.871028                    42.774141   \n",
       "\n",
       "   final.output.concentrate_ag  final.output.concentrate_pb  \\\n",
       "0                     6.055403                     9.889648   \n",
       "1                     6.029369                     9.968944   \n",
       "2                     6.055926                    10.213995   \n",
       "3                     6.047977                     9.977019   \n",
       "4                     6.148599                    10.142511   \n",
       "\n",
       "   final.output.concentrate_sol  final.output.recovery  final.output.tail_au  \\\n",
       "0                      5.507324              70.541216              2.143149   \n",
       "1                      5.257781              69.266198              2.224930   \n",
       "2                      5.383759              68.116445              2.257889   \n",
       "3                      4.858634              68.347543              2.146849   \n",
       "4                      4.939416              66.927016              2.055292   \n",
       "\n",
       "   final.output.tail_ag  final.output.tail_pb  final.output.tail_sol  \n",
       "0             10.411962              0.895447              16.904297  \n",
       "1             10.462676              0.927452              16.634514  \n",
       "2             10.507046              0.953716              16.208849  \n",
       "3             10.422762              0.883763              16.532835  \n",
       "4             10.360302              0.792826              16.525686  \n",
       "\n",
       "[5 rows x 87 columns]"
      ]
     },
     "execution_count": 2,
     "metadata": {},
     "output_type": "execute_result"
    }
   ],
   "source": [
    "df_full = pd.read_csv('gold_industry_full.csv')\n",
    "df_train = pd.read_csv('gold_industry_train.csv')\n",
    "df_test = pd.read_csv('gold_industry_test.csv')\n",
    "\n",
    "df_full.head()"
   ]
  },
  {
   "cell_type": "code",
   "execution_count": 3,
   "metadata": {},
   "outputs": [
    {
     "name": "stdout",
     "output_type": "stream",
     "text": [
      "<class 'pandas.core.frame.DataFrame'>\n",
      "RangeIndex: 19439 entries, 0 to 19438\n",
      "Data columns (total 87 columns):\n",
      " #   Column                                              Non-Null Count  Dtype  \n",
      "---  ------                                              --------------  -----  \n",
      " 0   date                                                19439 non-null  object \n",
      " 1   rougher.input.feed_au                               19439 non-null  float64\n",
      " 2   rougher.input.feed_ag                               19439 non-null  float64\n",
      " 3   rougher.input.feed_pb                               19339 non-null  float64\n",
      " 4   rougher.input.feed_sol                              19340 non-null  float64\n",
      " 5   rougher.input.feed_rate                             19428 non-null  float64\n",
      " 6   rougher.input.feed_size                             19294 non-null  float64\n",
      " 7   rougher.input.floatbank10_sulfate                   19405 non-null  float64\n",
      " 8   rougher.input.floatbank10_xanthate                  19431 non-null  float64\n",
      " 9   rougher.state.floatbank10_a_air                     19438 non-null  float64\n",
      " 10  rougher.state.floatbank10_a_level                   19438 non-null  float64\n",
      " 11  rougher.state.floatbank10_b_air                     19438 non-null  float64\n",
      " 12  rougher.state.floatbank10_b_level                   19438 non-null  float64\n",
      " 13  rougher.state.floatbank10_c_air                     19438 non-null  float64\n",
      " 14  rougher.state.floatbank10_c_level                   19438 non-null  float64\n",
      " 15  rougher.state.floatbank10_d_air                     19439 non-null  float64\n",
      " 16  rougher.state.floatbank10_d_level                   19439 non-null  float64\n",
      " 17  rougher.state.floatbank10_e_air                     19003 non-null  float64\n",
      " 18  rougher.state.floatbank10_e_level                   19439 non-null  float64\n",
      " 19  rougher.state.floatbank10_f_air                     19439 non-null  float64\n",
      " 20  rougher.state.floatbank10_f_level                   19439 non-null  float64\n",
      " 21  rougher.input.floatbank11_sulfate                   19395 non-null  float64\n",
      " 22  rougher.input.floatbank11_xanthate                  18986 non-null  float64\n",
      " 23  rougher.calculation.sulfate_to_au_concentrate       19437 non-null  float64\n",
      " 24  rougher.calculation.floatbank10_sulfate_to_au_feed  19437 non-null  float64\n",
      " 25  rougher.calculation.floatbank11_sulfate_to_au_feed  19437 non-null  float64\n",
      " 26  rougher.calculation.au_pb_ratio                     19439 non-null  float64\n",
      " 27  rougher.output.concentrate_au                       19439 non-null  float64\n",
      " 28  rougher.output.concentrate_ag                       19439 non-null  float64\n",
      " 29  rougher.output.concentrate_pb                       19439 non-null  float64\n",
      " 30  rougher.output.concentrate_sol                      19416 non-null  float64\n",
      " 31  rougher.output.recovery                             19439 non-null  float64\n",
      " 32  rougher.output.tail_au                              19439 non-null  float64\n",
      " 33  rougher.output.tail_ag                              19438 non-null  float64\n",
      " 34  rougher.output.tail_pb                              19439 non-null  float64\n",
      " 35  rougher.output.tail_sol                             19439 non-null  float64\n",
      " 36  primary_cleaner.input.sulfate                       19415 non-null  float64\n",
      " 37  primary_cleaner.input.depressant                    19402 non-null  float64\n",
      " 38  primary_cleaner.input.feed_size                     19439 non-null  float64\n",
      " 39  primary_cleaner.input.xanthate                      19335 non-null  float64\n",
      " 40  primary_cleaner.state.floatbank8_a_air              19435 non-null  float64\n",
      " 41  primary_cleaner.state.floatbank8_a_level            19438 non-null  float64\n",
      " 42  primary_cleaner.state.floatbank8_b_air              19435 non-null  float64\n",
      " 43  primary_cleaner.state.floatbank8_b_level            19438 non-null  float64\n",
      " 44  primary_cleaner.state.floatbank8_c_air              19437 non-null  float64\n",
      " 45  primary_cleaner.state.floatbank8_c_level            19438 non-null  float64\n",
      " 46  primary_cleaner.state.floatbank8_d_air              19436 non-null  float64\n",
      " 47  primary_cleaner.state.floatbank8_d_level            19438 non-null  float64\n",
      " 48  primary_cleaner.output.concentrate_au               19439 non-null  float64\n",
      " 49  primary_cleaner.output.concentrate_ag               19439 non-null  float64\n",
      " 50  primary_cleaner.output.concentrate_pb               19323 non-null  float64\n",
      " 51  primary_cleaner.output.concentrate_sol              19069 non-null  float64\n",
      " 52  primary_cleaner.output.tail_au                      19439 non-null  float64\n",
      " 53  primary_cleaner.output.tail_ag                      19435 non-null  float64\n",
      " 54  primary_cleaner.output.tail_pb                      19418 non-null  float64\n",
      " 55  primary_cleaner.output.tail_sol                     19377 non-null  float64\n",
      " 56  secondary_cleaner.state.floatbank2_a_air            19219 non-null  float64\n",
      " 57  secondary_cleaner.state.floatbank2_a_level          19438 non-null  float64\n",
      " 58  secondary_cleaner.state.floatbank2_b_air            19416 non-null  float64\n",
      " 59  secondary_cleaner.state.floatbank2_b_level          19438 non-null  float64\n",
      " 60  secondary_cleaner.state.floatbank3_a_air            19426 non-null  float64\n",
      " 61  secondary_cleaner.state.floatbank3_a_level          19438 non-null  float64\n",
      " 62  secondary_cleaner.state.floatbank3_b_air            19438 non-null  float64\n",
      " 63  secondary_cleaner.state.floatbank3_b_level          19438 non-null  float64\n",
      " 64  secondary_cleaner.state.floatbank4_a_air            19433 non-null  float64\n",
      " 65  secondary_cleaner.state.floatbank4_a_level          19438 non-null  float64\n",
      " 66  secondary_cleaner.state.floatbank4_b_air            19438 non-null  float64\n",
      " 67  secondary_cleaner.state.floatbank4_b_level          19438 non-null  float64\n",
      " 68  secondary_cleaner.state.floatbank5_a_air            19438 non-null  float64\n",
      " 69  secondary_cleaner.state.floatbank5_a_level          19438 non-null  float64\n",
      " 70  secondary_cleaner.state.floatbank5_b_air            19438 non-null  float64\n",
      " 71  secondary_cleaner.state.floatbank5_b_level          19438 non-null  float64\n",
      " 72  secondary_cleaner.state.floatbank6_a_air            19437 non-null  float64\n",
      " 73  secondary_cleaner.state.floatbank6_a_level          19438 non-null  float64\n",
      " 74  secondary_cleaner.output.tail_au                    19439 non-null  float64\n",
      " 75  secondary_cleaner.output.tail_ag                    19437 non-null  float64\n",
      " 76  secondary_cleaner.output.tail_pb                    19427 non-null  float64\n",
      " 77  secondary_cleaner.output.tail_sol                   17691 non-null  float64\n",
      " 78  final.output.concentrate_au                         19439 non-null  float64\n",
      " 79  final.output.concentrate_ag                         19438 non-null  float64\n",
      " 80  final.output.concentrate_pb                         19438 non-null  float64\n",
      " 81  final.output.concentrate_sol                        19228 non-null  float64\n",
      " 82  final.output.recovery                               19439 non-null  float64\n",
      " 83  final.output.tail_au                                19439 non-null  float64\n",
      " 84  final.output.tail_ag                                19438 non-null  float64\n",
      " 85  final.output.tail_pb                                19338 non-null  float64\n",
      " 86  final.output.tail_sol                               19433 non-null  float64\n",
      "dtypes: float64(86), object(1)\n",
      "memory usage: 12.9+ MB\n"
     ]
    }
   ],
   "source": [
    "df_full.info()"
   ]
  },
  {
   "cell_type": "markdown",
   "metadata": {},
   "source": [
    "В данных есть пропуски. Их будет необходимо обработать."
   ]
  },
  {
   "cell_type": "markdown",
   "metadata": {},
   "source": [
    "### Проверим правильно ли рассчитана эффективность обогащения"
   ]
  },
  {
   "cell_type": "code",
   "execution_count": 4,
   "metadata": {},
   "outputs": [],
   "source": [
    "calculated_recovery = (df_train['rougher.output.concentrate_au']*\\\n",
    "                     (df_train['rougher.input.feed_au']-df_train['rougher.output.tail_au'])\\\n",
    "                    )/(df_train['rougher.input.feed_au']*(df_train['rougher.output.concentrate_au'] - \\\n",
    "                                                           df_train['rougher.output.tail_au']))*100"
   ]
  },
  {
   "cell_type": "code",
   "execution_count": 5,
   "metadata": {},
   "outputs": [
    {
     "data": {
      "text/plain": [
       "9.83758577644259e-15"
      ]
     },
     "execution_count": 5,
     "metadata": {},
     "output_type": "execute_result"
    }
   ],
   "source": [
    "calculated_recovery = pd.Series(calculated_recovery, index=df_train.index)\n",
    "mae = mean_absolute_error(df_train['rougher.output.recovery'], calculated_recovery)\n",
    "mae"
   ]
  },
  {
   "cell_type": "markdown",
   "metadata": {},
   "source": [
    "МАЕ близка к 0, следовательно эффективность обогащения рассчитана правильно."
   ]
  },
  {
   "cell_type": "markdown",
   "metadata": {},
   "source": [
    "### Проанализируем признаки, недоступные в тестовой выборке"
   ]
  },
  {
   "cell_type": "code",
   "execution_count": 6,
   "metadata": {},
   "outputs": [
    {
     "name": "stdout",
     "output_type": "stream",
     "text": [
      "<class 'pandas.core.frame.DataFrame'>\n",
      "RangeIndex: 4860 entries, 0 to 4859\n",
      "Data columns (total 53 columns):\n",
      " #   Column                                      Non-Null Count  Dtype  \n",
      "---  ------                                      --------------  -----  \n",
      " 0   date                                        4860 non-null   object \n",
      " 1   rougher.input.feed_au                       4860 non-null   float64\n",
      " 2   rougher.input.feed_ag                       4860 non-null   float64\n",
      " 3   rougher.input.feed_pb                       4832 non-null   float64\n",
      " 4   rougher.input.feed_sol                      4838 non-null   float64\n",
      " 5   rougher.input.feed_rate                     4856 non-null   float64\n",
      " 6   rougher.input.feed_size                     4816 non-null   float64\n",
      " 7   rougher.input.floatbank10_sulfate           4857 non-null   float64\n",
      " 8   rougher.input.floatbank10_xanthate          4859 non-null   float64\n",
      " 9   rougher.state.floatbank10_a_air             4859 non-null   float64\n",
      " 10  rougher.state.floatbank10_a_level           4859 non-null   float64\n",
      " 11  rougher.state.floatbank10_b_air             4859 non-null   float64\n",
      " 12  rougher.state.floatbank10_b_level           4859 non-null   float64\n",
      " 13  rougher.state.floatbank10_c_air             4859 non-null   float64\n",
      " 14  rougher.state.floatbank10_c_level           4859 non-null   float64\n",
      " 15  rougher.state.floatbank10_d_air             4860 non-null   float64\n",
      " 16  rougher.state.floatbank10_d_level           4860 non-null   float64\n",
      " 17  rougher.state.floatbank10_e_air             4853 non-null   float64\n",
      " 18  rougher.state.floatbank10_e_level           4860 non-null   float64\n",
      " 19  rougher.state.floatbank10_f_air             4860 non-null   float64\n",
      " 20  rougher.state.floatbank10_f_level           4860 non-null   float64\n",
      " 21  rougher.input.floatbank11_sulfate           4852 non-null   float64\n",
      " 22  rougher.input.floatbank11_xanthate          4814 non-null   float64\n",
      " 23  primary_cleaner.input.sulfate               4859 non-null   float64\n",
      " 24  primary_cleaner.input.depressant            4851 non-null   float64\n",
      " 25  primary_cleaner.input.feed_size             4860 non-null   float64\n",
      " 26  primary_cleaner.input.xanthate              4817 non-null   float64\n",
      " 27  primary_cleaner.state.floatbank8_a_air      4859 non-null   float64\n",
      " 28  primary_cleaner.state.floatbank8_a_level    4859 non-null   float64\n",
      " 29  primary_cleaner.state.floatbank8_b_air      4859 non-null   float64\n",
      " 30  primary_cleaner.state.floatbank8_b_level    4859 non-null   float64\n",
      " 31  primary_cleaner.state.floatbank8_c_air      4858 non-null   float64\n",
      " 32  primary_cleaner.state.floatbank8_c_level    4859 non-null   float64\n",
      " 33  primary_cleaner.state.floatbank8_d_air      4858 non-null   float64\n",
      " 34  primary_cleaner.state.floatbank8_d_level    4859 non-null   float64\n",
      " 35  secondary_cleaner.state.floatbank2_a_air    4734 non-null   float64\n",
      " 36  secondary_cleaner.state.floatbank2_a_level  4859 non-null   float64\n",
      " 37  secondary_cleaner.state.floatbank2_b_air    4859 non-null   float64\n",
      " 38  secondary_cleaner.state.floatbank2_b_level  4859 non-null   float64\n",
      " 39  secondary_cleaner.state.floatbank3_a_air    4859 non-null   float64\n",
      " 40  secondary_cleaner.state.floatbank3_a_level  4859 non-null   float64\n",
      " 41  secondary_cleaner.state.floatbank3_b_air    4859 non-null   float64\n",
      " 42  secondary_cleaner.state.floatbank3_b_level  4859 non-null   float64\n",
      " 43  secondary_cleaner.state.floatbank4_a_air    4859 non-null   float64\n",
      " 44  secondary_cleaner.state.floatbank4_a_level  4859 non-null   float64\n",
      " 45  secondary_cleaner.state.floatbank4_b_air    4859 non-null   float64\n",
      " 46  secondary_cleaner.state.floatbank4_b_level  4859 non-null   float64\n",
      " 47  secondary_cleaner.state.floatbank5_a_air    4859 non-null   float64\n",
      " 48  secondary_cleaner.state.floatbank5_a_level  4859 non-null   float64\n",
      " 49  secondary_cleaner.state.floatbank5_b_air    4859 non-null   float64\n",
      " 50  secondary_cleaner.state.floatbank5_b_level  4859 non-null   float64\n",
      " 51  secondary_cleaner.state.floatbank6_a_air    4859 non-null   float64\n",
      " 52  secondary_cleaner.state.floatbank6_a_level  4859 non-null   float64\n",
      "dtypes: float64(52), object(1)\n",
      "memory usage: 2.0+ MB\n"
     ]
    }
   ],
   "source": [
    "df_test.info()"
   ]
  },
  {
   "cell_type": "markdown",
   "metadata": {},
   "source": [
    "В тестовой выборке отсутствуют 34 столбца. Это расчетные характеристики, данные по концентрациям на выходе, хвосты. Эти параметры не являются признаками, они доступны только после окончания процесса."
   ]
  },
  {
   "cell_type": "markdown",
   "metadata": {},
   "source": [
    "### Проведем предобработку данных"
   ]
  },
  {
   "cell_type": "code",
   "execution_count": 7,
   "metadata": {},
   "outputs": [
    {
     "name": "stdout",
     "output_type": "stream",
     "text": [
      "<class 'pandas.core.frame.DataFrame'>\n",
      "RangeIndex: 14579 entries, 0 to 14578\n",
      "Data columns (total 87 columns):\n",
      " #   Column                                              Non-Null Count  Dtype  \n",
      "---  ------                                              --------------  -----  \n",
      " 0   date                                                14579 non-null  object \n",
      " 1   rougher.input.feed_au                               14579 non-null  float64\n",
      " 2   rougher.input.feed_ag                               14579 non-null  float64\n",
      " 3   rougher.input.feed_pb                               14507 non-null  float64\n",
      " 4   rougher.input.feed_sol                              14502 non-null  float64\n",
      " 5   rougher.input.feed_rate                             14572 non-null  float64\n",
      " 6   rougher.input.feed_size                             14478 non-null  float64\n",
      " 7   rougher.input.floatbank10_sulfate                   14548 non-null  float64\n",
      " 8   rougher.input.floatbank10_xanthate                  14572 non-null  float64\n",
      " 9   rougher.state.floatbank10_a_air                     14579 non-null  float64\n",
      " 10  rougher.state.floatbank10_a_level                   14579 non-null  float64\n",
      " 11  rougher.state.floatbank10_b_air                     14579 non-null  float64\n",
      " 12  rougher.state.floatbank10_b_level                   14579 non-null  float64\n",
      " 13  rougher.state.floatbank10_c_air                     14579 non-null  float64\n",
      " 14  rougher.state.floatbank10_c_level                   14579 non-null  float64\n",
      " 15  rougher.state.floatbank10_d_air                     14579 non-null  float64\n",
      " 16  rougher.state.floatbank10_d_level                   14579 non-null  float64\n",
      " 17  rougher.state.floatbank10_e_air                     14150 non-null  float64\n",
      " 18  rougher.state.floatbank10_e_level                   14579 non-null  float64\n",
      " 19  rougher.state.floatbank10_f_air                     14579 non-null  float64\n",
      " 20  rougher.state.floatbank10_f_level                   14579 non-null  float64\n",
      " 21  rougher.input.floatbank11_sulfate                   14543 non-null  float64\n",
      " 22  rougher.input.floatbank11_xanthate                  14172 non-null  float64\n",
      " 23  rougher.calculation.sulfate_to_au_concentrate       14578 non-null  float64\n",
      " 24  rougher.calculation.floatbank10_sulfate_to_au_feed  14578 non-null  float64\n",
      " 25  rougher.calculation.floatbank11_sulfate_to_au_feed  14578 non-null  float64\n",
      " 26  rougher.calculation.au_pb_ratio                     14579 non-null  float64\n",
      " 27  rougher.output.concentrate_au                       14579 non-null  float64\n",
      " 28  rougher.output.concentrate_ag                       14579 non-null  float64\n",
      " 29  rougher.output.concentrate_pb                       14579 non-null  float64\n",
      " 30  rougher.output.concentrate_sol                      14561 non-null  float64\n",
      " 31  rougher.output.recovery                             14579 non-null  float64\n",
      " 32  rougher.output.tail_au                              14579 non-null  float64\n",
      " 33  rougher.output.tail_ag                              14578 non-null  float64\n",
      " 34  rougher.output.tail_pb                              14579 non-null  float64\n",
      " 35  rougher.output.tail_sol                             14579 non-null  float64\n",
      " 36  primary_cleaner.input.sulfate                       14556 non-null  float64\n",
      " 37  primary_cleaner.input.depressant                    14551 non-null  float64\n",
      " 38  primary_cleaner.input.feed_size                     14579 non-null  float64\n",
      " 39  primary_cleaner.input.xanthate                      14518 non-null  float64\n",
      " 40  primary_cleaner.state.floatbank8_a_air              14576 non-null  float64\n",
      " 41  primary_cleaner.state.floatbank8_a_level            14579 non-null  float64\n",
      " 42  primary_cleaner.state.floatbank8_b_air              14576 non-null  float64\n",
      " 43  primary_cleaner.state.floatbank8_b_level            14579 non-null  float64\n",
      " 44  primary_cleaner.state.floatbank8_c_air              14579 non-null  float64\n",
      " 45  primary_cleaner.state.floatbank8_c_level            14579 non-null  float64\n",
      " 46  primary_cleaner.state.floatbank8_d_air              14578 non-null  float64\n",
      " 47  primary_cleaner.state.floatbank8_d_level            14579 non-null  float64\n",
      " 48  primary_cleaner.output.concentrate_au               14579 non-null  float64\n",
      " 49  primary_cleaner.output.concentrate_ag               14579 non-null  float64\n",
      " 50  primary_cleaner.output.concentrate_pb               14491 non-null  float64\n",
      " 51  primary_cleaner.output.concentrate_sol              14314 non-null  float64\n",
      " 52  primary_cleaner.output.tail_au                      14579 non-null  float64\n",
      " 53  primary_cleaner.output.tail_ag                      14575 non-null  float64\n",
      " 54  primary_cleaner.output.tail_pb                      14573 non-null  float64\n",
      " 55  primary_cleaner.output.tail_sol                     14534 non-null  float64\n",
      " 56  secondary_cleaner.state.floatbank2_a_air            14485 non-null  float64\n",
      " 57  secondary_cleaner.state.floatbank2_a_level          14579 non-null  float64\n",
      " 58  secondary_cleaner.state.floatbank2_b_air            14557 non-null  float64\n",
      " 59  secondary_cleaner.state.floatbank2_b_level          14579 non-null  float64\n",
      " 60  secondary_cleaner.state.floatbank3_a_air            14567 non-null  float64\n",
      " 61  secondary_cleaner.state.floatbank3_a_level          14579 non-null  float64\n",
      " 62  secondary_cleaner.state.floatbank3_b_air            14579 non-null  float64\n",
      " 63  secondary_cleaner.state.floatbank3_b_level          14579 non-null  float64\n",
      " 64  secondary_cleaner.state.floatbank4_a_air            14574 non-null  float64\n",
      " 65  secondary_cleaner.state.floatbank4_a_level          14579 non-null  float64\n",
      " 66  secondary_cleaner.state.floatbank4_b_air            14579 non-null  float64\n",
      " 67  secondary_cleaner.state.floatbank4_b_level          14579 non-null  float64\n",
      " 68  secondary_cleaner.state.floatbank5_a_air            14579 non-null  float64\n",
      " 69  secondary_cleaner.state.floatbank5_a_level          14579 non-null  float64\n",
      " 70  secondary_cleaner.state.floatbank5_b_air            14579 non-null  float64\n",
      " 71  secondary_cleaner.state.floatbank5_b_level          14579 non-null  float64\n",
      " 72  secondary_cleaner.state.floatbank6_a_air            14578 non-null  float64\n",
      " 73  secondary_cleaner.state.floatbank6_a_level          14579 non-null  float64\n",
      " 74  secondary_cleaner.output.tail_au                    14579 non-null  float64\n",
      " 75  secondary_cleaner.output.tail_ag                    14578 non-null  float64\n",
      " 76  secondary_cleaner.output.tail_pb                    14575 non-null  float64\n",
      " 77  secondary_cleaner.output.tail_sol                   13659 non-null  float64\n",
      " 78  final.output.concentrate_au                         14579 non-null  float64\n",
      " 79  final.output.concentrate_ag                         14578 non-null  float64\n",
      " 80  final.output.concentrate_pb                         14578 non-null  float64\n",
      " 81  final.output.concentrate_sol                        14387 non-null  float64\n",
      " 82  final.output.recovery                               14579 non-null  float64\n",
      " 83  final.output.tail_au                                14579 non-null  float64\n",
      " 84  final.output.tail_ag                                14578 non-null  float64\n",
      " 85  final.output.tail_pb                                14504 non-null  float64\n",
      " 86  final.output.tail_sol                               14574 non-null  float64\n",
      "dtypes: float64(86), object(1)\n",
      "memory usage: 9.7+ MB\n"
     ]
    }
   ],
   "source": [
    "df_train.info()"
   ]
  },
  {
   "cell_type": "markdown",
   "metadata": {},
   "source": [
    "**Проверим дадасет на наличие простых дубликатов**"
   ]
  },
  {
   "cell_type": "code",
   "execution_count": 8,
   "metadata": {},
   "outputs": [
    {
     "data": {
      "text/plain": [
       "0"
      ]
     },
     "execution_count": 8,
     "metadata": {},
     "output_type": "execute_result"
    }
   ],
   "source": [
    "df_train.duplicated().sum()"
   ]
  },
  {
   "cell_type": "markdown",
   "metadata": {},
   "source": [
    "**Добавим в df_test целевые признаки**"
   ]
  },
  {
   "cell_type": "code",
   "execution_count": 9,
   "metadata": {},
   "outputs": [],
   "source": [
    "df_full = df_full.set_index('date')\n",
    "df_test = df_test.set_index('date')\n",
    "df_train = df_train.set_index('date')"
   ]
  },
  {
   "cell_type": "code",
   "execution_count": 10,
   "metadata": {},
   "outputs": [
    {
     "data": {
      "text/html": [
       "<div>\n",
       "<style scoped>\n",
       "    .dataframe tbody tr th:only-of-type {\n",
       "        vertical-align: middle;\n",
       "    }\n",
       "\n",
       "    .dataframe tbody tr th {\n",
       "        vertical-align: top;\n",
       "    }\n",
       "\n",
       "    .dataframe thead th {\n",
       "        text-align: right;\n",
       "    }\n",
       "</style>\n",
       "<table border=\"1\" class=\"dataframe\">\n",
       "  <thead>\n",
       "    <tr style=\"text-align: right;\">\n",
       "      <th></th>\n",
       "      <th>rougher.output.recovery</th>\n",
       "      <th>final.output.recovery</th>\n",
       "    </tr>\n",
       "    <tr>\n",
       "      <th>date</th>\n",
       "      <th></th>\n",
       "      <th></th>\n",
       "    </tr>\n",
       "  </thead>\n",
       "  <tbody>\n",
       "    <tr>\n",
       "      <th>2017-12-09 14:59:59</th>\n",
       "      <td>89.514960</td>\n",
       "      <td>70.281454</td>\n",
       "    </tr>\n",
       "    <tr>\n",
       "      <th>2017-12-09 15:59:59</th>\n",
       "      <td>89.858126</td>\n",
       "      <td>65.523246</td>\n",
       "    </tr>\n",
       "    <tr>\n",
       "      <th>2017-12-09 16:59:59</th>\n",
       "      <td>91.816623</td>\n",
       "      <td>74.817644</td>\n",
       "    </tr>\n",
       "    <tr>\n",
       "      <th>2017-12-09 17:59:59</th>\n",
       "      <td>88.478959</td>\n",
       "      <td>63.082720</td>\n",
       "    </tr>\n",
       "    <tr>\n",
       "      <th>2017-12-09 18:59:59</th>\n",
       "      <td>89.230316</td>\n",
       "      <td>74.463380</td>\n",
       "    </tr>\n",
       "    <tr>\n",
       "      <th>...</th>\n",
       "      <td>...</td>\n",
       "      <td>...</td>\n",
       "    </tr>\n",
       "    <tr>\n",
       "      <th>2018-08-18 06:59:59</th>\n",
       "      <td>85.462226</td>\n",
       "      <td>68.786981</td>\n",
       "    </tr>\n",
       "    <tr>\n",
       "      <th>2018-08-18 07:59:59</th>\n",
       "      <td>85.443505</td>\n",
       "      <td>67.839536</td>\n",
       "    </tr>\n",
       "    <tr>\n",
       "      <th>2018-08-18 08:59:59</th>\n",
       "      <td>87.235441</td>\n",
       "      <td>70.847012</td>\n",
       "    </tr>\n",
       "    <tr>\n",
       "      <th>2018-08-18 09:59:59</th>\n",
       "      <td>89.299981</td>\n",
       "      <td>72.659046</td>\n",
       "    </tr>\n",
       "    <tr>\n",
       "      <th>2018-08-18 10:59:59</th>\n",
       "      <td>87.650868</td>\n",
       "      <td>70.279619</td>\n",
       "    </tr>\n",
       "  </tbody>\n",
       "</table>\n",
       "<p>4860 rows × 2 columns</p>\n",
       "</div>"
      ],
      "text/plain": [
       "                     rougher.output.recovery  final.output.recovery\n",
       "date                                                               \n",
       "2017-12-09 14:59:59                89.514960              70.281454\n",
       "2017-12-09 15:59:59                89.858126              65.523246\n",
       "2017-12-09 16:59:59                91.816623              74.817644\n",
       "2017-12-09 17:59:59                88.478959              63.082720\n",
       "2017-12-09 18:59:59                89.230316              74.463380\n",
       "...                                      ...                    ...\n",
       "2018-08-18 06:59:59                85.462226              68.786981\n",
       "2018-08-18 07:59:59                85.443505              67.839536\n",
       "2018-08-18 08:59:59                87.235441              70.847012\n",
       "2018-08-18 09:59:59                89.299981              72.659046\n",
       "2018-08-18 10:59:59                87.650868              70.279619\n",
       "\n",
       "[4860 rows x 2 columns]"
      ]
     },
     "execution_count": 10,
     "metadata": {},
     "output_type": "execute_result"
    }
   ],
   "source": [
    "target_test = pd.DataFrame(data = df_full, columns= ['rougher.output.recovery', 'final.output.recovery'], index=df_test.index)\n",
    "target_test"
   ]
  },
  {
   "cell_type": "code",
   "execution_count": 11,
   "metadata": {},
   "outputs": [
    {
     "data": {
      "text/html": [
       "<div>\n",
       "<style scoped>\n",
       "    .dataframe tbody tr th:only-of-type {\n",
       "        vertical-align: middle;\n",
       "    }\n",
       "\n",
       "    .dataframe tbody tr th {\n",
       "        vertical-align: top;\n",
       "    }\n",
       "\n",
       "    .dataframe thead th {\n",
       "        text-align: right;\n",
       "    }\n",
       "</style>\n",
       "<table border=\"1\" class=\"dataframe\">\n",
       "  <thead>\n",
       "    <tr style=\"text-align: right;\">\n",
       "      <th></th>\n",
       "      <th>rougher.input.feed_au</th>\n",
       "      <th>rougher.input.feed_ag</th>\n",
       "      <th>rougher.input.feed_pb</th>\n",
       "      <th>rougher.input.feed_sol</th>\n",
       "      <th>rougher.input.feed_rate</th>\n",
       "      <th>rougher.input.feed_size</th>\n",
       "      <th>rougher.input.floatbank10_sulfate</th>\n",
       "      <th>rougher.input.floatbank10_xanthate</th>\n",
       "      <th>rougher.state.floatbank10_a_air</th>\n",
       "      <th>rougher.state.floatbank10_a_level</th>\n",
       "      <th>...</th>\n",
       "      <th>secondary_cleaner.state.floatbank4_b_air</th>\n",
       "      <th>secondary_cleaner.state.floatbank4_b_level</th>\n",
       "      <th>secondary_cleaner.state.floatbank5_a_air</th>\n",
       "      <th>secondary_cleaner.state.floatbank5_a_level</th>\n",
       "      <th>secondary_cleaner.state.floatbank5_b_air</th>\n",
       "      <th>secondary_cleaner.state.floatbank5_b_level</th>\n",
       "      <th>secondary_cleaner.state.floatbank6_a_air</th>\n",
       "      <th>secondary_cleaner.state.floatbank6_a_level</th>\n",
       "      <th>rougher.output.recovery</th>\n",
       "      <th>final.output.recovery</th>\n",
       "    </tr>\n",
       "    <tr>\n",
       "      <th>date</th>\n",
       "      <th></th>\n",
       "      <th></th>\n",
       "      <th></th>\n",
       "      <th></th>\n",
       "      <th></th>\n",
       "      <th></th>\n",
       "      <th></th>\n",
       "      <th></th>\n",
       "      <th></th>\n",
       "      <th></th>\n",
       "      <th></th>\n",
       "      <th></th>\n",
       "      <th></th>\n",
       "      <th></th>\n",
       "      <th></th>\n",
       "      <th></th>\n",
       "      <th></th>\n",
       "      <th></th>\n",
       "      <th></th>\n",
       "      <th></th>\n",
       "      <th></th>\n",
       "    </tr>\n",
       "  </thead>\n",
       "  <tbody>\n",
       "    <tr>\n",
       "      <th>2017-12-09 14:59:59</th>\n",
       "      <td>4.365491</td>\n",
       "      <td>6.158718</td>\n",
       "      <td>3.875727</td>\n",
       "      <td>39.135119</td>\n",
       "      <td>555.820208</td>\n",
       "      <td>94.544358</td>\n",
       "      <td>6.146982</td>\n",
       "      <td>9.308612</td>\n",
       "      <td>1196.238112</td>\n",
       "      <td>-299.862743</td>\n",
       "      <td>...</td>\n",
       "      <td>20.020205</td>\n",
       "      <td>-500.220296</td>\n",
       "      <td>17.963512</td>\n",
       "      <td>-499.939490</td>\n",
       "      <td>12.990306</td>\n",
       "      <td>-500.080993</td>\n",
       "      <td>19.990336</td>\n",
       "      <td>-499.191575</td>\n",
       "      <td>89.514960</td>\n",
       "      <td>70.281454</td>\n",
       "    </tr>\n",
       "    <tr>\n",
       "      <th>2017-12-09 15:59:59</th>\n",
       "      <td>4.362781</td>\n",
       "      <td>6.048130</td>\n",
       "      <td>3.902537</td>\n",
       "      <td>39.713906</td>\n",
       "      <td>544.731687</td>\n",
       "      <td>123.742430</td>\n",
       "      <td>6.210119</td>\n",
       "      <td>9.297709</td>\n",
       "      <td>1201.904177</td>\n",
       "      <td>-299.907308</td>\n",
       "      <td>...</td>\n",
       "      <td>20.054122</td>\n",
       "      <td>-500.314711</td>\n",
       "      <td>17.979515</td>\n",
       "      <td>-499.272871</td>\n",
       "      <td>12.992404</td>\n",
       "      <td>-499.976268</td>\n",
       "      <td>20.013986</td>\n",
       "      <td>-500.625471</td>\n",
       "      <td>89.858126</td>\n",
       "      <td>65.523246</td>\n",
       "    </tr>\n",
       "    <tr>\n",
       "      <th>2017-12-09 16:59:59</th>\n",
       "      <td>5.081681</td>\n",
       "      <td>6.082745</td>\n",
       "      <td>4.564078</td>\n",
       "      <td>37.208683</td>\n",
       "      <td>558.155110</td>\n",
       "      <td>82.610855</td>\n",
       "      <td>7.363824</td>\n",
       "      <td>9.003562</td>\n",
       "      <td>1200.826926</td>\n",
       "      <td>-300.124116</td>\n",
       "      <td>...</td>\n",
       "      <td>20.029144</td>\n",
       "      <td>-500.000662</td>\n",
       "      <td>18.012723</td>\n",
       "      <td>-500.024764</td>\n",
       "      <td>13.016445</td>\n",
       "      <td>-500.058432</td>\n",
       "      <td>19.973767</td>\n",
       "      <td>-501.394155</td>\n",
       "      <td>91.816623</td>\n",
       "      <td>74.817644</td>\n",
       "    </tr>\n",
       "    <tr>\n",
       "      <th>2017-12-09 17:59:59</th>\n",
       "      <td>5.145949</td>\n",
       "      <td>6.084374</td>\n",
       "      <td>4.768124</td>\n",
       "      <td>36.808874</td>\n",
       "      <td>539.713765</td>\n",
       "      <td>77.984784</td>\n",
       "      <td>6.927072</td>\n",
       "      <td>8.955597</td>\n",
       "      <td>1199.292489</td>\n",
       "      <td>-299.778385</td>\n",
       "      <td>...</td>\n",
       "      <td>19.977466</td>\n",
       "      <td>-500.159903</td>\n",
       "      <td>17.980463</td>\n",
       "      <td>-500.504602</td>\n",
       "      <td>12.949071</td>\n",
       "      <td>-500.009937</td>\n",
       "      <td>20.010332</td>\n",
       "      <td>-508.337973</td>\n",
       "      <td>88.478959</td>\n",
       "      <td>63.082720</td>\n",
       "    </tr>\n",
       "    <tr>\n",
       "      <th>2017-12-09 18:59:59</th>\n",
       "      <td>5.735249</td>\n",
       "      <td>6.165220</td>\n",
       "      <td>4.512346</td>\n",
       "      <td>37.810642</td>\n",
       "      <td>558.713584</td>\n",
       "      <td>86.434874</td>\n",
       "      <td>7.823471</td>\n",
       "      <td>7.490356</td>\n",
       "      <td>1198.005449</td>\n",
       "      <td>-300.283401</td>\n",
       "      <td>...</td>\n",
       "      <td>20.023735</td>\n",
       "      <td>-499.713680</td>\n",
       "      <td>17.990955</td>\n",
       "      <td>-500.334769</td>\n",
       "      <td>13.007523</td>\n",
       "      <td>-499.968459</td>\n",
       "      <td>19.995999</td>\n",
       "      <td>-499.788805</td>\n",
       "      <td>89.230316</td>\n",
       "      <td>74.463380</td>\n",
       "    </tr>\n",
       "    <tr>\n",
       "      <th>...</th>\n",
       "      <td>...</td>\n",
       "      <td>...</td>\n",
       "      <td>...</td>\n",
       "      <td>...</td>\n",
       "      <td>...</td>\n",
       "      <td>...</td>\n",
       "      <td>...</td>\n",
       "      <td>...</td>\n",
       "      <td>...</td>\n",
       "      <td>...</td>\n",
       "      <td>...</td>\n",
       "      <td>...</td>\n",
       "      <td>...</td>\n",
       "      <td>...</td>\n",
       "      <td>...</td>\n",
       "      <td>...</td>\n",
       "      <td>...</td>\n",
       "      <td>...</td>\n",
       "      <td>...</td>\n",
       "      <td>...</td>\n",
       "      <td>...</td>\n",
       "    </tr>\n",
       "    <tr>\n",
       "      <th>2018-08-18 06:59:59</th>\n",
       "      <td>6.620245</td>\n",
       "      <td>5.992592</td>\n",
       "      <td>2.589242</td>\n",
       "      <td>39.934641</td>\n",
       "      <td>578.654582</td>\n",
       "      <td>63.473450</td>\n",
       "      <td>14.688804</td>\n",
       "      <td>6.898599</td>\n",
       "      <td>999.688257</td>\n",
       "      <td>-399.217124</td>\n",
       "      <td>...</td>\n",
       "      <td>12.016724</td>\n",
       "      <td>-501.136446</td>\n",
       "      <td>10.041864</td>\n",
       "      <td>-499.338844</td>\n",
       "      <td>8.007022</td>\n",
       "      <td>-500.279583</td>\n",
       "      <td>14.001271</td>\n",
       "      <td>-602.072365</td>\n",
       "      <td>85.462226</td>\n",
       "      <td>68.786981</td>\n",
       "    </tr>\n",
       "    <tr>\n",
       "      <th>2018-08-18 07:59:59</th>\n",
       "      <td>6.741324</td>\n",
       "      <td>6.158617</td>\n",
       "      <td>2.647185</td>\n",
       "      <td>40.176307</td>\n",
       "      <td>571.622005</td>\n",
       "      <td>62.815291</td>\n",
       "      <td>14.892720</td>\n",
       "      <td>6.903204</td>\n",
       "      <td>1000.479783</td>\n",
       "      <td>-399.574748</td>\n",
       "      <td>...</td>\n",
       "      <td>11.966426</td>\n",
       "      <td>-500.656842</td>\n",
       "      <td>10.051620</td>\n",
       "      <td>-498.318772</td>\n",
       "      <td>8.018091</td>\n",
       "      <td>-499.696138</td>\n",
       "      <td>13.958937</td>\n",
       "      <td>-599.213013</td>\n",
       "      <td>85.443505</td>\n",
       "      <td>67.839536</td>\n",
       "    </tr>\n",
       "    <tr>\n",
       "      <th>2018-08-18 08:59:59</th>\n",
       "      <td>6.627458</td>\n",
       "      <td>6.015149</td>\n",
       "      <td>2.466127</td>\n",
       "      <td>39.841423</td>\n",
       "      <td>563.733146</td>\n",
       "      <td>61.287347</td>\n",
       "      <td>13.723692</td>\n",
       "      <td>6.700148</td>\n",
       "      <td>1000.014718</td>\n",
       "      <td>-400.320877</td>\n",
       "      <td>...</td>\n",
       "      <td>11.980055</td>\n",
       "      <td>-500.607751</td>\n",
       "      <td>9.964501</td>\n",
       "      <td>-499.261719</td>\n",
       "      <td>8.065048</td>\n",
       "      <td>-499.492395</td>\n",
       "      <td>13.997801</td>\n",
       "      <td>-600.621416</td>\n",
       "      <td>87.235441</td>\n",
       "      <td>70.847012</td>\n",
       "    </tr>\n",
       "    <tr>\n",
       "      <th>2018-08-18 09:59:59</th>\n",
       "      <td>6.702243</td>\n",
       "      <td>6.097592</td>\n",
       "      <td>2.278955</td>\n",
       "      <td>37.728375</td>\n",
       "      <td>549.812490</td>\n",
       "      <td>59.637037</td>\n",
       "      <td>13.746510</td>\n",
       "      <td>6.706417</td>\n",
       "      <td>999.635748</td>\n",
       "      <td>-399.484884</td>\n",
       "      <td>...</td>\n",
       "      <td>11.928745</td>\n",
       "      <td>-500.583183</td>\n",
       "      <td>9.970359</td>\n",
       "      <td>-498.822343</td>\n",
       "      <td>8.016377</td>\n",
       "      <td>-499.013145</td>\n",
       "      <td>14.000032</td>\n",
       "      <td>-600.024741</td>\n",
       "      <td>89.299981</td>\n",
       "      <td>72.659046</td>\n",
       "    </tr>\n",
       "    <tr>\n",
       "      <th>2018-08-18 10:59:59</th>\n",
       "      <td>6.633002</td>\n",
       "      <td>5.908793</td>\n",
       "      <td>2.440899</td>\n",
       "      <td>36.958540</td>\n",
       "      <td>573.076049</td>\n",
       "      <td>58.509262</td>\n",
       "      <td>13.707775</td>\n",
       "      <td>6.820245</td>\n",
       "      <td>1000.589156</td>\n",
       "      <td>-398.879586</td>\n",
       "      <td>...</td>\n",
       "      <td>12.052233</td>\n",
       "      <td>-500.928547</td>\n",
       "      <td>9.962574</td>\n",
       "      <td>-502.986357</td>\n",
       "      <td>7.979219</td>\n",
       "      <td>-500.146835</td>\n",
       "      <td>13.981614</td>\n",
       "      <td>-598.070855</td>\n",
       "      <td>87.650868</td>\n",
       "      <td>70.279619</td>\n",
       "    </tr>\n",
       "  </tbody>\n",
       "</table>\n",
       "<p>4860 rows × 54 columns</p>\n",
       "</div>"
      ],
      "text/plain": [
       "                     rougher.input.feed_au  rougher.input.feed_ag  \\\n",
       "date                                                                \n",
       "2017-12-09 14:59:59               4.365491               6.158718   \n",
       "2017-12-09 15:59:59               4.362781               6.048130   \n",
       "2017-12-09 16:59:59               5.081681               6.082745   \n",
       "2017-12-09 17:59:59               5.145949               6.084374   \n",
       "2017-12-09 18:59:59               5.735249               6.165220   \n",
       "...                                    ...                    ...   \n",
       "2018-08-18 06:59:59               6.620245               5.992592   \n",
       "2018-08-18 07:59:59               6.741324               6.158617   \n",
       "2018-08-18 08:59:59               6.627458               6.015149   \n",
       "2018-08-18 09:59:59               6.702243               6.097592   \n",
       "2018-08-18 10:59:59               6.633002               5.908793   \n",
       "\n",
       "                     rougher.input.feed_pb  rougher.input.feed_sol  \\\n",
       "date                                                                 \n",
       "2017-12-09 14:59:59               3.875727               39.135119   \n",
       "2017-12-09 15:59:59               3.902537               39.713906   \n",
       "2017-12-09 16:59:59               4.564078               37.208683   \n",
       "2017-12-09 17:59:59               4.768124               36.808874   \n",
       "2017-12-09 18:59:59               4.512346               37.810642   \n",
       "...                                    ...                     ...   \n",
       "2018-08-18 06:59:59               2.589242               39.934641   \n",
       "2018-08-18 07:59:59               2.647185               40.176307   \n",
       "2018-08-18 08:59:59               2.466127               39.841423   \n",
       "2018-08-18 09:59:59               2.278955               37.728375   \n",
       "2018-08-18 10:59:59               2.440899               36.958540   \n",
       "\n",
       "                     rougher.input.feed_rate  rougher.input.feed_size  \\\n",
       "date                                                                    \n",
       "2017-12-09 14:59:59               555.820208                94.544358   \n",
       "2017-12-09 15:59:59               544.731687               123.742430   \n",
       "2017-12-09 16:59:59               558.155110                82.610855   \n",
       "2017-12-09 17:59:59               539.713765                77.984784   \n",
       "2017-12-09 18:59:59               558.713584                86.434874   \n",
       "...                                      ...                      ...   \n",
       "2018-08-18 06:59:59               578.654582                63.473450   \n",
       "2018-08-18 07:59:59               571.622005                62.815291   \n",
       "2018-08-18 08:59:59               563.733146                61.287347   \n",
       "2018-08-18 09:59:59               549.812490                59.637037   \n",
       "2018-08-18 10:59:59               573.076049                58.509262   \n",
       "\n",
       "                     rougher.input.floatbank10_sulfate  \\\n",
       "date                                                     \n",
       "2017-12-09 14:59:59                           6.146982   \n",
       "2017-12-09 15:59:59                           6.210119   \n",
       "2017-12-09 16:59:59                           7.363824   \n",
       "2017-12-09 17:59:59                           6.927072   \n",
       "2017-12-09 18:59:59                           7.823471   \n",
       "...                                                ...   \n",
       "2018-08-18 06:59:59                          14.688804   \n",
       "2018-08-18 07:59:59                          14.892720   \n",
       "2018-08-18 08:59:59                          13.723692   \n",
       "2018-08-18 09:59:59                          13.746510   \n",
       "2018-08-18 10:59:59                          13.707775   \n",
       "\n",
       "                     rougher.input.floatbank10_xanthate  \\\n",
       "date                                                      \n",
       "2017-12-09 14:59:59                            9.308612   \n",
       "2017-12-09 15:59:59                            9.297709   \n",
       "2017-12-09 16:59:59                            9.003562   \n",
       "2017-12-09 17:59:59                            8.955597   \n",
       "2017-12-09 18:59:59                            7.490356   \n",
       "...                                                 ...   \n",
       "2018-08-18 06:59:59                            6.898599   \n",
       "2018-08-18 07:59:59                            6.903204   \n",
       "2018-08-18 08:59:59                            6.700148   \n",
       "2018-08-18 09:59:59                            6.706417   \n",
       "2018-08-18 10:59:59                            6.820245   \n",
       "\n",
       "                     rougher.state.floatbank10_a_air  \\\n",
       "date                                                   \n",
       "2017-12-09 14:59:59                      1196.238112   \n",
       "2017-12-09 15:59:59                      1201.904177   \n",
       "2017-12-09 16:59:59                      1200.826926   \n",
       "2017-12-09 17:59:59                      1199.292489   \n",
       "2017-12-09 18:59:59                      1198.005449   \n",
       "...                                              ...   \n",
       "2018-08-18 06:59:59                       999.688257   \n",
       "2018-08-18 07:59:59                      1000.479783   \n",
       "2018-08-18 08:59:59                      1000.014718   \n",
       "2018-08-18 09:59:59                       999.635748   \n",
       "2018-08-18 10:59:59                      1000.589156   \n",
       "\n",
       "                     rougher.state.floatbank10_a_level  ...  \\\n",
       "date                                                    ...   \n",
       "2017-12-09 14:59:59                        -299.862743  ...   \n",
       "2017-12-09 15:59:59                        -299.907308  ...   \n",
       "2017-12-09 16:59:59                        -300.124116  ...   \n",
       "2017-12-09 17:59:59                        -299.778385  ...   \n",
       "2017-12-09 18:59:59                        -300.283401  ...   \n",
       "...                                                ...  ...   \n",
       "2018-08-18 06:59:59                        -399.217124  ...   \n",
       "2018-08-18 07:59:59                        -399.574748  ...   \n",
       "2018-08-18 08:59:59                        -400.320877  ...   \n",
       "2018-08-18 09:59:59                        -399.484884  ...   \n",
       "2018-08-18 10:59:59                        -398.879586  ...   \n",
       "\n",
       "                     secondary_cleaner.state.floatbank4_b_air  \\\n",
       "date                                                            \n",
       "2017-12-09 14:59:59                                 20.020205   \n",
       "2017-12-09 15:59:59                                 20.054122   \n",
       "2017-12-09 16:59:59                                 20.029144   \n",
       "2017-12-09 17:59:59                                 19.977466   \n",
       "2017-12-09 18:59:59                                 20.023735   \n",
       "...                                                       ...   \n",
       "2018-08-18 06:59:59                                 12.016724   \n",
       "2018-08-18 07:59:59                                 11.966426   \n",
       "2018-08-18 08:59:59                                 11.980055   \n",
       "2018-08-18 09:59:59                                 11.928745   \n",
       "2018-08-18 10:59:59                                 12.052233   \n",
       "\n",
       "                     secondary_cleaner.state.floatbank4_b_level  \\\n",
       "date                                                              \n",
       "2017-12-09 14:59:59                                 -500.220296   \n",
       "2017-12-09 15:59:59                                 -500.314711   \n",
       "2017-12-09 16:59:59                                 -500.000662   \n",
       "2017-12-09 17:59:59                                 -500.159903   \n",
       "2017-12-09 18:59:59                                 -499.713680   \n",
       "...                                                         ...   \n",
       "2018-08-18 06:59:59                                 -501.136446   \n",
       "2018-08-18 07:59:59                                 -500.656842   \n",
       "2018-08-18 08:59:59                                 -500.607751   \n",
       "2018-08-18 09:59:59                                 -500.583183   \n",
       "2018-08-18 10:59:59                                 -500.928547   \n",
       "\n",
       "                     secondary_cleaner.state.floatbank5_a_air  \\\n",
       "date                                                            \n",
       "2017-12-09 14:59:59                                 17.963512   \n",
       "2017-12-09 15:59:59                                 17.979515   \n",
       "2017-12-09 16:59:59                                 18.012723   \n",
       "2017-12-09 17:59:59                                 17.980463   \n",
       "2017-12-09 18:59:59                                 17.990955   \n",
       "...                                                       ...   \n",
       "2018-08-18 06:59:59                                 10.041864   \n",
       "2018-08-18 07:59:59                                 10.051620   \n",
       "2018-08-18 08:59:59                                  9.964501   \n",
       "2018-08-18 09:59:59                                  9.970359   \n",
       "2018-08-18 10:59:59                                  9.962574   \n",
       "\n",
       "                     secondary_cleaner.state.floatbank5_a_level  \\\n",
       "date                                                              \n",
       "2017-12-09 14:59:59                                 -499.939490   \n",
       "2017-12-09 15:59:59                                 -499.272871   \n",
       "2017-12-09 16:59:59                                 -500.024764   \n",
       "2017-12-09 17:59:59                                 -500.504602   \n",
       "2017-12-09 18:59:59                                 -500.334769   \n",
       "...                                                         ...   \n",
       "2018-08-18 06:59:59                                 -499.338844   \n",
       "2018-08-18 07:59:59                                 -498.318772   \n",
       "2018-08-18 08:59:59                                 -499.261719   \n",
       "2018-08-18 09:59:59                                 -498.822343   \n",
       "2018-08-18 10:59:59                                 -502.986357   \n",
       "\n",
       "                     secondary_cleaner.state.floatbank5_b_air  \\\n",
       "date                                                            \n",
       "2017-12-09 14:59:59                                 12.990306   \n",
       "2017-12-09 15:59:59                                 12.992404   \n",
       "2017-12-09 16:59:59                                 13.016445   \n",
       "2017-12-09 17:59:59                                 12.949071   \n",
       "2017-12-09 18:59:59                                 13.007523   \n",
       "...                                                       ...   \n",
       "2018-08-18 06:59:59                                  8.007022   \n",
       "2018-08-18 07:59:59                                  8.018091   \n",
       "2018-08-18 08:59:59                                  8.065048   \n",
       "2018-08-18 09:59:59                                  8.016377   \n",
       "2018-08-18 10:59:59                                  7.979219   \n",
       "\n",
       "                     secondary_cleaner.state.floatbank5_b_level  \\\n",
       "date                                                              \n",
       "2017-12-09 14:59:59                                 -500.080993   \n",
       "2017-12-09 15:59:59                                 -499.976268   \n",
       "2017-12-09 16:59:59                                 -500.058432   \n",
       "2017-12-09 17:59:59                                 -500.009937   \n",
       "2017-12-09 18:59:59                                 -499.968459   \n",
       "...                                                         ...   \n",
       "2018-08-18 06:59:59                                 -500.279583   \n",
       "2018-08-18 07:59:59                                 -499.696138   \n",
       "2018-08-18 08:59:59                                 -499.492395   \n",
       "2018-08-18 09:59:59                                 -499.013145   \n",
       "2018-08-18 10:59:59                                 -500.146835   \n",
       "\n",
       "                     secondary_cleaner.state.floatbank6_a_air  \\\n",
       "date                                                            \n",
       "2017-12-09 14:59:59                                 19.990336   \n",
       "2017-12-09 15:59:59                                 20.013986   \n",
       "2017-12-09 16:59:59                                 19.973767   \n",
       "2017-12-09 17:59:59                                 20.010332   \n",
       "2017-12-09 18:59:59                                 19.995999   \n",
       "...                                                       ...   \n",
       "2018-08-18 06:59:59                                 14.001271   \n",
       "2018-08-18 07:59:59                                 13.958937   \n",
       "2018-08-18 08:59:59                                 13.997801   \n",
       "2018-08-18 09:59:59                                 14.000032   \n",
       "2018-08-18 10:59:59                                 13.981614   \n",
       "\n",
       "                     secondary_cleaner.state.floatbank6_a_level  \\\n",
       "date                                                              \n",
       "2017-12-09 14:59:59                                 -499.191575   \n",
       "2017-12-09 15:59:59                                 -500.625471   \n",
       "2017-12-09 16:59:59                                 -501.394155   \n",
       "2017-12-09 17:59:59                                 -508.337973   \n",
       "2017-12-09 18:59:59                                 -499.788805   \n",
       "...                                                         ...   \n",
       "2018-08-18 06:59:59                                 -602.072365   \n",
       "2018-08-18 07:59:59                                 -599.213013   \n",
       "2018-08-18 08:59:59                                 -600.621416   \n",
       "2018-08-18 09:59:59                                 -600.024741   \n",
       "2018-08-18 10:59:59                                 -598.070855   \n",
       "\n",
       "                     rougher.output.recovery  final.output.recovery  \n",
       "date                                                                 \n",
       "2017-12-09 14:59:59                89.514960              70.281454  \n",
       "2017-12-09 15:59:59                89.858126              65.523246  \n",
       "2017-12-09 16:59:59                91.816623              74.817644  \n",
       "2017-12-09 17:59:59                88.478959              63.082720  \n",
       "2017-12-09 18:59:59                89.230316              74.463380  \n",
       "...                                      ...                    ...  \n",
       "2018-08-18 06:59:59                85.462226              68.786981  \n",
       "2018-08-18 07:59:59                85.443505              67.839536  \n",
       "2018-08-18 08:59:59                87.235441              70.847012  \n",
       "2018-08-18 09:59:59                89.299981              72.659046  \n",
       "2018-08-18 10:59:59                87.650868              70.279619  \n",
       "\n",
       "[4860 rows x 54 columns]"
      ]
     },
     "execution_count": 11,
     "metadata": {},
     "output_type": "execute_result"
    }
   ],
   "source": [
    "df_test = df_test.join(target_test)\n",
    "df_test"
   ]
  },
  {
   "cell_type": "markdown",
   "metadata": {},
   "source": [
    "**Заполним пропуски в df_train**"
   ]
  },
  {
   "cell_type": "markdown",
   "metadata": {},
   "source": [
    "Так как, в описании проекта сказано, что соседние по времени параметры часто похожи, заменим пропуски предыдущими непропущенными значениями."
   ]
  },
  {
   "cell_type": "code",
   "execution_count": 12,
   "metadata": {},
   "outputs": [
    {
     "name": "stdout",
     "output_type": "stream",
     "text": [
      "<class 'pandas.core.frame.DataFrame'>\n",
      "Index: 14579 entries, 2016-01-15 00:00:00 to 2017-12-09 13:59:59\n",
      "Data columns (total 86 columns):\n",
      " #   Column                                              Non-Null Count  Dtype  \n",
      "---  ------                                              --------------  -----  \n",
      " 0   rougher.input.feed_au                               14579 non-null  float64\n",
      " 1   rougher.input.feed_ag                               14579 non-null  float64\n",
      " 2   rougher.input.feed_pb                               14579 non-null  float64\n",
      " 3   rougher.input.feed_sol                              14579 non-null  float64\n",
      " 4   rougher.input.feed_rate                             14579 non-null  float64\n",
      " 5   rougher.input.feed_size                             14579 non-null  float64\n",
      " 6   rougher.input.floatbank10_sulfate                   14579 non-null  float64\n",
      " 7   rougher.input.floatbank10_xanthate                  14579 non-null  float64\n",
      " 8   rougher.state.floatbank10_a_air                     14579 non-null  float64\n",
      " 9   rougher.state.floatbank10_a_level                   14579 non-null  float64\n",
      " 10  rougher.state.floatbank10_b_air                     14579 non-null  float64\n",
      " 11  rougher.state.floatbank10_b_level                   14579 non-null  float64\n",
      " 12  rougher.state.floatbank10_c_air                     14579 non-null  float64\n",
      " 13  rougher.state.floatbank10_c_level                   14579 non-null  float64\n",
      " 14  rougher.state.floatbank10_d_air                     14579 non-null  float64\n",
      " 15  rougher.state.floatbank10_d_level                   14579 non-null  float64\n",
      " 16  rougher.state.floatbank10_e_air                     14579 non-null  float64\n",
      " 17  rougher.state.floatbank10_e_level                   14579 non-null  float64\n",
      " 18  rougher.state.floatbank10_f_air                     14579 non-null  float64\n",
      " 19  rougher.state.floatbank10_f_level                   14579 non-null  float64\n",
      " 20  rougher.input.floatbank11_sulfate                   14579 non-null  float64\n",
      " 21  rougher.input.floatbank11_xanthate                  14579 non-null  float64\n",
      " 22  rougher.calculation.sulfate_to_au_concentrate       14579 non-null  float64\n",
      " 23  rougher.calculation.floatbank10_sulfate_to_au_feed  14579 non-null  float64\n",
      " 24  rougher.calculation.floatbank11_sulfate_to_au_feed  14579 non-null  float64\n",
      " 25  rougher.calculation.au_pb_ratio                     14579 non-null  float64\n",
      " 26  rougher.output.concentrate_au                       14579 non-null  float64\n",
      " 27  rougher.output.concentrate_ag                       14579 non-null  float64\n",
      " 28  rougher.output.concentrate_pb                       14579 non-null  float64\n",
      " 29  rougher.output.concentrate_sol                      14579 non-null  float64\n",
      " 30  rougher.output.recovery                             14579 non-null  float64\n",
      " 31  rougher.output.tail_au                              14579 non-null  float64\n",
      " 32  rougher.output.tail_ag                              14579 non-null  float64\n",
      " 33  rougher.output.tail_pb                              14579 non-null  float64\n",
      " 34  rougher.output.tail_sol                             14579 non-null  float64\n",
      " 35  primary_cleaner.input.sulfate                       14579 non-null  float64\n",
      " 36  primary_cleaner.input.depressant                    14579 non-null  float64\n",
      " 37  primary_cleaner.input.feed_size                     14579 non-null  float64\n",
      " 38  primary_cleaner.input.xanthate                      14579 non-null  float64\n",
      " 39  primary_cleaner.state.floatbank8_a_air              14579 non-null  float64\n",
      " 40  primary_cleaner.state.floatbank8_a_level            14579 non-null  float64\n",
      " 41  primary_cleaner.state.floatbank8_b_air              14579 non-null  float64\n",
      " 42  primary_cleaner.state.floatbank8_b_level            14579 non-null  float64\n",
      " 43  primary_cleaner.state.floatbank8_c_air              14579 non-null  float64\n",
      " 44  primary_cleaner.state.floatbank8_c_level            14579 non-null  float64\n",
      " 45  primary_cleaner.state.floatbank8_d_air              14579 non-null  float64\n",
      " 46  primary_cleaner.state.floatbank8_d_level            14579 non-null  float64\n",
      " 47  primary_cleaner.output.concentrate_au               14579 non-null  float64\n",
      " 48  primary_cleaner.output.concentrate_ag               14579 non-null  float64\n",
      " 49  primary_cleaner.output.concentrate_pb               14579 non-null  float64\n",
      " 50  primary_cleaner.output.concentrate_sol              14579 non-null  float64\n",
      " 51  primary_cleaner.output.tail_au                      14579 non-null  float64\n",
      " 52  primary_cleaner.output.tail_ag                      14579 non-null  float64\n",
      " 53  primary_cleaner.output.tail_pb                      14579 non-null  float64\n",
      " 54  primary_cleaner.output.tail_sol                     14579 non-null  float64\n",
      " 55  secondary_cleaner.state.floatbank2_a_air            14579 non-null  float64\n",
      " 56  secondary_cleaner.state.floatbank2_a_level          14579 non-null  float64\n",
      " 57  secondary_cleaner.state.floatbank2_b_air            14579 non-null  float64\n",
      " 58  secondary_cleaner.state.floatbank2_b_level          14579 non-null  float64\n",
      " 59  secondary_cleaner.state.floatbank3_a_air            14579 non-null  float64\n",
      " 60  secondary_cleaner.state.floatbank3_a_level          14579 non-null  float64\n",
      " 61  secondary_cleaner.state.floatbank3_b_air            14579 non-null  float64\n",
      " 62  secondary_cleaner.state.floatbank3_b_level          14579 non-null  float64\n",
      " 63  secondary_cleaner.state.floatbank4_a_air            14579 non-null  float64\n",
      " 64  secondary_cleaner.state.floatbank4_a_level          14579 non-null  float64\n",
      " 65  secondary_cleaner.state.floatbank4_b_air            14579 non-null  float64\n",
      " 66  secondary_cleaner.state.floatbank4_b_level          14579 non-null  float64\n",
      " 67  secondary_cleaner.state.floatbank5_a_air            14579 non-null  float64\n",
      " 68  secondary_cleaner.state.floatbank5_a_level          14579 non-null  float64\n",
      " 69  secondary_cleaner.state.floatbank5_b_air            14579 non-null  float64\n",
      " 70  secondary_cleaner.state.floatbank5_b_level          14579 non-null  float64\n",
      " 71  secondary_cleaner.state.floatbank6_a_air            14579 non-null  float64\n",
      " 72  secondary_cleaner.state.floatbank6_a_level          14579 non-null  float64\n",
      " 73  secondary_cleaner.output.tail_au                    14579 non-null  float64\n",
      " 74  secondary_cleaner.output.tail_ag                    14579 non-null  float64\n",
      " 75  secondary_cleaner.output.tail_pb                    14579 non-null  float64\n",
      " 76  secondary_cleaner.output.tail_sol                   14579 non-null  float64\n",
      " 77  final.output.concentrate_au                         14579 non-null  float64\n",
      " 78  final.output.concentrate_ag                         14579 non-null  float64\n",
      " 79  final.output.concentrate_pb                         14579 non-null  float64\n",
      " 80  final.output.concentrate_sol                        14579 non-null  float64\n",
      " 81  final.output.recovery                               14579 non-null  float64\n",
      " 82  final.output.tail_au                                14579 non-null  float64\n",
      " 83  final.output.tail_ag                                14579 non-null  float64\n",
      " 84  final.output.tail_pb                                14579 non-null  float64\n",
      " 85  final.output.tail_sol                               14579 non-null  float64\n",
      "dtypes: float64(86)\n",
      "memory usage: 9.7+ MB\n"
     ]
    }
   ],
   "source": [
    "df_train=df_train.fillna(method='ffill')\n",
    "df_train.info()"
   ]
  },
  {
   "cell_type": "markdown",
   "metadata": {},
   "source": [
    "## Анализ данных"
   ]
  },
  {
   "cell_type": "markdown",
   "metadata": {},
   "source": [
    "### Посмотрим, как меняется концентрация металлов на различных этапах"
   ]
  },
  {
   "cell_type": "markdown",
   "metadata": {},
   "source": [
    "#### Концентрация золота"
   ]
  },
  {
   "cell_type": "code",
   "execution_count": 13,
   "metadata": {},
   "outputs": [
    {
     "data": {
      "image/png": "[encoded data removed]",
      "text/plain": [
       "<Figure size 720x720 with 4 Axes>"
      ]
     },
     "metadata": {
      "needs_background": "light"
     },
     "output_type": "display_data"
    }
   ],
   "source": [
    "df_train[['rougher.input.feed_au','rougher.output.concentrate_au',\\\n",
    "          'primary_cleaner.output.concentrate_au', 'final.output.concentrate_au']].hist(figsize=(10,10));"
   ]
  },
  {
   "cell_type": "markdown",
   "metadata": {},
   "source": [
    "#### Концентрация серебра"
   ]
  },
  {
   "cell_type": "code",
   "execution_count": 14,
   "metadata": {},
   "outputs": [
    {
     "data": {
      "image/png": "[encoded data removed]",
      "text/plain": [
       "<Figure size 720x720 with 4 Axes>"
      ]
     },
     "metadata": {
      "needs_background": "light"
     },
     "output_type": "display_data"
    }
   ],
   "source": [
    "df_train[['rougher.input.feed_ag','rougher.output.concentrate_ag',\\\n",
    "          'primary_cleaner.output.concentrate_ag', 'final.output.concentrate_ag']].hist(figsize=(10,10));"
   ]
  },
  {
   "cell_type": "markdown",
   "metadata": {},
   "source": [
    "#### Концентрация свинца"
   ]
  },
  {
   "cell_type": "code",
   "execution_count": 15,
   "metadata": {},
   "outputs": [
    {
     "data": {
      "image/png": "[encoded data removed]",
      "text/plain": [
       "<Figure size 720x720 with 4 Axes>"
      ]
     },
     "metadata": {
      "needs_background": "light"
     },
     "output_type": "display_data"
    }
   ],
   "source": [
    "df_train[['rougher.input.feed_pb','rougher.output.concentrate_pb',\\\n",
    "          'primary_cleaner.output.concentrate_pb', 'final.output.concentrate_pb']].hist(figsize=(10,10));"
   ]
  },
  {
   "cell_type": "code",
   "execution_count": 16,
   "metadata": {
    "scrolled": true
   },
   "outputs": [
    {
     "name": "stdout",
     "output_type": "stream",
     "text": [
      "Концентрация металлов в сырье:\n",
      "Золота:  8.35, Серебра:  8.88, Свинца:  3.59\n",
      "\n",
      "Концентрация металлов в черновом концентрате:\n",
      "Золота:  19.72, Серебра:  11.94, Свинца:  7.50\n",
      "\n",
      "Концентрация металлов после первой очистки:\n",
      "Золота:  32.01, Серебра:  8.47, Свинца:  9.73\n",
      "\n",
      "Концентрация металлов после второй очистки:\n",
      "Золота:  43.98, Серебра:  5.19, Свинца:  9.92\n"
     ]
    }
   ],
   "source": [
    "print('Концентрация металлов в сырье:')\n",
    "print('Золота: {: .2f}, Серебра: {: .2f}, Свинца: {: .2f}'. \\\n",
    "      format(df_train['rougher.input.feed_au'].mean(), df_train['rougher.input.feed_ag'].mean(), \\\n",
    "             df_train['rougher.input.feed_pb'].mean()))\n",
    "print('')\n",
    "print('Концентрация металлов в черновом концентрате:')\n",
    "print('Золота: {: .2f}, Серебра: {: .2f}, Свинца: {: .2f}'. \\\n",
    "      format(df_train['rougher.output.concentrate_au'].mean(), df_train['rougher.output.concentrate_ag'].mean(), \\\n",
    "             df_train['rougher.output.concentrate_pb'].mean())) \n",
    "print('')\n",
    "print('Концентрация металлов после первой очистки:')\n",
    "print('Золота: {: .2f}, Серебра: {: .2f}, Свинца: {: .2f}'. \\\n",
    "      format(df_train['primary_cleaner.output.concentrate_au'].mean(), df_train['primary_cleaner.output.concentrate_ag'].mean(), \\\n",
    "             df_train['primary_cleaner.output.concentrate_pb'].mean())) \n",
    "print('')\n",
    "print('Концентрация металлов после второй очистки:')\n",
    "print('Золота: {: .2f}, Серебра: {: .2f}, Свинца: {: .2f}'. \\\n",
    "      format(df_train['final.output.concentrate_au'].mean(), df_train['final.output.concentrate_ag'].mean(), \\\n",
    "             df_train['final.output.concentrate_pb'].mean())) "
   ]
  },
  {
   "cell_type": "markdown",
   "metadata": {},
   "source": [
    "Концентрация золота на каждом этапе возрастает, так же, как и свинца. Концентрация серебра сильно падает после второго этапа очистки. "
   ]
  },
  {
   "cell_type": "markdown",
   "metadata": {},
   "source": [
    "### Сравним распределение размеров гранул исходного сырья на обучающей и тестовой выборках"
   ]
  },
  {
   "cell_type": "code",
   "execution_count": 17,
   "metadata": {},
   "outputs": [
    {
     "data": {
      "image/png": "[encoded data removed]",
      "text/plain": [
       "<Figure size 432x288 with 1 Axes>"
      ]
     },
     "metadata": {
      "needs_background": "light"
     },
     "output_type": "display_data"
    }
   ],
   "source": [
    "plt.hist(df_train['rougher.input.feed_size'], bins=100, density=True)\n",
    "plt.hist(df_test['rougher.input.feed_size'], bins=100, density=True)\n",
    "plt.title('Распределение размеров гранул исходного сырья')\n",
    "plt.xlabel(\"Размер гранул сырья\")\n",
    "plt.ylabel(\"Количество результатов\")\n",
    "plt.show()"
   ]
  },
  {
   "cell_type": "markdown",
   "metadata": {},
   "source": [
    "Распределение гранул исходного сырья на обучающей и тестовой выборках сильно не отличаются."
   ]
  },
  {
   "cell_type": "markdown",
   "metadata": {},
   "source": [
    "### Исследуем суммарную концентрацию металлов на разных стадиях"
   ]
  },
  {
   "cell_type": "code",
   "execution_count": 18,
   "metadata": {},
   "outputs": [],
   "source": [
    "df_train['rougher.input.feed_m'] = df_train['rougher.input.feed_au'] + df_train['rougher.input.feed_ag']\\\n",
    "+ df_train['rougher.input.feed_pb']"
   ]
  },
  {
   "cell_type": "code",
   "execution_count": 19,
   "metadata": {},
   "outputs": [],
   "source": [
    "df_train['rougher.output.concentrate_m'] = df_train['rougher.output.concentrate_au'] + \\\n",
    "df_train['rougher.output.concentrate_ag'] + df_train['rougher.output.concentrate_pb']"
   ]
  },
  {
   "cell_type": "code",
   "execution_count": 20,
   "metadata": {},
   "outputs": [],
   "source": [
    "df_train['primary_cleaner.output.concentrate_m'] = df_train['primary_cleaner.output.concentrate_au'] + \\\n",
    "df_train['primary_cleaner.output.concentrate_ag'] + df_train['primary_cleaner.output.concentrate_pb']"
   ]
  },
  {
   "cell_type": "code",
   "execution_count": 21,
   "metadata": {},
   "outputs": [],
   "source": [
    "df_train['final.output.concentrate_m'] = df_train['final.output.concentrate_au'] + \\\n",
    "df_train['final.output.concentrate_ag'] + df_train['final.output.concentrate_pb']"
   ]
  },
  {
   "cell_type": "code",
   "execution_count": 22,
   "metadata": {},
   "outputs": [
    {
     "name": "stdout",
     "output_type": "stream",
     "text": [
      "Концентрация металлов в сырье:  20.82\n",
      "\n",
      "Концентрация металлов в черновом концентрате:  39.16\n",
      "\n",
      "Концентрация металлов после первой очистки:  50.21\n",
      "\n",
      "Концентрация металлов после второй очистки:  59.10\n"
     ]
    },
    {
     "data": {
      "image/png": "[encoded data removed]",
      "text/plain": [
       "<Figure size 432x288 with 1 Axes>"
      ]
     },
     "metadata": {
      "needs_background": "light"
     },
     "output_type": "display_data"
    }
   ],
   "source": [
    "print('Концентрация металлов в сырье: {: .2f}'. \\\n",
    "      format(df_train['rougher.input.feed_m'].mean()))\n",
    "print('')\n",
    "print('Концентрация металлов в черновом концентрате: {: .2f}'. \\\n",
    "      format(df_train['rougher.output.concentrate_m'].mean())) \n",
    "print('')\n",
    "print('Концентрация металлов после первой очистки: {: .2f}'. \\\n",
    "      format(df_train['primary_cleaner.output.concentrate_m'].mean())) \n",
    "print('')\n",
    "print('Концентрация металлов после второй очистки: {: .2f}'. \\\n",
    "      format(df_train['final.output.concentrate_m'].mean())) \n",
    "df_train['rougher.input.feed_m'].hist().set_title('Концентрация металлов в сырье');"
   ]
  },
  {
   "cell_type": "code",
   "execution_count": 23,
   "metadata": {},
   "outputs": [
    {
     "data": {
      "image/png": "[encoded data removed]",
      "text/plain": [
       "<Figure size 432x288 with 1 Axes>"
      ]
     },
     "metadata": {
      "needs_background": "light"
     },
     "output_type": "display_data"
    }
   ],
   "source": [
    "df_train['rougher.output.concentrate_m'].hist().set_title('Концентрация металлов в черновом концентрате');"
   ]
  },
  {
   "cell_type": "code",
   "execution_count": 24,
   "metadata": {},
   "outputs": [
    {
     "data": {
      "image/png": "[encoded data removed]",
      "text/plain": [
       "<Figure size 432x288 with 1 Axes>"
      ]
     },
     "metadata": {
      "needs_background": "light"
     },
     "output_type": "display_data"
    }
   ],
   "source": [
    "df_train['primary_cleaner.output.concentrate_m'].hist().set_title('Концентрация металлов после первой очистки');"
   ]
  },
  {
   "cell_type": "code",
   "execution_count": 25,
   "metadata": {},
   "outputs": [
    {
     "data": {
      "image/png": "[encoded data removed]",
      "text/plain": [
       "<Figure size 432x288 with 1 Axes>"
      ]
     },
     "metadata": {
      "needs_background": "light"
     },
     "output_type": "display_data"
    }
   ],
   "source": [
    "df_train['final.output.concentrate_m'].hist().set_title('Концентрация металлов после второй очистки');"
   ]
  },
  {
   "cell_type": "markdown",
   "metadata": {},
   "source": [
    "Обратим внимание на нулевые и около нулевые значения концентраций. Это явная ошибка. Скорее всего это связано со сбоем измерительного оборудования. Такие наблюдения нужно удалить."
   ]
  },
  {
   "cell_type": "code",
   "execution_count": 26,
   "metadata": {},
   "outputs": [],
   "source": [
    "df_train = df_train[df_train['rougher.output.concentrate_m'] >= 10]"
   ]
  },
  {
   "cell_type": "code",
   "execution_count": 27,
   "metadata": {},
   "outputs": [],
   "source": [
    "df_train = df_train[df_train['primary_cleaner.output.concentrate_m'] >= 10]"
   ]
  },
  {
   "cell_type": "code",
   "execution_count": 28,
   "metadata": {},
   "outputs": [],
   "source": [
    "df_train = df_train[df_train['rougher.input.feed_m'] >= 10]"
   ]
  },
  {
   "cell_type": "code",
   "execution_count": 29,
   "metadata": {},
   "outputs": [],
   "source": [
    "df_train = df_train[df_train['final.output.concentrate_m'] >= 10]"
   ]
  },
  {
   "cell_type": "markdown",
   "metadata": {},
   "source": [
    "**Построим графики по обновленным данным** "
   ]
  },
  {
   "cell_type": "code",
   "execution_count": 30,
   "metadata": {},
   "outputs": [
    {
     "data": {
      "image/png": "[encoded data removed]",
      "text/plain": [
       "<Figure size 432x288 with 1 Axes>"
      ]
     },
     "metadata": {
      "needs_background": "light"
     },
     "output_type": "display_data"
    }
   ],
   "source": [
    "df_train['rougher.input.feed_m'].hist().set_title('Концентрация металлов в сырье');"
   ]
  },
  {
   "cell_type": "code",
   "execution_count": 31,
   "metadata": {},
   "outputs": [
    {
     "data": {
      "image/png": "[encoded data removed]",
      "text/plain": [
       "<Figure size 432x288 with 1 Axes>"
      ]
     },
     "metadata": {
      "needs_background": "light"
     },
     "output_type": "display_data"
    }
   ],
   "source": [
    "df_train['rougher.output.concentrate_m'].hist().set_title('Концентрация металлов в черновом концентрате');"
   ]
  },
  {
   "cell_type": "code",
   "execution_count": 32,
   "metadata": {},
   "outputs": [
    {
     "data": {
      "image/png": "[encoded data removed]",
      "text/plain": [
       "<Figure size 432x288 with 1 Axes>"
      ]
     },
     "metadata": {
      "needs_background": "light"
     },
     "output_type": "display_data"
    }
   ],
   "source": [
    "df_train['primary_cleaner.output.concentrate_m'].hist().set_title('Концентрация металлов после первой очистки');"
   ]
  },
  {
   "cell_type": "code",
   "execution_count": 33,
   "metadata": {},
   "outputs": [
    {
     "data": {
      "image/png": "[encoded data removed]",
      "text/plain": [
       "<Figure size 432x288 with 1 Axes>"
      ]
     },
     "metadata": {
      "needs_background": "light"
     },
     "output_type": "display_data"
    }
   ],
   "source": [
    "df_train['final.output.concentrate_m'].hist().set_title('Концентрация металлов после второй очистки');"
   ]
  },
  {
   "cell_type": "markdown",
   "metadata": {},
   "source": [
    "Суммарная концентрация металлов возрастает на каждой стадии. "
   ]
  },
  {
   "cell_type": "markdown",
   "metadata": {},
   "source": [
    "**Оставим в df_train только те столбцы, в которых есть признаки и целевые признаки**"
   ]
  },
  {
   "cell_type": "code",
   "execution_count": 34,
   "metadata": {},
   "outputs": [
    {
     "data": {
      "text/html": [
       "<div>\n",
       "<style scoped>\n",
       "    .dataframe tbody tr th:only-of-type {\n",
       "        vertical-align: middle;\n",
       "    }\n",
       "\n",
       "    .dataframe tbody tr th {\n",
       "        vertical-align: top;\n",
       "    }\n",
       "\n",
       "    .dataframe thead th {\n",
       "        text-align: right;\n",
       "    }\n",
       "</style>\n",
       "<table border=\"1\" class=\"dataframe\">\n",
       "  <thead>\n",
       "    <tr style=\"text-align: right;\">\n",
       "      <th></th>\n",
       "      <th>rougher.input.feed_au</th>\n",
       "      <th>rougher.input.feed_ag</th>\n",
       "      <th>rougher.input.feed_pb</th>\n",
       "      <th>rougher.input.feed_sol</th>\n",
       "      <th>rougher.input.feed_rate</th>\n",
       "      <th>rougher.input.feed_size</th>\n",
       "      <th>rougher.input.floatbank10_sulfate</th>\n",
       "      <th>rougher.input.floatbank10_xanthate</th>\n",
       "      <th>rougher.state.floatbank10_a_air</th>\n",
       "      <th>rougher.state.floatbank10_a_level</th>\n",
       "      <th>...</th>\n",
       "      <th>secondary_cleaner.state.floatbank4_b_air</th>\n",
       "      <th>secondary_cleaner.state.floatbank4_b_level</th>\n",
       "      <th>secondary_cleaner.state.floatbank5_a_air</th>\n",
       "      <th>secondary_cleaner.state.floatbank5_a_level</th>\n",
       "      <th>secondary_cleaner.state.floatbank5_b_air</th>\n",
       "      <th>secondary_cleaner.state.floatbank5_b_level</th>\n",
       "      <th>secondary_cleaner.state.floatbank6_a_air</th>\n",
       "      <th>secondary_cleaner.state.floatbank6_a_level</th>\n",
       "      <th>rougher.output.recovery</th>\n",
       "      <th>final.output.recovery</th>\n",
       "    </tr>\n",
       "    <tr>\n",
       "      <th>date</th>\n",
       "      <th></th>\n",
       "      <th></th>\n",
       "      <th></th>\n",
       "      <th></th>\n",
       "      <th></th>\n",
       "      <th></th>\n",
       "      <th></th>\n",
       "      <th></th>\n",
       "      <th></th>\n",
       "      <th></th>\n",
       "      <th></th>\n",
       "      <th></th>\n",
       "      <th></th>\n",
       "      <th></th>\n",
       "      <th></th>\n",
       "      <th></th>\n",
       "      <th></th>\n",
       "      <th></th>\n",
       "      <th></th>\n",
       "      <th></th>\n",
       "      <th></th>\n",
       "    </tr>\n",
       "  </thead>\n",
       "  <tbody>\n",
       "    <tr>\n",
       "      <th>2016-01-15 00:00:00</th>\n",
       "      <td>6.486150</td>\n",
       "      <td>6.100378</td>\n",
       "      <td>2.284912</td>\n",
       "      <td>36.808594</td>\n",
       "      <td>523.546326</td>\n",
       "      <td>55.486599</td>\n",
       "      <td>11.986616</td>\n",
       "      <td>6.007990</td>\n",
       "      <td>999.706909</td>\n",
       "      <td>-404.066986</td>\n",
       "      <td>...</td>\n",
       "      <td>12.099931</td>\n",
       "      <td>-504.715942</td>\n",
       "      <td>9.925633</td>\n",
       "      <td>-498.310211</td>\n",
       "      <td>8.079666</td>\n",
       "      <td>-500.470978</td>\n",
       "      <td>14.151341</td>\n",
       "      <td>-605.841980</td>\n",
       "      <td>87.107763</td>\n",
       "      <td>70.541216</td>\n",
       "    </tr>\n",
       "    <tr>\n",
       "      <th>2016-01-15 01:00:00</th>\n",
       "      <td>6.478583</td>\n",
       "      <td>6.161113</td>\n",
       "      <td>2.266033</td>\n",
       "      <td>35.753385</td>\n",
       "      <td>525.290581</td>\n",
       "      <td>57.278666</td>\n",
       "      <td>11.971193</td>\n",
       "      <td>6.005766</td>\n",
       "      <td>1000.286398</td>\n",
       "      <td>-400.065196</td>\n",
       "      <td>...</td>\n",
       "      <td>11.950531</td>\n",
       "      <td>-501.331529</td>\n",
       "      <td>10.039245</td>\n",
       "      <td>-500.169983</td>\n",
       "      <td>7.984757</td>\n",
       "      <td>-500.582168</td>\n",
       "      <td>13.998353</td>\n",
       "      <td>-599.787184</td>\n",
       "      <td>86.843261</td>\n",
       "      <td>69.266198</td>\n",
       "    </tr>\n",
       "    <tr>\n",
       "      <th>2016-01-15 02:00:00</th>\n",
       "      <td>6.362222</td>\n",
       "      <td>6.116455</td>\n",
       "      <td>2.159622</td>\n",
       "      <td>35.971630</td>\n",
       "      <td>530.026610</td>\n",
       "      <td>57.510649</td>\n",
       "      <td>11.920603</td>\n",
       "      <td>6.197377</td>\n",
       "      <td>999.719565</td>\n",
       "      <td>-400.074028</td>\n",
       "      <td>...</td>\n",
       "      <td>11.912783</td>\n",
       "      <td>-501.133383</td>\n",
       "      <td>10.070913</td>\n",
       "      <td>-500.129135</td>\n",
       "      <td>8.013877</td>\n",
       "      <td>-500.517572</td>\n",
       "      <td>14.028663</td>\n",
       "      <td>-601.427363</td>\n",
       "      <td>86.842308</td>\n",
       "      <td>68.116445</td>\n",
       "    </tr>\n",
       "    <tr>\n",
       "      <th>2016-01-15 03:00:00</th>\n",
       "      <td>6.118189</td>\n",
       "      <td>6.043309</td>\n",
       "      <td>2.037807</td>\n",
       "      <td>36.862241</td>\n",
       "      <td>542.590390</td>\n",
       "      <td>57.792734</td>\n",
       "      <td>11.630094</td>\n",
       "      <td>6.203177</td>\n",
       "      <td>999.814770</td>\n",
       "      <td>-400.200179</td>\n",
       "      <td>...</td>\n",
       "      <td>11.999550</td>\n",
       "      <td>-501.193686</td>\n",
       "      <td>9.970366</td>\n",
       "      <td>-499.201640</td>\n",
       "      <td>7.977324</td>\n",
       "      <td>-500.255908</td>\n",
       "      <td>14.005551</td>\n",
       "      <td>-599.996129</td>\n",
       "      <td>87.226430</td>\n",
       "      <td>68.347543</td>\n",
       "    </tr>\n",
       "    <tr>\n",
       "      <th>2016-01-15 04:00:00</th>\n",
       "      <td>5.663707</td>\n",
       "      <td>6.060915</td>\n",
       "      <td>1.786875</td>\n",
       "      <td>34.347666</td>\n",
       "      <td>540.531893</td>\n",
       "      <td>56.047189</td>\n",
       "      <td>10.957755</td>\n",
       "      <td>6.198826</td>\n",
       "      <td>999.678690</td>\n",
       "      <td>-399.752729</td>\n",
       "      <td>...</td>\n",
       "      <td>11.953070</td>\n",
       "      <td>-501.053894</td>\n",
       "      <td>9.925709</td>\n",
       "      <td>-501.686727</td>\n",
       "      <td>7.894242</td>\n",
       "      <td>-500.356035</td>\n",
       "      <td>13.996647</td>\n",
       "      <td>-601.496691</td>\n",
       "      <td>86.688794</td>\n",
       "      <td>66.927016</td>\n",
       "    </tr>\n",
       "    <tr>\n",
       "      <th>...</th>\n",
       "      <td>...</td>\n",
       "      <td>...</td>\n",
       "      <td>...</td>\n",
       "      <td>...</td>\n",
       "      <td>...</td>\n",
       "      <td>...</td>\n",
       "      <td>...</td>\n",
       "      <td>...</td>\n",
       "      <td>...</td>\n",
       "      <td>...</td>\n",
       "      <td>...</td>\n",
       "      <td>...</td>\n",
       "      <td>...</td>\n",
       "      <td>...</td>\n",
       "      <td>...</td>\n",
       "      <td>...</td>\n",
       "      <td>...</td>\n",
       "      <td>...</td>\n",
       "      <td>...</td>\n",
       "      <td>...</td>\n",
       "      <td>...</td>\n",
       "    </tr>\n",
       "    <tr>\n",
       "      <th>2017-12-09 09:59:59</th>\n",
       "      <td>4.599524</td>\n",
       "      <td>5.822083</td>\n",
       "      <td>4.255546</td>\n",
       "      <td>37.480479</td>\n",
       "      <td>559.895089</td>\n",
       "      <td>85.247019</td>\n",
       "      <td>6.775864</td>\n",
       "      <td>9.005425</td>\n",
       "      <td>1200.454685</td>\n",
       "      <td>-300.012582</td>\n",
       "      <td>...</td>\n",
       "      <td>20.034440</td>\n",
       "      <td>-499.842047</td>\n",
       "      <td>18.001504</td>\n",
       "      <td>-499.872052</td>\n",
       "      <td>12.998309</td>\n",
       "      <td>-500.027809</td>\n",
       "      <td>20.007108</td>\n",
       "      <td>-500.850685</td>\n",
       "      <td>87.684717</td>\n",
       "      <td>64.054699</td>\n",
       "    </tr>\n",
       "    <tr>\n",
       "      <th>2017-12-09 10:59:59</th>\n",
       "      <td>4.658125</td>\n",
       "      <td>5.844800</td>\n",
       "      <td>4.241564</td>\n",
       "      <td>37.395565</td>\n",
       "      <td>561.464855</td>\n",
       "      <td>83.860651</td>\n",
       "      <td>6.770561</td>\n",
       "      <td>9.000889</td>\n",
       "      <td>1200.958146</td>\n",
       "      <td>-300.013649</td>\n",
       "      <td>...</td>\n",
       "      <td>19.988437</td>\n",
       "      <td>-500.125966</td>\n",
       "      <td>18.011724</td>\n",
       "      <td>-500.090861</td>\n",
       "      <td>13.007108</td>\n",
       "      <td>-500.258238</td>\n",
       "      <td>19.983872</td>\n",
       "      <td>-502.581707</td>\n",
       "      <td>90.677361</td>\n",
       "      <td>68.643324</td>\n",
       "    </tr>\n",
       "    <tr>\n",
       "      <th>2017-12-09 11:59:59</th>\n",
       "      <td>5.335862</td>\n",
       "      <td>6.091855</td>\n",
       "      <td>4.617558</td>\n",
       "      <td>37.369774</td>\n",
       "      <td>560.889077</td>\n",
       "      <td>85.718304</td>\n",
       "      <td>7.762770</td>\n",
       "      <td>9.158609</td>\n",
       "      <td>1199.245914</td>\n",
       "      <td>-300.845518</td>\n",
       "      <td>...</td>\n",
       "      <td>20.007571</td>\n",
       "      <td>-499.740028</td>\n",
       "      <td>18.006038</td>\n",
       "      <td>-499.834374</td>\n",
       "      <td>13.001114</td>\n",
       "      <td>-500.155694</td>\n",
       "      <td>20.007840</td>\n",
       "      <td>-501.296428</td>\n",
       "      <td>89.574376</td>\n",
       "      <td>73.755150</td>\n",
       "    </tr>\n",
       "    <tr>\n",
       "      <th>2017-12-09 12:59:59</th>\n",
       "      <td>4.838619</td>\n",
       "      <td>6.121323</td>\n",
       "      <td>4.144989</td>\n",
       "      <td>38.591551</td>\n",
       "      <td>559.031805</td>\n",
       "      <td>119.499241</td>\n",
       "      <td>7.356687</td>\n",
       "      <td>9.304952</td>\n",
       "      <td>1196.569267</td>\n",
       "      <td>-299.512227</td>\n",
       "      <td>...</td>\n",
       "      <td>20.035660</td>\n",
       "      <td>-500.251357</td>\n",
       "      <td>17.998535</td>\n",
       "      <td>-500.395178</td>\n",
       "      <td>12.954048</td>\n",
       "      <td>-499.895163</td>\n",
       "      <td>19.968498</td>\n",
       "      <td>-501.041608</td>\n",
       "      <td>87.724007</td>\n",
       "      <td>69.049291</td>\n",
       "    </tr>\n",
       "    <tr>\n",
       "      <th>2017-12-09 13:59:59</th>\n",
       "      <td>4.525061</td>\n",
       "      <td>5.970515</td>\n",
       "      <td>4.020002</td>\n",
       "      <td>40.074026</td>\n",
       "      <td>555.682872</td>\n",
       "      <td>122.262690</td>\n",
       "      <td>6.586020</td>\n",
       "      <td>9.299606</td>\n",
       "      <td>1204.866639</td>\n",
       "      <td>-299.235675</td>\n",
       "      <td>...</td>\n",
       "      <td>19.951231</td>\n",
       "      <td>-499.857027</td>\n",
       "      <td>18.019543</td>\n",
       "      <td>-500.451156</td>\n",
       "      <td>13.023431</td>\n",
       "      <td>-499.914391</td>\n",
       "      <td>19.990885</td>\n",
       "      <td>-501.518452</td>\n",
       "      <td>88.890579</td>\n",
       "      <td>67.002189</td>\n",
       "    </tr>\n",
       "  </tbody>\n",
       "</table>\n",
       "<p>13767 rows × 54 columns</p>\n",
       "</div>"
      ],
      "text/plain": [
       "                     rougher.input.feed_au  rougher.input.feed_ag  \\\n",
       "date                                                                \n",
       "2016-01-15 00:00:00               6.486150               6.100378   \n",
       "2016-01-15 01:00:00               6.478583               6.161113   \n",
       "2016-01-15 02:00:00               6.362222               6.116455   \n",
       "2016-01-15 03:00:00               6.118189               6.043309   \n",
       "2016-01-15 04:00:00               5.663707               6.060915   \n",
       "...                                    ...                    ...   \n",
       "2017-12-09 09:59:59               4.599524               5.822083   \n",
       "2017-12-09 10:59:59               4.658125               5.844800   \n",
       "2017-12-09 11:59:59               5.335862               6.091855   \n",
       "2017-12-09 12:59:59               4.838619               6.121323   \n",
       "2017-12-09 13:59:59               4.525061               5.970515   \n",
       "\n",
       "                     rougher.input.feed_pb  rougher.input.feed_sol  \\\n",
       "date                                                                 \n",
       "2016-01-15 00:00:00               2.284912               36.808594   \n",
       "2016-01-15 01:00:00               2.266033               35.753385   \n",
       "2016-01-15 02:00:00               2.159622               35.971630   \n",
       "2016-01-15 03:00:00               2.037807               36.862241   \n",
       "2016-01-15 04:00:00               1.786875               34.347666   \n",
       "...                                    ...                     ...   \n",
       "2017-12-09 09:59:59               4.255546               37.480479   \n",
       "2017-12-09 10:59:59               4.241564               37.395565   \n",
       "2017-12-09 11:59:59               4.617558               37.369774   \n",
       "2017-12-09 12:59:59               4.144989               38.591551   \n",
       "2017-12-09 13:59:59               4.020002               40.074026   \n",
       "\n",
       "                     rougher.input.feed_rate  rougher.input.feed_size  \\\n",
       "date                                                                    \n",
       "2016-01-15 00:00:00               523.546326                55.486599   \n",
       "2016-01-15 01:00:00               525.290581                57.278666   \n",
       "2016-01-15 02:00:00               530.026610                57.510649   \n",
       "2016-01-15 03:00:00               542.590390                57.792734   \n",
       "2016-01-15 04:00:00               540.531893                56.047189   \n",
       "...                                      ...                      ...   \n",
       "2017-12-09 09:59:59               559.895089                85.247019   \n",
       "2017-12-09 10:59:59               561.464855                83.860651   \n",
       "2017-12-09 11:59:59               560.889077                85.718304   \n",
       "2017-12-09 12:59:59               559.031805               119.499241   \n",
       "2017-12-09 13:59:59               555.682872               122.262690   \n",
       "\n",
       "                     rougher.input.floatbank10_sulfate  \\\n",
       "date                                                     \n",
       "2016-01-15 00:00:00                          11.986616   \n",
       "2016-01-15 01:00:00                          11.971193   \n",
       "2016-01-15 02:00:00                          11.920603   \n",
       "2016-01-15 03:00:00                          11.630094   \n",
       "2016-01-15 04:00:00                          10.957755   \n",
       "...                                                ...   \n",
       "2017-12-09 09:59:59                           6.775864   \n",
       "2017-12-09 10:59:59                           6.770561   \n",
       "2017-12-09 11:59:59                           7.762770   \n",
       "2017-12-09 12:59:59                           7.356687   \n",
       "2017-12-09 13:59:59                           6.586020   \n",
       "\n",
       "                     rougher.input.floatbank10_xanthate  \\\n",
       "date                                                      \n",
       "2016-01-15 00:00:00                            6.007990   \n",
       "2016-01-15 01:00:00                            6.005766   \n",
       "2016-01-15 02:00:00                            6.197377   \n",
       "2016-01-15 03:00:00                            6.203177   \n",
       "2016-01-15 04:00:00                            6.198826   \n",
       "...                                                 ...   \n",
       "2017-12-09 09:59:59                            9.005425   \n",
       "2017-12-09 10:59:59                            9.000889   \n",
       "2017-12-09 11:59:59                            9.158609   \n",
       "2017-12-09 12:59:59                            9.304952   \n",
       "2017-12-09 13:59:59                            9.299606   \n",
       "\n",
       "                     rougher.state.floatbank10_a_air  \\\n",
       "date                                                   \n",
       "2016-01-15 00:00:00                       999.706909   \n",
       "2016-01-15 01:00:00                      1000.286398   \n",
       "2016-01-15 02:00:00                       999.719565   \n",
       "2016-01-15 03:00:00                       999.814770   \n",
       "2016-01-15 04:00:00                       999.678690   \n",
       "...                                              ...   \n",
       "2017-12-09 09:59:59                      1200.454685   \n",
       "2017-12-09 10:59:59                      1200.958146   \n",
       "2017-12-09 11:59:59                      1199.245914   \n",
       "2017-12-09 12:59:59                      1196.569267   \n",
       "2017-12-09 13:59:59                      1204.866639   \n",
       "\n",
       "                     rougher.state.floatbank10_a_level  ...  \\\n",
       "date                                                    ...   \n",
       "2016-01-15 00:00:00                        -404.066986  ...   \n",
       "2016-01-15 01:00:00                        -400.065196  ...   \n",
       "2016-01-15 02:00:00                        -400.074028  ...   \n",
       "2016-01-15 03:00:00                        -400.200179  ...   \n",
       "2016-01-15 04:00:00                        -399.752729  ...   \n",
       "...                                                ...  ...   \n",
       "2017-12-09 09:59:59                        -300.012582  ...   \n",
       "2017-12-09 10:59:59                        -300.013649  ...   \n",
       "2017-12-09 11:59:59                        -300.845518  ...   \n",
       "2017-12-09 12:59:59                        -299.512227  ...   \n",
       "2017-12-09 13:59:59                        -299.235675  ...   \n",
       "\n",
       "                     secondary_cleaner.state.floatbank4_b_air  \\\n",
       "date                                                            \n",
       "2016-01-15 00:00:00                                 12.099931   \n",
       "2016-01-15 01:00:00                                 11.950531   \n",
       "2016-01-15 02:00:00                                 11.912783   \n",
       "2016-01-15 03:00:00                                 11.999550   \n",
       "2016-01-15 04:00:00                                 11.953070   \n",
       "...                                                       ...   \n",
       "2017-12-09 09:59:59                                 20.034440   \n",
       "2017-12-09 10:59:59                                 19.988437   \n",
       "2017-12-09 11:59:59                                 20.007571   \n",
       "2017-12-09 12:59:59                                 20.035660   \n",
       "2017-12-09 13:59:59                                 19.951231   \n",
       "\n",
       "                     secondary_cleaner.state.floatbank4_b_level  \\\n",
       "date                                                              \n",
       "2016-01-15 00:00:00                                 -504.715942   \n",
       "2016-01-15 01:00:00                                 -501.331529   \n",
       "2016-01-15 02:00:00                                 -501.133383   \n",
       "2016-01-15 03:00:00                                 -501.193686   \n",
       "2016-01-15 04:00:00                                 -501.053894   \n",
       "...                                                         ...   \n",
       "2017-12-09 09:59:59                                 -499.842047   \n",
       "2017-12-09 10:59:59                                 -500.125966   \n",
       "2017-12-09 11:59:59                                 -499.740028   \n",
       "2017-12-09 12:59:59                                 -500.251357   \n",
       "2017-12-09 13:59:59                                 -499.857027   \n",
       "\n",
       "                     secondary_cleaner.state.floatbank5_a_air  \\\n",
       "date                                                            \n",
       "2016-01-15 00:00:00                                  9.925633   \n",
       "2016-01-15 01:00:00                                 10.039245   \n",
       "2016-01-15 02:00:00                                 10.070913   \n",
       "2016-01-15 03:00:00                                  9.970366   \n",
       "2016-01-15 04:00:00                                  9.925709   \n",
       "...                                                       ...   \n",
       "2017-12-09 09:59:59                                 18.001504   \n",
       "2017-12-09 10:59:59                                 18.011724   \n",
       "2017-12-09 11:59:59                                 18.006038   \n",
       "2017-12-09 12:59:59                                 17.998535   \n",
       "2017-12-09 13:59:59                                 18.019543   \n",
       "\n",
       "                     secondary_cleaner.state.floatbank5_a_level  \\\n",
       "date                                                              \n",
       "2016-01-15 00:00:00                                 -498.310211   \n",
       "2016-01-15 01:00:00                                 -500.169983   \n",
       "2016-01-15 02:00:00                                 -500.129135   \n",
       "2016-01-15 03:00:00                                 -499.201640   \n",
       "2016-01-15 04:00:00                                 -501.686727   \n",
       "...                                                         ...   \n",
       "2017-12-09 09:59:59                                 -499.872052   \n",
       "2017-12-09 10:59:59                                 -500.090861   \n",
       "2017-12-09 11:59:59                                 -499.834374   \n",
       "2017-12-09 12:59:59                                 -500.395178   \n",
       "2017-12-09 13:59:59                                 -500.451156   \n",
       "\n",
       "                     secondary_cleaner.state.floatbank5_b_air  \\\n",
       "date                                                            \n",
       "2016-01-15 00:00:00                                  8.079666   \n",
       "2016-01-15 01:00:00                                  7.984757   \n",
       "2016-01-15 02:00:00                                  8.013877   \n",
       "2016-01-15 03:00:00                                  7.977324   \n",
       "2016-01-15 04:00:00                                  7.894242   \n",
       "...                                                       ...   \n",
       "2017-12-09 09:59:59                                 12.998309   \n",
       "2017-12-09 10:59:59                                 13.007108   \n",
       "2017-12-09 11:59:59                                 13.001114   \n",
       "2017-12-09 12:59:59                                 12.954048   \n",
       "2017-12-09 13:59:59                                 13.023431   \n",
       "\n",
       "                     secondary_cleaner.state.floatbank5_b_level  \\\n",
       "date                                                              \n",
       "2016-01-15 00:00:00                                 -500.470978   \n",
       "2016-01-15 01:00:00                                 -500.582168   \n",
       "2016-01-15 02:00:00                                 -500.517572   \n",
       "2016-01-15 03:00:00                                 -500.255908   \n",
       "2016-01-15 04:00:00                                 -500.356035   \n",
       "...                                                         ...   \n",
       "2017-12-09 09:59:59                                 -500.027809   \n",
       "2017-12-09 10:59:59                                 -500.258238   \n",
       "2017-12-09 11:59:59                                 -500.155694   \n",
       "2017-12-09 12:59:59                                 -499.895163   \n",
       "2017-12-09 13:59:59                                 -499.914391   \n",
       "\n",
       "                     secondary_cleaner.state.floatbank6_a_air  \\\n",
       "date                                                            \n",
       "2016-01-15 00:00:00                                 14.151341   \n",
       "2016-01-15 01:00:00                                 13.998353   \n",
       "2016-01-15 02:00:00                                 14.028663   \n",
       "2016-01-15 03:00:00                                 14.005551   \n",
       "2016-01-15 04:00:00                                 13.996647   \n",
       "...                                                       ...   \n",
       "2017-12-09 09:59:59                                 20.007108   \n",
       "2017-12-09 10:59:59                                 19.983872   \n",
       "2017-12-09 11:59:59                                 20.007840   \n",
       "2017-12-09 12:59:59                                 19.968498   \n",
       "2017-12-09 13:59:59                                 19.990885   \n",
       "\n",
       "                     secondary_cleaner.state.floatbank6_a_level  \\\n",
       "date                                                              \n",
       "2016-01-15 00:00:00                                 -605.841980   \n",
       "2016-01-15 01:00:00                                 -599.787184   \n",
       "2016-01-15 02:00:00                                 -601.427363   \n",
       "2016-01-15 03:00:00                                 -599.996129   \n",
       "2016-01-15 04:00:00                                 -601.496691   \n",
       "...                                                         ...   \n",
       "2017-12-09 09:59:59                                 -500.850685   \n",
       "2017-12-09 10:59:59                                 -502.581707   \n",
       "2017-12-09 11:59:59                                 -501.296428   \n",
       "2017-12-09 12:59:59                                 -501.041608   \n",
       "2017-12-09 13:59:59                                 -501.518452   \n",
       "\n",
       "                     rougher.output.recovery  final.output.recovery  \n",
       "date                                                                 \n",
       "2016-01-15 00:00:00                87.107763              70.541216  \n",
       "2016-01-15 01:00:00                86.843261              69.266198  \n",
       "2016-01-15 02:00:00                86.842308              68.116445  \n",
       "2016-01-15 03:00:00                87.226430              68.347543  \n",
       "2016-01-15 04:00:00                86.688794              66.927016  \n",
       "...                                      ...                    ...  \n",
       "2017-12-09 09:59:59                87.684717              64.054699  \n",
       "2017-12-09 10:59:59                90.677361              68.643324  \n",
       "2017-12-09 11:59:59                89.574376              73.755150  \n",
       "2017-12-09 12:59:59                87.724007              69.049291  \n",
       "2017-12-09 13:59:59                88.890579              67.002189  \n",
       "\n",
       "[13767 rows x 54 columns]"
      ]
     },
     "execution_count": 34,
     "metadata": {},
     "output_type": "execute_result"
    }
   ],
   "source": [
    "df_train = df_train.loc[:, df_test.columns]\n",
    "df_train"
   ]
  },
  {
   "cell_type": "markdown",
   "metadata": {},
   "source": [
    "## Модель"
   ]
  },
  {
   "cell_type": "markdown",
   "metadata": {},
   "source": [
    "### Напишем функцию для вычисления итоговой sMAPE"
   ]
  },
  {
   "cell_type": "code",
   "execution_count": 35,
   "metadata": {},
   "outputs": [],
   "source": [
    "def smape(target, predict):\n",
    "    smape = ((np.abs(target-predict))/(np.abs(target)+np.abs(predict)/2))*100\n",
    "    smape = np.mean(smape)\n",
    "    return smape"
   ]
  },
  {
   "cell_type": "code",
   "execution_count": 36,
   "metadata": {},
   "outputs": [],
   "source": [
    "def smape_result(rougher, final):\n",
    "    return (0.25*rougher + 0.75*final)   "
   ]
  },
  {
   "cell_type": "markdown",
   "metadata": {},
   "source": [
    "### Обучим разные модели"
   ]
  },
  {
   "cell_type": "markdown",
   "metadata": {},
   "source": [
    "**Разобьем обучающую выборку на признаки и целевые признаки**"
   ]
  },
  {
   "cell_type": "code",
   "execution_count": 37,
   "metadata": {},
   "outputs": [],
   "source": [
    "target_train_rougher = df_train['rougher.output.recovery']\n",
    "target_train_final = df_train['final.output.recovery']\n",
    "features_train_rougher = df_train.iloc[:, 0:22]\n",
    "features_train_final = df_train.drop(['rougher.output.recovery', 'final.output.recovery'], axis=1)"
   ]
  },
  {
   "cell_type": "code",
   "execution_count": 38,
   "metadata": {},
   "outputs": [
    {
     "data": {
      "text/plain": [
       "(13767,)"
      ]
     },
     "execution_count": 38,
     "metadata": {},
     "output_type": "execute_result"
    }
   ],
   "source": [
    "target_train_rougher.shape"
   ]
  },
  {
   "cell_type": "code",
   "execution_count": 39,
   "metadata": {},
   "outputs": [
    {
     "data": {
      "text/plain": [
       "(13767,)"
      ]
     },
     "execution_count": 39,
     "metadata": {},
     "output_type": "execute_result"
    }
   ],
   "source": [
    "target_train_final.shape"
   ]
  },
  {
   "cell_type": "code",
   "execution_count": 40,
   "metadata": {},
   "outputs": [
    {
     "data": {
      "text/plain": [
       "(13767, 22)"
      ]
     },
     "execution_count": 40,
     "metadata": {},
     "output_type": "execute_result"
    }
   ],
   "source": [
    "features_train_rougher.shape"
   ]
  },
  {
   "cell_type": "code",
   "execution_count": 41,
   "metadata": {},
   "outputs": [
    {
     "data": {
      "text/plain": [
       "(13767, 52)"
      ]
     },
     "execution_count": 41,
     "metadata": {},
     "output_type": "execute_result"
    }
   ],
   "source": [
    "features_train_final.shape"
   ]
  },
  {
   "cell_type": "markdown",
   "metadata": {},
   "source": [
    "**Разобьем тестовую выборку на признаки и целевые признаки**"
   ]
  },
  {
   "cell_type": "markdown",
   "metadata": {},
   "source": [
    "Перед тем, как разбивать тестовую выборку, надо заменить пропуски перыдущими непропущенными значениями."
   ]
  },
  {
   "cell_type": "code",
   "execution_count": 42,
   "metadata": {},
   "outputs": [],
   "source": [
    "df_test = df_test.fillna(method='ffill')"
   ]
  },
  {
   "cell_type": "code",
   "execution_count": 43,
   "metadata": {},
   "outputs": [],
   "source": [
    "target_test_rougher = df_test['rougher.output.recovery']\n",
    "target_test_final = df_test['final.output.recovery']\n",
    "features_test_rougher = df_test.iloc[:, 0:22]\n",
    "features_test_final = df_test.drop(['rougher.output.recovery', 'final.output.recovery'], axis=1)"
   ]
  },
  {
   "cell_type": "code",
   "execution_count": 44,
   "metadata": {},
   "outputs": [
    {
     "data": {
      "text/plain": [
       "(4860,)"
      ]
     },
     "execution_count": 44,
     "metadata": {},
     "output_type": "execute_result"
    }
   ],
   "source": [
    "target_test_rougher.shape"
   ]
  },
  {
   "cell_type": "code",
   "execution_count": 45,
   "metadata": {},
   "outputs": [
    {
     "data": {
      "text/plain": [
       "(4860,)"
      ]
     },
     "execution_count": 45,
     "metadata": {},
     "output_type": "execute_result"
    }
   ],
   "source": [
    "target_test_final.shape"
   ]
  },
  {
   "cell_type": "code",
   "execution_count": 46,
   "metadata": {},
   "outputs": [
    {
     "data": {
      "text/plain": [
       "(4860, 22)"
      ]
     },
     "execution_count": 46,
     "metadata": {},
     "output_type": "execute_result"
    }
   ],
   "source": [
    "features_test_rougher.shape"
   ]
  },
  {
   "cell_type": "code",
   "execution_count": 47,
   "metadata": {},
   "outputs": [
    {
     "data": {
      "text/plain": [
       "(4860, 52)"
      ]
     },
     "execution_count": 47,
     "metadata": {},
     "output_type": "execute_result"
    }
   ],
   "source": [
    "features_test_final.shape"
   ]
  },
  {
   "cell_type": "code",
   "execution_count": 48,
   "metadata": {},
   "outputs": [],
   "source": [
    "smape_scorer = make_scorer(smape)"
   ]
  },
  {
   "cell_type": "markdown",
   "metadata": {},
   "source": [
    "**Linear Regression**"
   ]
  },
  {
   "cell_type": "code",
   "execution_count": 49,
   "metadata": {},
   "outputs": [
    {
     "name": "stdout",
     "output_type": "stream",
     "text": [
      "Симметричное среднее абсолютное процентное отклонение для чернового концентрата: 4.32\n"
     ]
    }
   ],
   "source": [
    "LN_scores_rougher = cross_val_score(LinearRegression(),\\\n",
    "                                    features_train_rougher, target_train_rougher, cv=5, scoring=smape_scorer)\n",
    "smape_LN_rougher = np.mean(np.abs(LN_scores_rougher))\n",
    "print('Симметричное среднее абсолютное процентное отклонение для чернового концентрата: {:.2f}'.format(smape_LN_rougher))"
   ]
  },
  {
   "cell_type": "code",
   "execution_count": 50,
   "metadata": {},
   "outputs": [
    {
     "name": "stdout",
     "output_type": "stream",
     "text": [
      "Симметричное среднее абсолютное процентное отклонение для финального концентрата: 6.37\n"
     ]
    }
   ],
   "source": [
    "LN_scores_final = cross_val_score(LinearRegression(),\\\n",
    "                                    features_train_final, target_train_final, cv=5, scoring=smape_scorer)\n",
    "smape_LN_final = np.mean(np.abs(LN_scores_final))\n",
    "print('Симметричное среднее абсолютное процентное отклонение для финального концентрата: {:.2f}'.format(smape_LN_final))"
   ]
  },
  {
   "cell_type": "code",
   "execution_count": 51,
   "metadata": {},
   "outputs": [
    {
     "name": "stdout",
     "output_type": "stream",
     "text": [
      "Итоговое отклонение линейной регрессии: 5.86\n"
     ]
    }
   ],
   "source": [
    "print('Итоговое отклонение линейной регрессии: {:.2f}'.format(smape_result(smape_LN_rougher, smape_LN_final)))"
   ]
  },
  {
   "cell_type": "markdown",
   "metadata": {},
   "source": [
    "**Decision Tree Regressor**"
   ]
  },
  {
   "cell_type": "code",
   "execution_count": 52,
   "metadata": {},
   "outputs": [
    {
     "name": "stdout",
     "output_type": "stream",
     "text": [
      "Симметричное среднее абсолютное процентное отклонение для чернового концентрата: 4.02 , максимальная глубина:: 2\n"
     ]
    }
   ],
   "source": [
    "best_model_DT=None\n",
    "smape_DT_rougher=10000\n",
    "best_depth_DT=0\n",
    "\n",
    "for depth in range(1,15):\n",
    "    model_DT = DecisionTreeRegressor(random_state=0, max_depth=depth)\n",
    "    DT_scores_rougher = cross_val_score(model_DT, features_train_rougher, target_train_rougher, cv=5, scoring=smape_scorer)\n",
    "    result = np.mean(np.abs(DT_scores_rougher))\n",
    "    if result < smape_DT_rougher:\n",
    "        best_model_DT = model_DT\n",
    "        smape_DT_rougher = result\n",
    "        best_depth_DT = depth\n",
    "\n",
    "print('Симметричное среднее абсолютное процентное отклонение для чернового концентрата: {:.2f}'\\\n",
    "      .format(smape_DT_rougher), ', максимальная глубина::', best_depth_DT)"
   ]
  },
  {
   "cell_type": "code",
   "execution_count": 53,
   "metadata": {},
   "outputs": [
    {
     "name": "stdout",
     "output_type": "stream",
     "text": [
      "Симметричное среднее абсолютное процентное отклонение для чернового концентрата: 5.88 , максимальная глубина:: 2\n"
     ]
    }
   ],
   "source": [
    "best_model_DT_final=None\n",
    "smape_DT_final=10000\n",
    "best_depth_DT_final=0\n",
    "\n",
    "for depth in range(1,15):\n",
    "    model_DT_final = DecisionTreeRegressor(random_state=0, max_depth=depth)\n",
    "    DT_scores_final = cross_val_score(model_DT_final, features_train_final, target_train_final, cv=5, scoring=smape_scorer)\n",
    "    result = np.mean(np.abs(DT_scores_final))\n",
    "    if result < smape_DT_final:\n",
    "        best_model_DT_final = model_DT_final\n",
    "        smape_DT_final = result\n",
    "        best_depth_DT_final = depth\n",
    "\n",
    "print('Симметричное среднее абсолютное процентное отклонение для чернового концентрата: {:.2f}'\\\n",
    "      .format(smape_DT_final), ', максимальная глубина::', best_depth_DT_final)"
   ]
  },
  {
   "cell_type": "code",
   "execution_count": 54,
   "metadata": {},
   "outputs": [
    {
     "name": "stdout",
     "output_type": "stream",
     "text": [
      "Итоговое отклонение дерева решений в регрессии: 5.41\n"
     ]
    }
   ],
   "source": [
    "print('Итоговое отклонение дерева решений в регрессии: {:.2f}'.format(smape_result(smape_DT_rougher, smape_DT_final)))"
   ]
  },
  {
   "cell_type": "markdown",
   "metadata": {},
   "source": [
    "**Random Forest Regressor**"
   ]
  },
  {
   "cell_type": "code",
   "execution_count": 55,
   "metadata": {},
   "outputs": [
    {
     "name": "stdout",
     "output_type": "stream",
     "text": [
      "Симметричное среднее абсолютное процентное отклонение для чернового концентрата: 3.89 , колличество деревьев: 41 , максимальная глубина: 3\n"
     ]
    }
   ],
   "source": [
    "best_model_RF=None\n",
    "smape_RF_rougher=10000\n",
    "best_depth_RF_rougher=0\n",
    "best_est_RF_rougher=0\n",
    "\n",
    "for est in range(1, 42, 10):\n",
    "    for depth in range(1,10):\n",
    "        model_RF = RandomForestRegressor(random_state=0, max_depth=depth, n_estimators=est)\n",
    "        RF_scores_rougher = cross_val_score(model_RF, features_train_rougher, target_train_rougher, cv=5, scoring=smape_scorer)\n",
    "        result = np.mean(np.abs(RF_scores_rougher))\n",
    "        if result < smape_RF_rougher:\n",
    "            best_model_RF = model_RF\n",
    "            smape_RF_rougher = result\n",
    "            best_depth_RF_rougher = depth\n",
    "            best_est_RF_rougher = est\n",
    "\n",
    "print('Симметричное среднее абсолютное процентное отклонение для чернового концентрата: {:.2f}'\\\n",
    "      .format(smape_RF_rougher), ', колличество деревьев:', best_est_RF_rougher, ', максимальная глубина:', best_depth_RF_rougher)"
   ]
  },
  {
   "cell_type": "code",
   "execution_count": 56,
   "metadata": {},
   "outputs": [
    {
     "name": "stdout",
     "output_type": "stream",
     "text": [
      "Симметричное среднее абсолютное процентное отклонение для чернового концентрата: 5.81 , колличество деревьев: 21 , максимальная глубина: 2\n"
     ]
    }
   ],
   "source": [
    "best_model_RF_final=None\n",
    "smape_RF_final=10000\n",
    "best_depth_RF_final=0\n",
    "best_est_RF_final=0\n",
    "\n",
    "for est in range(1, 42, 10):\n",
    "    for depth in range(1,10):\n",
    "        model_RF_final = RandomForestRegressor(random_state=0, max_depth=depth, n_estimators=est)\n",
    "        RF_scores_final = cross_val_score(model_RF_final, features_train_final, target_train_final, cv=5, scoring=smape_scorer)\n",
    "        result = np.mean(np.abs(RF_scores_final))\n",
    "        if result < smape_RF_final:\n",
    "            best_model_RF_final = model_RF_final\n",
    "            smape_RF_final = result\n",
    "            best_depth_RF_final = depth\n",
    "            best_est_RF_final = est\n",
    "\n",
    "print('Симметричное среднее абсолютное процентное отклонение для чернового концентрата: {:.2f}'\\\n",
    "      .format(smape_RF_final), ', колличество деревьев:', best_est_RF_final, ', максимальная глубина:', best_depth_RF_final)"
   ]
  },
  {
   "cell_type": "code",
   "execution_count": 57,
   "metadata": {},
   "outputs": [
    {
     "name": "stdout",
     "output_type": "stream",
     "text": [
      "Итоговое отклонение случайного леса в регрессии: 5.33\n"
     ]
    }
   ],
   "source": [
    "print('Итоговое отклонение случайного леса в регрессии: {:.2f}'.format(smape_result(smape_RF_rougher, smape_RF_final)))"
   ]
  },
  {
   "cell_type": "markdown",
   "metadata": {},
   "source": [
    "Наименьшее итоговое среднее абсолютное процентное отклонение показала модель Random Forest Regressor, его и будем использовать на тестовой выборке"
   ]
  },
  {
   "cell_type": "markdown",
   "metadata": {},
   "source": [
    "**Проверим лучшую модель на тестовой выборке**"
   ]
  },
  {
   "cell_type": "code",
   "execution_count": 58,
   "metadata": {},
   "outputs": [
    {
     "name": "stdout",
     "output_type": "stream",
     "text": [
      "Симметричное среднее абсолютное процентное отклонение для чернового концентрата: 2.89\n"
     ]
    }
   ],
   "source": [
    "model_rougher = RandomForestRegressor(random_state=0, max_depth=3, n_estimators=41)\n",
    "model_rougher.fit(features_train_rougher, target_train_rougher)\n",
    "predictions_rougher_test = model_rougher.predict(features_test_rougher)\n",
    "smape_rougher_test = smape(target_test_rougher, predictions_rougher_test)\n",
    "\n",
    "print('Симметричное среднее абсолютное процентное отклонение для чернового концентрата: {:.2f}'.format(smape_rougher_test))"
   ]
  },
  {
   "cell_type": "code",
   "execution_count": 59,
   "metadata": {},
   "outputs": [
    {
     "name": "stdout",
     "output_type": "stream",
     "text": [
      "Симметричное среднее абсолютное процентное отклонение для чернового концентрата: 5.75\n"
     ]
    }
   ],
   "source": [
    "model_final = RandomForestRegressor(random_state=0, max_depth=2, n_estimators=21)\n",
    "model_final.fit(features_train_final, target_train_final)\n",
    "predictions_final_test = model_final.predict(features_test_final)\n",
    "smape_final_test = smape(target_test_final, predictions_final_test)\n",
    "\n",
    "print('Симметричное среднее абсолютное процентное отклонение для чернового концентрата: {:.2f}'.format(smape_final_test))"
   ]
  },
  {
   "cell_type": "code",
   "execution_count": 60,
   "metadata": {
    "scrolled": true
   },
   "outputs": [
    {
     "name": "stdout",
     "output_type": "stream",
     "text": [
      "Итоговое среднее абсолютное процентное отклонение: 5.03\n"
     ]
    }
   ],
   "source": [
    "print('Итоговое среднее абсолютное процентное отклонение: {:.2f}'.format(smape_result(smape_rougher_test, smape_final_test)))"
   ]
  },
  {
   "cell_type": "markdown",
   "metadata": {},
   "source": [
    "Итоговое отклонение около 5%, модель отлично подходит для использования."
   ]
  },
  {
   "cell_type": "markdown",
   "metadata": {},
   "source": [
    "**Проверим можель на адекватность**"
   ]
  },
  {
   "cell_type": "code",
   "execution_count": 61,
   "metadata": {},
   "outputs": [
    {
     "data": {
      "text/plain": [
       "4.078863300330701"
      ]
     },
     "execution_count": 61,
     "metadata": {},
     "output_type": "execute_result"
    }
   ],
   "source": [
    "dummy_regressor_rougher = DummyRegressor(strategy=\"mean\")\n",
    "dummy_regressor_rougher.fit(features_train_rougher, target_train_rougher)\n",
    "pred_test_rougher = dummy_regressor_rougher.predict(features_test_rougher)\n",
    "smape_rougher = smape(target_test_rougher, pred_test_rougher)\n",
    "smape_rougher"
   ]
  },
  {
   "cell_type": "code",
   "execution_count": 62,
   "metadata": {},
   "outputs": [
    {
     "data": {
      "text/plain": [
       "6.270516026331491"
      ]
     },
     "execution_count": 62,
     "metadata": {},
     "output_type": "execute_result"
    }
   ],
   "source": [
    "dummy_regressor_final = DummyRegressor(strategy=\"mean\")\n",
    "dummy_regressor_final.fit(features_train_final, target_train_final)\n",
    "pred_test_final = dummy_regressor_final.predict(features_test_final)\n",
    "smape_final = smape(target_test_final, pred_test_final)\n",
    "smape_final"
   ]
  },
  {
   "cell_type": "code",
   "execution_count": 63,
   "metadata": {},
   "outputs": [
    {
     "name": "stdout",
     "output_type": "stream",
     "text": [
      "Итоговое среднее абсолютное процентное отклонение константной модели: 5.72\n"
     ]
    }
   ],
   "source": [
    "print('Итоговое среднее абсолютное процентное отклонение константной модели: {:.2f}'\\\n",
    "      .format(smape_result(smape_rougher, smape_final)))"
   ]
  },
  {
   "cell_type": "markdown",
   "metadata": {},
   "source": [
    "## Вывод"
   ]
  },
  {
   "cell_type": "markdown",
   "metadata": {},
   "source": [
    "После загрузки и изучения данных, были выявлены пропуски. С помощью метрики МАЕ убедились, что эффективность обогащения рассчитана правильно. Изучили, данную нам, тестовую выборку. Там отсутствуют 34 столбца. Это расчетные характеристики, данные по концентрациям на выходе, хвосты. Эти параметры не являются признаками, они доступны только после окончания процесса."
   ]
  },
  {
   "cell_type": "markdown",
   "metadata": {},
   "source": [
    "Провели предобработку данных:\n",
    "- Простые дубликаты не были выявлены. \n",
    "- В тестовую выборку добавили целевые признаки. \n",
    "- В тренировочной выборке заменили пропуски предыдущими непропущенными значениями."
   ]
  },
  {
   "cell_type": "markdown",
   "metadata": {},
   "source": [
    "Посмотрели, как меняется концентрация металлов на различных этапах: в сырье, в черновом концентрате, в концентрате после первой очистки и в финальном концентрате. Концентрация золота и свинца на каждом этапе возрастает. Концентрация серебра сильно падает после второго этапа очистки."
   ]
  },
  {
   "cell_type": "markdown",
   "metadata": {},
   "source": [
    "Сравнили распределение размеров гранул исходного сырья на обучающей и тестовой выборках. Они сильно не отличаются."
   ]
  },
  {
   "cell_type": "markdown",
   "metadata": {},
   "source": [
    "Исследовали суммарную концентрацию металлов на разных стадиях. Обратили внимание на нулевые и около нулевые значения концентраций. Это явная ошибка. Скорее всего это связано со сбоем измерительного оборудования. Такие наблюдения удалили из обучающих данных. Построили графики по обновленным данным. Суммарная концентрация металлов возрастает на каждой стадии. "
   ]
  },
  {
   "cell_type": "markdown",
   "metadata": {},
   "source": [
    "В тренировочной выборке оставили только те столбцы, в которых есть признаки и целевые признаки."
   ]
  },
  {
   "cell_type": "markdown",
   "metadata": {},
   "source": [
    "Написали функцию для вычисления итоговой sMAPE. Разбили обучающую выборку на признаки и целевые признаки. Перед тем, как разбить тестовую выборку, заменили пропущенные значения предыдущими непропущенными. На обучающей выборке проверили 3 модели: Линейная регрессия, Дерево решений в регрессии и Случайный лес в регрессии. Лучшей себя показала модель Случайный лес. Ее проверили на тестовой выборке. Итоговое среднее абсолютное процентное отклонение около 5%. Проверили модель на адекватность. Среднее отклонение константной модели оказалась выше, значит выбранная нами модель отлично подходит для использования."
   ]
  }
 ],
 "metadata": {
  "ExecuteTimeLog": [
   {
    "duration": 393,
    "start_time": "2023-05-24T12:47:39.796Z"
   },
   {
    "duration": 102,
    "start_time": "2023-05-24T12:48:35.707Z"
   },
   {
    "duration": 1671,
    "start_time": "2023-05-24T12:51:11.884Z"
   },
   {
    "duration": 385,
    "start_time": "2023-05-24T12:51:34.896Z"
   },
   {
    "duration": 1252,
    "start_time": "2023-05-24T12:52:31.875Z"
   },
   {
    "duration": 380,
    "start_time": "2023-05-24T12:52:33.128Z"
   },
   {
    "duration": 21,
    "start_time": "2023-05-24T12:53:27.821Z"
   },
   {
    "duration": 16,
    "start_time": "2023-05-24T13:28:31.800Z"
   },
   {
    "duration": 755,
    "start_time": "2023-05-24T13:54:43.171Z"
   },
   {
    "duration": 6,
    "start_time": "2023-05-24T13:55:20.210Z"
   },
   {
    "duration": 34,
    "start_time": "2023-05-24T13:55:31.134Z"
   },
   {
    "duration": 25,
    "start_time": "2023-05-24T13:58:36.420Z"
   },
   {
    "duration": 16,
    "start_time": "2023-05-24T13:58:47.358Z"
   },
   {
    "duration": 3,
    "start_time": "2023-05-24T14:01:02.053Z"
   },
   {
    "duration": 4,
    "start_time": "2023-05-24T14:02:09.697Z"
   },
   {
    "duration": 6,
    "start_time": "2023-05-24T14:02:14.362Z"
   },
   {
    "duration": 71,
    "start_time": "2023-05-24T14:03:33.904Z"
   },
   {
    "duration": 5,
    "start_time": "2023-05-24T14:03:43.089Z"
   },
   {
    "duration": 4,
    "start_time": "2023-05-24T14:04:13.125Z"
   },
   {
    "duration": 830,
    "start_time": "2023-05-24T14:13:28.572Z"
   },
   {
    "duration": 20,
    "start_time": "2023-05-24T14:13:35.765Z"
   },
   {
    "duration": 790,
    "start_time": "2023-05-24T14:13:49.166Z"
   },
   {
    "duration": 26,
    "start_time": "2023-05-24T14:14:19.662Z"
   },
   {
    "duration": 6,
    "start_time": "2023-05-24T14:14:38.797Z"
   },
   {
    "duration": 6,
    "start_time": "2023-05-24T14:14:40.991Z"
   },
   {
    "duration": 25,
    "start_time": "2023-05-24T14:19:39.466Z"
   },
   {
    "duration": 6,
    "start_time": "2023-05-24T14:20:21.419Z"
   },
   {
    "duration": 13,
    "start_time": "2023-05-24T14:25:30.262Z"
   },
   {
    "duration": 5,
    "start_time": "2023-05-24T14:25:45.666Z"
   },
   {
    "duration": 9,
    "start_time": "2023-05-24T14:40:22.646Z"
   },
   {
    "duration": 10,
    "start_time": "2023-05-24T14:42:04.880Z"
   },
   {
    "duration": 9,
    "start_time": "2023-05-24T14:42:15.053Z"
   },
   {
    "duration": 7,
    "start_time": "2023-05-24T14:42:16.258Z"
   },
   {
    "duration": 11,
    "start_time": "2023-05-24T14:42:47.852Z"
   },
   {
    "duration": 6,
    "start_time": "2023-05-24T14:45:06.500Z"
   },
   {
    "duration": 147,
    "start_time": "2023-05-24T14:48:45.797Z"
   },
   {
    "duration": 6,
    "start_time": "2023-05-24T15:36:37.237Z"
   },
   {
    "duration": 823,
    "start_time": "2023-05-24T15:40:27.359Z"
   },
   {
    "duration": 13,
    "start_time": "2023-05-24T15:40:46.181Z"
   },
   {
    "duration": 12,
    "start_time": "2023-05-24T15:40:57.048Z"
   },
   {
    "duration": 13,
    "start_time": "2023-05-24T15:53:35.280Z"
   },
   {
    "duration": 15,
    "start_time": "2023-05-24T15:54:24.845Z"
   },
   {
    "duration": 10,
    "start_time": "2023-05-24T16:08:46.989Z"
   },
   {
    "duration": 10,
    "start_time": "2023-05-24T16:11:20.695Z"
   },
   {
    "duration": 50,
    "start_time": "2023-05-24T16:12:39.250Z"
   },
   {
    "duration": 55,
    "start_time": "2023-05-24T16:13:04.512Z"
   },
   {
    "duration": 13,
    "start_time": "2023-05-24T16:13:12.070Z"
   },
   {
    "duration": 10,
    "start_time": "2023-05-24T16:18:26.574Z"
   },
   {
    "duration": 13,
    "start_time": "2023-05-24T16:18:55.399Z"
   },
   {
    "duration": 10,
    "start_time": "2023-05-24T16:19:01.172Z"
   },
   {
    "duration": 4,
    "start_time": "2023-05-24T16:23:57.115Z"
   },
   {
    "duration": 7,
    "start_time": "2023-05-24T16:24:09.457Z"
   },
   {
    "duration": 13,
    "start_time": "2023-05-24T16:24:53.568Z"
   },
   {
    "duration": 8,
    "start_time": "2023-05-24T16:25:05.895Z"
   },
   {
    "duration": 3,
    "start_time": "2023-05-24T16:25:59.352Z"
   },
   {
    "duration": 786,
    "start_time": "2023-05-24T16:25:59.357Z"
   },
   {
    "duration": 18,
    "start_time": "2023-05-24T16:26:00.145Z"
   },
   {
    "duration": 5,
    "start_time": "2023-05-24T16:26:00.165Z"
   },
   {
    "duration": 10,
    "start_time": "2023-05-24T16:26:00.172Z"
   },
   {
    "duration": 26,
    "start_time": "2023-05-24T16:26:00.184Z"
   },
   {
    "duration": 12,
    "start_time": "2023-05-24T16:26:04.092Z"
   },
   {
    "duration": 4,
    "start_time": "2023-05-24T16:26:17.285Z"
   },
   {
    "duration": 871,
    "start_time": "2023-05-24T16:26:17.293Z"
   },
   {
    "duration": 20,
    "start_time": "2023-05-24T16:26:18.169Z"
   },
   {
    "duration": 6,
    "start_time": "2023-05-24T16:26:18.191Z"
   },
   {
    "duration": 6,
    "start_time": "2023-05-24T16:26:18.198Z"
   },
   {
    "duration": 13,
    "start_time": "2023-05-24T16:26:18.206Z"
   },
   {
    "duration": 7,
    "start_time": "2023-05-24T16:26:29.816Z"
   },
   {
    "duration": 7,
    "start_time": "2023-05-24T16:27:13.954Z"
   },
   {
    "duration": 9,
    "start_time": "2023-05-24T16:27:23.356Z"
   },
   {
    "duration": 3,
    "start_time": "2023-05-24T16:27:55.650Z"
   },
   {
    "duration": 799,
    "start_time": "2023-05-24T16:27:55.655Z"
   },
   {
    "duration": 20,
    "start_time": "2023-05-24T16:27:56.457Z"
   },
   {
    "duration": 5,
    "start_time": "2023-05-24T16:27:56.479Z"
   },
   {
    "duration": 10,
    "start_time": "2023-05-24T16:27:56.486Z"
   },
   {
    "duration": 22,
    "start_time": "2023-05-24T16:27:56.497Z"
   },
   {
    "duration": 6,
    "start_time": "2023-05-24T16:28:01.354Z"
   },
   {
    "duration": 12,
    "start_time": "2023-05-24T16:28:01.961Z"
   },
   {
    "duration": 3,
    "start_time": "2023-05-24T16:35:10.240Z"
   },
   {
    "duration": 800,
    "start_time": "2023-05-24T16:35:10.245Z"
   },
   {
    "duration": 20,
    "start_time": "2023-05-24T16:35:11.046Z"
   },
   {
    "duration": 5,
    "start_time": "2023-05-24T16:35:11.068Z"
   },
   {
    "duration": 6,
    "start_time": "2023-05-24T16:35:11.074Z"
   },
   {
    "duration": 17,
    "start_time": "2023-05-24T16:35:11.082Z"
   },
   {
    "duration": 9,
    "start_time": "2023-05-24T16:35:11.101Z"
   },
   {
    "duration": 7,
    "start_time": "2023-05-24T16:35:13.065Z"
   },
   {
    "duration": 10,
    "start_time": "2023-05-24T16:36:01.434Z"
   },
   {
    "duration": 3,
    "start_time": "2023-05-24T16:36:21.788Z"
   },
   {
    "duration": 819,
    "start_time": "2023-05-24T16:36:21.802Z"
   },
   {
    "duration": 19,
    "start_time": "2023-05-24T16:36:22.623Z"
   },
   {
    "duration": 6,
    "start_time": "2023-05-24T16:36:22.656Z"
   },
   {
    "duration": 15,
    "start_time": "2023-05-24T16:36:22.664Z"
   },
   {
    "duration": 14,
    "start_time": "2023-05-24T16:36:22.681Z"
   },
   {
    "duration": 6,
    "start_time": "2023-05-24T16:36:22.697Z"
   },
   {
    "duration": 10,
    "start_time": "2023-05-24T16:36:24.473Z"
   },
   {
    "duration": 1043,
    "start_time": "2023-05-24T16:36:35.291Z"
   },
   {
    "duration": 808,
    "start_time": "2023-05-24T16:36:36.336Z"
   },
   {
    "duration": 24,
    "start_time": "2023-05-24T16:36:37.146Z"
   },
   {
    "duration": 6,
    "start_time": "2023-05-24T16:36:37.172Z"
   },
   {
    "duration": 6,
    "start_time": "2023-05-24T16:36:37.180Z"
   },
   {
    "duration": 14,
    "start_time": "2023-05-24T16:36:37.188Z"
   },
   {
    "duration": 6,
    "start_time": "2023-05-24T16:36:37.204Z"
   },
   {
    "duration": 46,
    "start_time": "2023-05-24T16:36:37.212Z"
   },
   {
    "duration": 4,
    "start_time": "2023-05-24T16:36:37.260Z"
   },
   {
    "duration": 3,
    "start_time": "2023-05-24T16:37:23.207Z"
   },
   {
    "duration": 815,
    "start_time": "2023-05-24T16:37:23.213Z"
   },
   {
    "duration": 17,
    "start_time": "2023-05-24T16:37:24.030Z"
   },
   {
    "duration": 6,
    "start_time": "2023-05-24T16:37:24.057Z"
   },
   {
    "duration": 19,
    "start_time": "2023-05-24T16:37:24.065Z"
   },
   {
    "duration": 31,
    "start_time": "2023-05-24T16:37:24.085Z"
   },
   {
    "duration": 17,
    "start_time": "2023-05-24T16:37:24.118Z"
   },
   {
    "duration": 7,
    "start_time": "2023-05-24T16:37:28.408Z"
   },
   {
    "duration": 7,
    "start_time": "2023-05-24T16:39:17.302Z"
   },
   {
    "duration": 7,
    "start_time": "2023-05-24T16:39:33.517Z"
   },
   {
    "duration": 25,
    "start_time": "2023-05-24T16:40:08.059Z"
   },
   {
    "duration": 31,
    "start_time": "2023-05-24T16:40:26.212Z"
   },
   {
    "duration": 2,
    "start_time": "2023-05-24T16:41:07.117Z"
   },
   {
    "duration": 861,
    "start_time": "2023-05-24T16:41:07.122Z"
   },
   {
    "duration": 19,
    "start_time": "2023-05-24T16:41:07.985Z"
   },
   {
    "duration": 6,
    "start_time": "2023-05-24T16:41:08.006Z"
   },
   {
    "duration": 22,
    "start_time": "2023-05-24T16:41:08.013Z"
   },
   {
    "duration": 25,
    "start_time": "2023-05-24T16:41:08.037Z"
   },
   {
    "duration": 6,
    "start_time": "2023-05-24T16:41:08.064Z"
   },
   {
    "duration": 6,
    "start_time": "2023-05-24T16:41:15.143Z"
   },
   {
    "duration": 18,
    "start_time": "2023-05-24T16:41:31.094Z"
   },
   {
    "duration": 26,
    "start_time": "2023-05-24T16:42:00.062Z"
   },
   {
    "duration": 26,
    "start_time": "2023-05-24T16:42:14.319Z"
   },
   {
    "duration": 1316,
    "start_time": "2023-05-26T05:19:06.118Z"
   },
   {
    "duration": 5201,
    "start_time": "2023-05-26T05:19:07.437Z"
   },
   {
    "duration": 30,
    "start_time": "2023-05-26T05:19:12.640Z"
   },
   {
    "duration": 15,
    "start_time": "2023-05-26T05:19:12.672Z"
   },
   {
    "duration": 14,
    "start_time": "2023-05-26T05:19:12.690Z"
   },
   {
    "duration": 31,
    "start_time": "2023-05-26T05:19:12.708Z"
   },
   {
    "duration": 22,
    "start_time": "2023-05-26T05:19:25.839Z"
   },
   {
    "duration": 147,
    "start_time": "2023-05-26T05:22:13.920Z"
   },
   {
    "duration": 190,
    "start_time": "2023-05-26T05:22:55.549Z"
   },
   {
    "duration": 18,
    "start_time": "2023-05-26T05:25:47.252Z"
   },
   {
    "duration": 3,
    "start_time": "2023-05-26T05:26:24.549Z"
   },
   {
    "duration": 16,
    "start_time": "2023-05-26T05:26:27.531Z"
   },
   {
    "duration": 23,
    "start_time": "2023-05-26T05:27:09.501Z"
   },
   {
    "duration": 2153,
    "start_time": "2023-05-26T05:28:49.189Z"
   },
   {
    "duration": 4065,
    "start_time": "2023-05-26T05:28:59.054Z"
   },
   {
    "duration": 16,
    "start_time": "2023-05-26T05:29:03.121Z"
   },
   {
    "duration": 1082,
    "start_time": "2023-05-26T05:32:06.884Z"
   },
   {
    "duration": 20,
    "start_time": "2023-05-26T05:32:41.740Z"
   },
   {
    "duration": 1011,
    "start_time": "2023-05-26T05:33:10.290Z"
   },
   {
    "duration": 1186,
    "start_time": "2023-05-26T05:33:52.922Z"
   },
   {
    "duration": 12,
    "start_time": "2023-05-26T05:34:00.738Z"
   },
   {
    "duration": 8,
    "start_time": "2023-05-26T05:34:04.885Z"
   },
   {
    "duration": 920,
    "start_time": "2023-05-26T05:34:04.952Z"
   },
   {
    "duration": 30,
    "start_time": "2023-05-26T05:34:05.874Z"
   },
   {
    "duration": 7,
    "start_time": "2023-05-26T05:34:05.909Z"
   },
   {
    "duration": 13,
    "start_time": "2023-05-26T05:34:05.919Z"
   },
   {
    "duration": 54,
    "start_time": "2023-05-26T05:34:05.934Z"
   },
   {
    "duration": 28,
    "start_time": "2023-05-26T05:34:05.994Z"
   },
   {
    "duration": 146,
    "start_time": "2023-05-26T05:34:06.024Z"
   },
   {
    "duration": 164,
    "start_time": "2023-05-26T05:34:14.714Z"
   },
   {
    "duration": 15,
    "start_time": "2023-05-26T05:34:15.085Z"
   },
   {
    "duration": 12,
    "start_time": "2023-05-26T05:36:21.923Z"
   },
   {
    "duration": 54,
    "start_time": "2023-05-26T05:36:30.922Z"
   },
   {
    "duration": 4,
    "start_time": "2023-05-26T05:37:05.845Z"
   },
   {
    "duration": 1214,
    "start_time": "2023-05-26T05:37:05.852Z"
   },
   {
    "duration": 35,
    "start_time": "2023-05-26T05:37:07.072Z"
   },
   {
    "duration": 9,
    "start_time": "2023-05-26T05:37:07.114Z"
   },
   {
    "duration": 21,
    "start_time": "2023-05-26T05:37:07.130Z"
   },
   {
    "duration": 44,
    "start_time": "2023-05-26T05:37:07.155Z"
   },
   {
    "duration": 45,
    "start_time": "2023-05-26T05:37:07.208Z"
   },
   {
    "duration": 202,
    "start_time": "2023-05-26T05:37:10.008Z"
   },
   {
    "duration": 128,
    "start_time": "2023-05-26T05:58:23.205Z"
   },
   {
    "duration": 61,
    "start_time": "2023-05-26T06:06:13.648Z"
   },
   {
    "duration": 57,
    "start_time": "2023-05-26T06:12:41.146Z"
   },
   {
    "duration": 27,
    "start_time": "2023-05-26T06:13:07.018Z"
   },
   {
    "duration": 4,
    "start_time": "2023-05-26T06:16:12.520Z"
   },
   {
    "duration": 28,
    "start_time": "2023-05-26T06:16:21.275Z"
   },
   {
    "duration": 12,
    "start_time": "2023-05-26T06:16:48.311Z"
   },
   {
    "duration": 5,
    "start_time": "2023-05-26T06:17:30.039Z"
   },
   {
    "duration": 12,
    "start_time": "2023-05-26T06:17:39.598Z"
   },
   {
    "duration": 66,
    "start_time": "2023-05-26T06:17:59.615Z"
   },
   {
    "duration": 12,
    "start_time": "2023-05-26T06:18:00.910Z"
   },
   {
    "duration": 7,
    "start_time": "2023-05-26T06:18:22.013Z"
   },
   {
    "duration": 19,
    "start_time": "2023-05-26T06:18:44.996Z"
   },
   {
    "duration": 5,
    "start_time": "2023-05-26T06:19:03.342Z"
   },
   {
    "duration": 4492,
    "start_time": "2023-05-26T06:19:03.349Z"
   },
   {
    "duration": 45,
    "start_time": "2023-05-26T06:19:07.844Z"
   },
   {
    "duration": 40,
    "start_time": "2023-05-26T06:19:07.891Z"
   },
   {
    "duration": 45,
    "start_time": "2023-05-26T06:19:07.935Z"
   },
   {
    "duration": 43,
    "start_time": "2023-05-26T06:19:07.982Z"
   },
   {
    "duration": 19,
    "start_time": "2023-05-26T06:19:08.027Z"
   },
   {
    "duration": 224,
    "start_time": "2023-05-26T06:19:08.049Z"
   },
   {
    "duration": 24,
    "start_time": "2023-05-26T06:19:08.276Z"
   },
   {
    "duration": 8,
    "start_time": "2023-05-26T06:19:12.740Z"
   },
   {
    "duration": 28,
    "start_time": "2023-05-26T06:20:57.043Z"
   },
   {
    "duration": 19,
    "start_time": "2023-05-26T06:21:05.892Z"
   },
   {
    "duration": 48,
    "start_time": "2023-05-26T06:25:25.640Z"
   },
   {
    "duration": 16,
    "start_time": "2023-05-26T06:26:08.880Z"
   },
   {
    "duration": 13,
    "start_time": "2023-05-26T06:26:14.527Z"
   },
   {
    "duration": 51,
    "start_time": "2023-05-26T06:26:26.967Z"
   },
   {
    "duration": 19,
    "start_time": "2023-05-26T06:27:22.889Z"
   },
   {
    "duration": 6,
    "start_time": "2023-05-26T06:30:35.305Z"
   },
   {
    "duration": 590,
    "start_time": "2023-05-26T06:30:47.651Z"
   },
   {
    "duration": 21,
    "start_time": "2023-05-26T06:31:02.212Z"
   },
   {
    "duration": 34,
    "start_time": "2023-05-26T06:33:00.050Z"
   },
   {
    "duration": 11,
    "start_time": "2023-05-26T06:33:46.451Z"
   },
   {
    "duration": 8,
    "start_time": "2023-05-26T06:33:51.129Z"
   },
   {
    "duration": 9292,
    "start_time": "2023-05-26T06:33:51.139Z"
   },
   {
    "duration": 87,
    "start_time": "2023-05-26T06:34:00.441Z"
   },
   {
    "duration": 143,
    "start_time": "2023-05-26T06:34:00.538Z"
   },
   {
    "duration": 146,
    "start_time": "2023-05-26T06:34:00.690Z"
   },
   {
    "duration": 124,
    "start_time": "2023-05-26T06:34:00.841Z"
   },
   {
    "duration": 125,
    "start_time": "2023-05-26T06:34:00.971Z"
   },
   {
    "duration": 312,
    "start_time": "2023-05-26T06:34:01.098Z"
   },
   {
    "duration": 22,
    "start_time": "2023-05-26T06:34:01.417Z"
   },
   {
    "duration": 40,
    "start_time": "2023-05-26T06:34:04.546Z"
   },
   {
    "duration": 30,
    "start_time": "2023-05-26T06:35:24.053Z"
   },
   {
    "duration": 20,
    "start_time": "2023-05-26T06:36:09.706Z"
   },
   {
    "duration": 13,
    "start_time": "2023-05-26T06:36:27.328Z"
   },
   {
    "duration": 38,
    "start_time": "2023-05-26T06:36:33.302Z"
   },
   {
    "duration": 17,
    "start_time": "2023-05-26T06:37:11.134Z"
   },
   {
    "duration": 12,
    "start_time": "2023-05-26T06:38:07.326Z"
   },
   {
    "duration": 15,
    "start_time": "2023-05-26T06:38:13.082Z"
   },
   {
    "duration": 13,
    "start_time": "2023-05-26T06:38:25.279Z"
   },
   {
    "duration": 31,
    "start_time": "2023-05-26T06:38:37.332Z"
   },
   {
    "duration": 17,
    "start_time": "2023-05-26T06:38:43.125Z"
   },
   {
    "duration": 21,
    "start_time": "2023-05-26T06:39:06.083Z"
   },
   {
    "duration": 13,
    "start_time": "2023-05-26T06:39:16.733Z"
   },
   {
    "duration": 18,
    "start_time": "2023-05-26T06:39:48.586Z"
   },
   {
    "duration": 18,
    "start_time": "2023-05-26T06:39:56.149Z"
   },
   {
    "duration": 19,
    "start_time": "2023-05-26T06:39:57.391Z"
   },
   {
    "duration": 47,
    "start_time": "2023-05-26T06:40:05.644Z"
   },
   {
    "duration": 9,
    "start_time": "2023-05-26T06:41:24.403Z"
   },
   {
    "duration": 15,
    "start_time": "2023-05-26T06:41:24.823Z"
   },
   {
    "duration": 5,
    "start_time": "2023-05-26T06:42:31.017Z"
   },
   {
    "duration": 34,
    "start_time": "2023-05-26T06:42:39.100Z"
   },
   {
    "duration": 19,
    "start_time": "2023-05-26T06:42:56.016Z"
   },
   {
    "duration": 7,
    "start_time": "2023-05-26T06:44:28.028Z"
   },
   {
    "duration": 16,
    "start_time": "2023-05-26T06:57:56.015Z"
   },
   {
    "duration": 27,
    "start_time": "2023-05-26T06:58:06.173Z"
   },
   {
    "duration": 27,
    "start_time": "2023-05-26T07:00:35.442Z"
   },
   {
    "duration": 70,
    "start_time": "2023-05-26T07:04:10.230Z"
   },
   {
    "duration": 54,
    "start_time": "2023-05-26T07:04:25.408Z"
   },
   {
    "duration": 25,
    "start_time": "2023-05-26T07:05:20.636Z"
   },
   {
    "duration": 26,
    "start_time": "2023-05-26T07:10:09.530Z"
   },
   {
    "duration": 5,
    "start_time": "2023-05-26T07:31:18.239Z"
   },
   {
    "duration": 22,
    "start_time": "2023-05-26T07:31:23.894Z"
   },
   {
    "duration": 8,
    "start_time": "2023-05-26T07:31:34.570Z"
   },
   {
    "duration": 3726,
    "start_time": "2023-05-26T07:31:34.581Z"
   },
   {
    "duration": 30,
    "start_time": "2023-05-26T07:31:38.311Z"
   },
   {
    "duration": 13,
    "start_time": "2023-05-26T07:31:38.344Z"
   },
   {
    "duration": 16,
    "start_time": "2023-05-26T07:31:38.359Z"
   },
   {
    "duration": 23,
    "start_time": "2023-05-26T07:31:38.377Z"
   },
   {
    "duration": 34,
    "start_time": "2023-05-26T07:31:38.402Z"
   },
   {
    "duration": 189,
    "start_time": "2023-05-26T07:31:38.439Z"
   },
   {
    "duration": 16,
    "start_time": "2023-05-26T07:31:38.630Z"
   },
   {
    "duration": 24,
    "start_time": "2023-05-26T07:31:38.658Z"
   },
   {
    "duration": 18,
    "start_time": "2023-05-26T07:31:46.100Z"
   },
   {
    "duration": 48,
    "start_time": "2023-05-26T07:31:46.765Z"
   },
   {
    "duration": 13,
    "start_time": "2023-05-26T07:32:35.789Z"
   },
   {
    "duration": 5,
    "start_time": "2023-05-26T07:32:39.512Z"
   },
   {
    "duration": 1103,
    "start_time": "2023-05-26T07:32:39.520Z"
   },
   {
    "duration": 30,
    "start_time": "2023-05-26T07:32:40.626Z"
   },
   {
    "duration": 21,
    "start_time": "2023-05-26T07:32:40.659Z"
   },
   {
    "duration": 8,
    "start_time": "2023-05-26T07:32:40.683Z"
   },
   {
    "duration": 20,
    "start_time": "2023-05-26T07:32:40.693Z"
   },
   {
    "duration": 50,
    "start_time": "2023-05-26T07:32:40.715Z"
   },
   {
    "duration": 186,
    "start_time": "2023-05-26T07:32:40.767Z"
   },
   {
    "duration": 19,
    "start_time": "2023-05-26T07:32:59.036Z"
   },
   {
    "duration": 22,
    "start_time": "2023-05-26T07:33:02.537Z"
   },
   {
    "duration": 44,
    "start_time": "2023-05-26T07:33:05.880Z"
   },
   {
    "duration": 212,
    "start_time": "2023-05-26T07:35:09.292Z"
   },
   {
    "duration": 7086,
    "start_time": "2023-05-26T07:39:08.711Z"
   },
   {
    "duration": 21,
    "start_time": "2023-05-26T07:40:31.029Z"
   },
   {
    "duration": 7,
    "start_time": "2023-05-26T07:41:55.965Z"
   },
   {
    "duration": 49,
    "start_time": "2023-05-26T07:42:07.788Z"
   },
   {
    "duration": 29,
    "start_time": "2023-05-26T07:42:39.645Z"
   },
   {
    "duration": 3,
    "start_time": "2023-05-26T08:10:08.511Z"
   },
   {
    "duration": 3837,
    "start_time": "2023-05-26T08:10:08.517Z"
   },
   {
    "duration": 23,
    "start_time": "2023-05-26T08:10:12.356Z"
   },
   {
    "duration": 10,
    "start_time": "2023-05-26T08:10:12.381Z"
   },
   {
    "duration": 17,
    "start_time": "2023-05-26T08:10:12.392Z"
   },
   {
    "duration": 31,
    "start_time": "2023-05-26T08:10:12.410Z"
   },
   {
    "duration": 32,
    "start_time": "2023-05-26T08:10:12.443Z"
   },
   {
    "duration": 144,
    "start_time": "2023-05-26T08:10:12.477Z"
   },
   {
    "duration": 14,
    "start_time": "2023-05-26T08:10:12.622Z"
   },
   {
    "duration": 37,
    "start_time": "2023-05-26T08:10:12.638Z"
   },
   {
    "duration": 44,
    "start_time": "2023-05-26T08:10:12.677Z"
   },
   {
    "duration": 51,
    "start_time": "2023-05-26T08:10:12.723Z"
   },
   {
    "duration": 20,
    "start_time": "2023-05-26T08:10:26.635Z"
   },
   {
    "duration": 830,
    "start_time": "2023-05-26T08:15:32.055Z"
   },
   {
    "duration": 19,
    "start_time": "2023-05-26T08:16:09.336Z"
   },
   {
    "duration": 271,
    "start_time": "2023-05-26T08:18:34.077Z"
   },
   {
    "duration": 725,
    "start_time": "2023-05-26T08:19:34.073Z"
   },
   {
    "duration": 18,
    "start_time": "2023-05-26T08:22:49.826Z"
   },
   {
    "duration": 283,
    "start_time": "2023-05-26T08:23:07.074Z"
   },
   {
    "duration": 3,
    "start_time": "2023-05-26T08:25:13.816Z"
   },
   {
    "duration": 281,
    "start_time": "2023-05-26T08:25:20.336Z"
   },
   {
    "duration": 300,
    "start_time": "2023-05-26T08:28:01.374Z"
   },
   {
    "duration": 263,
    "start_time": "2023-05-26T08:28:18.037Z"
   },
   {
    "duration": 283,
    "start_time": "2023-05-26T08:29:41.237Z"
   },
   {
    "duration": 270,
    "start_time": "2023-05-26T08:30:33.140Z"
   },
   {
    "duration": 395,
    "start_time": "2023-05-26T08:31:00.480Z"
   },
   {
    "duration": 204,
    "start_time": "2023-05-26T08:32:51.255Z"
   },
   {
    "duration": 235,
    "start_time": "2023-05-26T08:33:38.491Z"
   },
   {
    "duration": 511,
    "start_time": "2023-05-26T08:35:42.384Z"
   },
   {
    "duration": 296,
    "start_time": "2023-05-26T08:36:02.133Z"
   },
   {
    "duration": 552,
    "start_time": "2023-05-26T08:36:33.518Z"
   },
   {
    "duration": 569,
    "start_time": "2023-05-26T08:36:46.921Z"
   },
   {
    "duration": 510,
    "start_time": "2023-05-26T08:37:50.255Z"
   },
   {
    "duration": 471,
    "start_time": "2023-05-26T08:38:47.055Z"
   },
   {
    "duration": 429,
    "start_time": "2023-05-26T08:39:29.293Z"
   },
   {
    "duration": 366,
    "start_time": "2023-05-26T08:39:36.526Z"
   },
   {
    "duration": 552,
    "start_time": "2023-05-26T08:40:48.381Z"
   },
   {
    "duration": 606,
    "start_time": "2023-05-26T08:42:43.219Z"
   },
   {
    "duration": 607,
    "start_time": "2023-05-26T08:43:01.224Z"
   },
   {
    "duration": 594,
    "start_time": "2023-05-26T08:46:57.847Z"
   },
   {
    "duration": 553,
    "start_time": "2023-05-26T08:47:12.300Z"
   },
   {
    "duration": 622,
    "start_time": "2023-05-26T08:47:17.771Z"
   },
   {
    "duration": 654,
    "start_time": "2023-05-26T08:49:04.956Z"
   },
   {
    "duration": 993,
    "start_time": "2023-05-26T08:50:51.053Z"
   },
   {
    "duration": 476,
    "start_time": "2023-05-26T08:50:55.082Z"
   },
   {
    "duration": 559,
    "start_time": "2023-05-26T08:55:17.428Z"
   },
   {
    "duration": 518,
    "start_time": "2023-05-26T08:58:05.411Z"
   },
   {
    "duration": 1089,
    "start_time": "2023-05-26T08:58:11.235Z"
   },
   {
    "duration": 272,
    "start_time": "2023-05-26T08:58:24.624Z"
   },
   {
    "duration": 4,
    "start_time": "2023-05-26T08:58:45.657Z"
   },
   {
    "duration": 2420,
    "start_time": "2023-05-26T08:58:45.670Z"
   },
   {
    "duration": 20,
    "start_time": "2023-05-26T08:58:48.092Z"
   },
   {
    "duration": 6,
    "start_time": "2023-05-26T08:58:48.114Z"
   },
   {
    "duration": 11,
    "start_time": "2023-05-26T08:58:48.122Z"
   },
   {
    "duration": 41,
    "start_time": "2023-05-26T08:58:48.135Z"
   },
   {
    "duration": 17,
    "start_time": "2023-05-26T08:58:48.179Z"
   },
   {
    "duration": 149,
    "start_time": "2023-05-26T08:58:48.197Z"
   },
   {
    "duration": 20,
    "start_time": "2023-05-26T08:58:48.348Z"
   },
   {
    "duration": 22,
    "start_time": "2023-05-26T08:58:48.370Z"
   },
   {
    "duration": 44,
    "start_time": "2023-05-26T08:58:48.396Z"
   },
   {
    "duration": 49,
    "start_time": "2023-05-26T08:58:48.456Z"
   },
   {
    "duration": 23,
    "start_time": "2023-05-26T08:58:48.507Z"
   },
   {
    "duration": 276,
    "start_time": "2023-05-26T08:58:53.686Z"
   },
   {
    "duration": 1454,
    "start_time": "2023-05-26T08:59:39.588Z"
   },
   {
    "duration": 883,
    "start_time": "2023-05-26T08:59:41.044Z"
   },
   {
    "duration": 18,
    "start_time": "2023-05-26T08:59:41.929Z"
   },
   {
    "duration": 7,
    "start_time": "2023-05-26T08:59:41.957Z"
   },
   {
    "duration": 15,
    "start_time": "2023-05-26T08:59:41.966Z"
   },
   {
    "duration": 34,
    "start_time": "2023-05-26T08:59:41.983Z"
   },
   {
    "duration": 15,
    "start_time": "2023-05-26T08:59:42.019Z"
   },
   {
    "duration": 132,
    "start_time": "2023-05-26T08:59:42.036Z"
   },
   {
    "duration": 21,
    "start_time": "2023-05-26T08:59:42.170Z"
   },
   {
    "duration": 17,
    "start_time": "2023-05-26T08:59:42.193Z"
   },
   {
    "duration": 60,
    "start_time": "2023-05-26T08:59:42.212Z"
   },
   {
    "duration": 40,
    "start_time": "2023-05-26T08:59:42.274Z"
   },
   {
    "duration": 19,
    "start_time": "2023-05-26T08:59:42.316Z"
   },
   {
    "duration": 301,
    "start_time": "2023-05-26T08:59:42.358Z"
   },
   {
    "duration": 298,
    "start_time": "2023-05-26T08:59:42.661Z"
   },
   {
    "duration": 589,
    "start_time": "2023-05-26T08:59:42.960Z"
   },
   {
    "duration": 546,
    "start_time": "2023-05-26T08:59:43.551Z"
   },
   {
    "duration": 14,
    "start_time": "2023-05-26T08:59:44.100Z"
   },
   {
    "duration": 243,
    "start_time": "2023-05-26T09:01:58.577Z"
   },
   {
    "duration": 581,
    "start_time": "2023-05-26T09:02:52.888Z"
   },
   {
    "duration": 564,
    "start_time": "2023-05-26T09:02:57.127Z"
   },
   {
    "duration": 324,
    "start_time": "2023-05-26T09:06:04.988Z"
   },
   {
    "duration": 340,
    "start_time": "2023-05-26T09:06:17.288Z"
   },
   {
    "duration": 301,
    "start_time": "2023-05-26T09:06:39.088Z"
   },
   {
    "duration": 207,
    "start_time": "2023-05-26T09:07:08.573Z"
   },
   {
    "duration": 556,
    "start_time": "2023-05-26T09:07:09.400Z"
   },
   {
    "duration": 219,
    "start_time": "2023-05-26T09:08:04.686Z"
   },
   {
    "duration": 288,
    "start_time": "2023-05-26T09:08:10.707Z"
   },
   {
    "duration": 248,
    "start_time": "2023-05-26T09:08:22.786Z"
   },
   {
    "duration": 656,
    "start_time": "2023-05-26T09:08:49.000Z"
   },
   {
    "duration": 7,
    "start_time": "2023-05-26T09:12:11.031Z"
   },
   {
    "duration": 7,
    "start_time": "2023-05-26T09:12:14.703Z"
   },
   {
    "duration": 7,
    "start_time": "2023-05-26T09:12:27.587Z"
   },
   {
    "duration": 7,
    "start_time": "2023-05-26T09:12:48.061Z"
   },
   {
    "duration": 7,
    "start_time": "2023-05-26T09:13:06.854Z"
   },
   {
    "duration": 1174,
    "start_time": "2023-05-26T09:15:15.806Z"
   },
   {
    "duration": 9,
    "start_time": "2023-05-26T09:15:54.908Z"
   },
   {
    "duration": 7,
    "start_time": "2023-05-26T09:16:24.052Z"
   },
   {
    "duration": 6,
    "start_time": "2023-05-26T09:16:24.498Z"
   },
   {
    "duration": 6,
    "start_time": "2023-05-26T09:16:24.948Z"
   },
   {
    "duration": 786,
    "start_time": "2023-05-26T09:24:51.154Z"
   },
   {
    "duration": 177,
    "start_time": "2023-05-26T09:25:13.882Z"
   },
   {
    "duration": 185,
    "start_time": "2023-05-26T09:29:22.837Z"
   },
   {
    "duration": 674,
    "start_time": "2023-05-26T09:29:52.855Z"
   },
   {
    "duration": 402,
    "start_time": "2023-05-26T09:30:15.262Z"
   },
   {
    "duration": 605,
    "start_time": "2023-05-26T09:30:59.718Z"
   },
   {
    "duration": 970,
    "start_time": "2023-05-26T09:31:41.333Z"
   },
   {
    "duration": 6,
    "start_time": "2023-05-26T09:41:44.358Z"
   },
   {
    "duration": 7,
    "start_time": "2023-05-26T09:42:05.057Z"
   },
   {
    "duration": 9,
    "start_time": "2023-05-26T09:42:48.157Z"
   },
   {
    "duration": 11,
    "start_time": "2023-05-26T09:43:17.351Z"
   },
   {
    "duration": 7,
    "start_time": "2023-05-26T09:44:19.667Z"
   },
   {
    "duration": 8,
    "start_time": "2023-05-26T09:45:43.011Z"
   },
   {
    "duration": 5,
    "start_time": "2023-05-26T09:46:01.018Z"
   },
   {
    "duration": 847,
    "start_time": "2023-05-26T09:47:23.041Z"
   },
   {
    "duration": 9,
    "start_time": "2023-05-26T09:47:28.529Z"
   },
   {
    "duration": 8,
    "start_time": "2023-05-26T09:47:41.720Z"
   },
   {
    "duration": 13,
    "start_time": "2023-05-26T09:49:18.319Z"
   },
   {
    "duration": 15,
    "start_time": "2023-05-26T09:50:14.953Z"
   },
   {
    "duration": 589,
    "start_time": "2023-05-26T09:56:52.728Z"
   },
   {
    "duration": 542,
    "start_time": "2023-05-26T09:57:06.056Z"
   },
   {
    "duration": 13,
    "start_time": "2023-05-26T09:59:00.438Z"
   },
   {
    "duration": 17,
    "start_time": "2023-05-26T10:00:42.125Z"
   },
   {
    "duration": 16,
    "start_time": "2023-05-26T10:00:54.701Z"
   },
   {
    "duration": 18,
    "start_time": "2023-05-26T10:01:14.780Z"
   },
   {
    "duration": 15,
    "start_time": "2023-05-26T10:02:44.148Z"
   },
   {
    "duration": 22,
    "start_time": "2023-05-26T10:02:50.813Z"
   },
   {
    "duration": 5,
    "start_time": "2023-05-26T10:03:04.640Z"
   },
   {
    "duration": 3583,
    "start_time": "2023-05-26T10:03:04.648Z"
   },
   {
    "duration": 27,
    "start_time": "2023-05-26T10:03:08.234Z"
   },
   {
    "duration": 7,
    "start_time": "2023-05-26T10:03:08.265Z"
   },
   {
    "duration": 12,
    "start_time": "2023-05-26T10:03:08.275Z"
   },
   {
    "duration": 27,
    "start_time": "2023-05-26T10:03:08.290Z"
   },
   {
    "duration": 45,
    "start_time": "2023-05-26T10:03:08.319Z"
   },
   {
    "duration": 197,
    "start_time": "2023-05-26T10:03:08.367Z"
   },
   {
    "duration": 24,
    "start_time": "2023-05-26T10:03:08.567Z"
   },
   {
    "duration": 25,
    "start_time": "2023-05-26T10:03:08.594Z"
   },
   {
    "duration": 77,
    "start_time": "2023-05-26T10:03:08.623Z"
   },
   {
    "duration": 65,
    "start_time": "2023-05-26T10:03:08.702Z"
   },
   {
    "duration": 27,
    "start_time": "2023-05-26T10:03:08.770Z"
   },
   {
    "duration": 677,
    "start_time": "2023-05-26T10:03:08.799Z"
   },
   {
    "duration": 589,
    "start_time": "2023-05-26T10:03:09.478Z"
   },
   {
    "duration": 553,
    "start_time": "2023-05-26T10:03:10.069Z"
   },
   {
    "duration": 16,
    "start_time": "2023-05-26T10:03:10.624Z"
   },
   {
    "duration": 610,
    "start_time": "2023-05-26T10:03:10.642Z"
   },
   {
    "duration": 7,
    "start_time": "2023-05-26T10:03:13.876Z"
   },
   {
    "duration": 19,
    "start_time": "2023-05-26T10:03:32.387Z"
   },
   {
    "duration": 7,
    "start_time": "2023-05-26T10:04:46.506Z"
   },
   {
    "duration": 6,
    "start_time": "2023-05-26T10:05:18.218Z"
   },
   {
    "duration": 9,
    "start_time": "2023-05-26T10:06:05.178Z"
   },
   {
    "duration": 7,
    "start_time": "2023-05-26T10:06:39.583Z"
   },
   {
    "duration": 8,
    "start_time": "2023-05-26T10:06:53.560Z"
   },
   {
    "duration": 6,
    "start_time": "2023-05-26T10:07:23.048Z"
   },
   {
    "duration": 7,
    "start_time": "2023-05-26T10:07:23.608Z"
   },
   {
    "duration": 9,
    "start_time": "2023-05-26T10:07:24.216Z"
   },
   {
    "duration": 174,
    "start_time": "2023-05-26T10:08:41.886Z"
   },
   {
    "duration": 206,
    "start_time": "2023-05-26T10:08:57.726Z"
   },
   {
    "duration": 269,
    "start_time": "2023-05-26T10:10:00.037Z"
   },
   {
    "duration": 240,
    "start_time": "2023-05-26T10:10:46.357Z"
   },
   {
    "duration": 229,
    "start_time": "2023-05-26T10:10:52.492Z"
   },
   {
    "duration": 212,
    "start_time": "2023-05-26T10:11:00.192Z"
   },
   {
    "duration": 414,
    "start_time": "2023-05-26T10:11:15.522Z"
   },
   {
    "duration": 287,
    "start_time": "2023-05-26T10:12:18.040Z"
   },
   {
    "duration": 402,
    "start_time": "2023-05-26T10:12:24.920Z"
   },
   {
    "duration": 255,
    "start_time": "2023-05-26T10:12:36.330Z"
   },
   {
    "duration": 407,
    "start_time": "2023-05-26T10:13:09.227Z"
   },
   {
    "duration": 307,
    "start_time": "2023-05-26T10:13:30.587Z"
   },
   {
    "duration": 336,
    "start_time": "2023-05-26T10:13:37.183Z"
   },
   {
    "duration": 899,
    "start_time": "2023-05-26T10:14:39.018Z"
   },
   {
    "duration": 898,
    "start_time": "2023-05-26T10:14:46.037Z"
   },
   {
    "duration": 442,
    "start_time": "2023-05-26T10:15:38.026Z"
   },
   {
    "duration": 12,
    "start_time": "2023-05-26T10:19:58.676Z"
   },
   {
    "duration": 58,
    "start_time": "2023-05-27T11:13:46.152Z"
   },
   {
    "duration": 1606,
    "start_time": "2023-05-27T11:13:50.520Z"
   },
   {
    "duration": 4209,
    "start_time": "2023-05-27T11:13:52.128Z"
   },
   {
    "duration": 27,
    "start_time": "2023-05-27T11:13:56.339Z"
   },
   {
    "duration": 14,
    "start_time": "2023-05-27T11:13:56.369Z"
   },
   {
    "duration": 6,
    "start_time": "2023-05-27T11:13:56.385Z"
   },
   {
    "duration": 16,
    "start_time": "2023-05-27T11:13:56.393Z"
   },
   {
    "duration": 18,
    "start_time": "2023-05-27T11:13:56.410Z"
   },
   {
    "duration": 161,
    "start_time": "2023-05-27T11:13:56.429Z"
   },
   {
    "duration": 20,
    "start_time": "2023-05-27T11:13:56.592Z"
   },
   {
    "duration": 45,
    "start_time": "2023-05-27T11:13:56.616Z"
   },
   {
    "duration": 41,
    "start_time": "2023-05-27T11:13:56.667Z"
   },
   {
    "duration": 51,
    "start_time": "2023-05-27T11:13:56.710Z"
   },
   {
    "duration": 26,
    "start_time": "2023-05-27T11:13:56.764Z"
   },
   {
    "duration": 737,
    "start_time": "2023-05-27T11:13:56.792Z"
   },
   {
    "duration": 550,
    "start_time": "2023-05-27T11:13:57.531Z"
   },
   {
    "duration": 734,
    "start_time": "2023-05-27T11:13:58.088Z"
   },
   {
    "duration": 17,
    "start_time": "2023-05-27T11:13:58.824Z"
   },
   {
    "duration": 651,
    "start_time": "2023-05-27T11:13:58.843Z"
   },
   {
    "duration": 6,
    "start_time": "2023-05-27T11:13:59.496Z"
   },
   {
    "duration": 12,
    "start_time": "2023-05-27T11:13:59.505Z"
   },
   {
    "duration": 6,
    "start_time": "2023-05-27T11:13:59.519Z"
   },
   {
    "duration": 12,
    "start_time": "2023-05-27T11:13:59.528Z"
   },
   {
    "duration": 5,
    "start_time": "2023-05-27T11:14:22.286Z"
   },
   {
    "duration": 202,
    "start_time": "2023-05-27T11:14:22.747Z"
   },
   {
    "duration": 237,
    "start_time": "2023-05-27T11:14:58.744Z"
   },
   {
    "duration": 203,
    "start_time": "2023-05-27T11:15:18.426Z"
   },
   {
    "duration": 234,
    "start_time": "2023-05-27T11:15:53.151Z"
   },
   {
    "duration": 207,
    "start_time": "2023-05-27T11:17:39.401Z"
   },
   {
    "duration": 672,
    "start_time": "2023-05-27T11:17:53.717Z"
   },
   {
    "duration": 175,
    "start_time": "2023-05-27T11:18:59.939Z"
   },
   {
    "duration": 150,
    "start_time": "2023-05-27T11:19:00.925Z"
   },
   {
    "duration": 168,
    "start_time": "2023-05-27T11:19:10.516Z"
   },
   {
    "duration": 131,
    "start_time": "2023-05-27T11:19:13.611Z"
   },
   {
    "duration": 182,
    "start_time": "2023-05-27T11:19:14.493Z"
   },
   {
    "duration": 149,
    "start_time": "2023-05-27T11:19:16.780Z"
   },
   {
    "duration": 25,
    "start_time": "2023-05-27T11:25:30.656Z"
   },
   {
    "duration": 552,
    "start_time": "2023-05-27T11:25:35.012Z"
   },
   {
    "duration": 537,
    "start_time": "2023-05-27T11:25:39.152Z"
   },
   {
    "duration": 524,
    "start_time": "2023-05-27T11:25:43.693Z"
   },
   {
    "duration": 18,
    "start_time": "2023-05-27T11:25:46.950Z"
   },
   {
    "duration": 443,
    "start_time": "2023-05-27T11:25:49.093Z"
   },
   {
    "duration": 5,
    "start_time": "2023-05-27T11:25:54.021Z"
   },
   {
    "duration": 6,
    "start_time": "2023-05-27T11:25:54.614Z"
   },
   {
    "duration": 6,
    "start_time": "2023-05-27T11:25:54.972Z"
   },
   {
    "duration": 5,
    "start_time": "2023-05-27T11:25:55.285Z"
   },
   {
    "duration": 177,
    "start_time": "2023-05-27T11:25:56.151Z"
   },
   {
    "duration": 137,
    "start_time": "2023-05-27T11:26:00.718Z"
   },
   {
    "duration": 168,
    "start_time": "2023-05-27T11:26:01.751Z"
   },
   {
    "duration": 155,
    "start_time": "2023-05-27T11:26:02.510Z"
   },
   {
    "duration": 20,
    "start_time": "2023-05-27T11:27:27.497Z"
   },
   {
    "duration": 44,
    "start_time": "2023-05-27T11:27:49.652Z"
   },
   {
    "duration": 7,
    "start_time": "2023-05-27T11:33:16.758Z"
   },
   {
    "duration": 1072,
    "start_time": "2023-05-27T11:33:16.768Z"
   },
   {
    "duration": 38,
    "start_time": "2023-05-27T11:33:17.842Z"
   },
   {
    "duration": 7,
    "start_time": "2023-05-27T11:33:17.882Z"
   },
   {
    "duration": 12,
    "start_time": "2023-05-27T11:33:17.891Z"
   },
   {
    "duration": 19,
    "start_time": "2023-05-27T11:33:17.904Z"
   },
   {
    "duration": 40,
    "start_time": "2023-05-27T11:33:17.925Z"
   },
   {
    "duration": 153,
    "start_time": "2023-05-27T11:33:17.970Z"
   },
   {
    "duration": 14,
    "start_time": "2023-05-27T11:33:18.126Z"
   },
   {
    "duration": 47,
    "start_time": "2023-05-27T11:33:18.142Z"
   },
   {
    "duration": 31,
    "start_time": "2023-05-27T11:33:18.192Z"
   },
   {
    "duration": 44,
    "start_time": "2023-05-27T11:33:18.225Z"
   },
   {
    "duration": 24,
    "start_time": "2023-05-27T11:33:18.274Z"
   },
   {
    "duration": 583,
    "start_time": "2023-05-27T11:33:18.300Z"
   },
   {
    "duration": 640,
    "start_time": "2023-05-27T11:33:18.887Z"
   },
   {
    "duration": 1122,
    "start_time": "2023-05-27T11:33:19.528Z"
   },
   {
    "duration": 23,
    "start_time": "2023-05-27T11:33:20.656Z"
   },
   {
    "duration": 446,
    "start_time": "2023-05-27T11:33:20.685Z"
   },
   {
    "duration": 5,
    "start_time": "2023-05-27T11:33:21.133Z"
   },
   {
    "duration": 13,
    "start_time": "2023-05-27T11:33:21.139Z"
   },
   {
    "duration": 14,
    "start_time": "2023-05-27T11:33:21.161Z"
   },
   {
    "duration": 15,
    "start_time": "2023-05-27T11:33:21.177Z"
   },
   {
    "duration": 200,
    "start_time": "2023-05-27T11:33:21.193Z"
   },
   {
    "duration": 143,
    "start_time": "2023-05-27T11:33:21.397Z"
   },
   {
    "duration": 162,
    "start_time": "2023-05-27T11:33:21.542Z"
   },
   {
    "duration": 172,
    "start_time": "2023-05-27T11:33:21.706Z"
   },
   {
    "duration": 6,
    "start_time": "2023-05-27T11:34:28.258Z"
   },
   {
    "duration": 10,
    "start_time": "2023-05-27T11:35:29.092Z"
   },
   {
    "duration": 16,
    "start_time": "2023-05-27T11:35:34.358Z"
   },
   {
    "duration": 11,
    "start_time": "2023-05-27T11:35:50.556Z"
   },
   {
    "duration": 5,
    "start_time": "2023-05-27T11:35:59.804Z"
   },
   {
    "duration": 6,
    "start_time": "2023-05-27T11:36:05.482Z"
   },
   {
    "duration": 4,
    "start_time": "2023-05-27T11:36:17.928Z"
   },
   {
    "duration": 8,
    "start_time": "2023-05-27T11:41:36.187Z"
   },
   {
    "duration": 5,
    "start_time": "2023-05-27T11:41:40.815Z"
   },
   {
    "duration": 5,
    "start_time": "2023-05-27T11:42:11.712Z"
   },
   {
    "duration": 4,
    "start_time": "2023-05-27T11:42:12.016Z"
   },
   {
    "duration": 4,
    "start_time": "2023-05-27T11:42:12.653Z"
   },
   {
    "duration": 4,
    "start_time": "2023-05-27T11:42:13.112Z"
   },
   {
    "duration": 11,
    "start_time": "2023-05-27T11:48:43.205Z"
   },
   {
    "duration": 3,
    "start_time": "2023-05-27T11:49:37.089Z"
   },
   {
    "duration": 11,
    "start_time": "2023-05-27T11:49:51.056Z"
   },
   {
    "duration": 817,
    "start_time": "2023-05-27T11:49:51.071Z"
   },
   {
    "duration": 20,
    "start_time": "2023-05-27T11:49:51.890Z"
   },
   {
    "duration": 529,
    "start_time": "2023-05-27T11:49:51.911Z"
   },
   {
    "duration": 30,
    "start_time": "2023-05-27T11:49:52.443Z"
   },
   {
    "duration": 25,
    "start_time": "2023-05-27T11:49:52.475Z"
   },
   {
    "duration": 17,
    "start_time": "2023-05-27T11:49:52.501Z"
   },
   {
    "duration": 128,
    "start_time": "2023-05-27T11:49:52.520Z"
   },
   {
    "duration": 26,
    "start_time": "2023-05-27T11:49:52.650Z"
   },
   {
    "duration": 33,
    "start_time": "2023-05-27T11:49:52.677Z"
   },
   {
    "duration": 56,
    "start_time": "2023-05-27T11:49:52.713Z"
   },
   {
    "duration": 35,
    "start_time": "2023-05-27T11:49:52.771Z"
   },
   {
    "duration": 19,
    "start_time": "2023-05-27T11:49:52.808Z"
   },
   {
    "duration": 547,
    "start_time": "2023-05-27T11:49:52.828Z"
   },
   {
    "duration": 527,
    "start_time": "2023-05-27T11:49:53.377Z"
   },
   {
    "duration": 626,
    "start_time": "2023-05-27T11:49:53.906Z"
   },
   {
    "duration": 27,
    "start_time": "2023-05-27T11:49:54.534Z"
   },
   {
    "duration": 453,
    "start_time": "2023-05-27T11:49:54.565Z"
   },
   {
    "duration": 6,
    "start_time": "2023-05-27T11:49:55.019Z"
   },
   {
    "duration": 46,
    "start_time": "2023-05-27T11:49:55.026Z"
   },
   {
    "duration": 14,
    "start_time": "2023-05-27T11:49:55.075Z"
   },
   {
    "duration": 30,
    "start_time": "2023-05-27T11:49:55.091Z"
   },
   {
    "duration": 215,
    "start_time": "2023-05-27T11:49:55.123Z"
   },
   {
    "duration": 140,
    "start_time": "2023-05-27T11:49:55.340Z"
   },
   {
    "duration": 154,
    "start_time": "2023-05-27T11:49:55.481Z"
   },
   {
    "duration": 154,
    "start_time": "2023-05-27T11:49:55.637Z"
   },
   {
    "duration": 6,
    "start_time": "2023-05-27T11:49:55.793Z"
   },
   {
    "duration": 50,
    "start_time": "2023-05-27T11:49:55.800Z"
   },
   {
    "duration": 18,
    "start_time": "2023-05-27T11:49:55.853Z"
   },
   {
    "duration": 10,
    "start_time": "2023-05-27T11:49:55.873Z"
   },
   {
    "duration": 15,
    "start_time": "2023-05-27T11:49:55.885Z"
   },
   {
    "duration": 7,
    "start_time": "2023-05-27T11:49:55.902Z"
   },
   {
    "duration": 9,
    "start_time": "2023-05-27T11:49:55.911Z"
   },
   {
    "duration": 5,
    "start_time": "2023-05-27T11:50:33.891Z"
   },
   {
    "duration": 6,
    "start_time": "2023-05-27T11:50:34.409Z"
   },
   {
    "duration": 19,
    "start_time": "2023-05-27T12:00:51.147Z"
   },
   {
    "duration": 37,
    "start_time": "2023-05-27T12:03:05.446Z"
   },
   {
    "duration": 7,
    "start_time": "2023-05-27T12:03:47.541Z"
   },
   {
    "duration": 35,
    "start_time": "2023-05-27T12:03:57.542Z"
   },
   {
    "duration": 23,
    "start_time": "2023-05-27T12:04:11.085Z"
   },
   {
    "duration": 446,
    "start_time": "2023-05-27T12:04:55.186Z"
   },
   {
    "duration": 12,
    "start_time": "2023-05-27T12:04:56.013Z"
   },
   {
    "duration": 43,
    "start_time": "2023-05-27T12:06:13.615Z"
   },
   {
    "duration": 63,
    "start_time": "2023-05-27T12:06:35.982Z"
   },
   {
    "duration": 6,
    "start_time": "2023-05-27T12:06:42.594Z"
   },
   {
    "duration": 14,
    "start_time": "2023-05-27T12:06:45.173Z"
   },
   {
    "duration": 6,
    "start_time": "2023-05-27T12:07:39.071Z"
   },
   {
    "duration": 5,
    "start_time": "2023-05-27T12:07:43.415Z"
   },
   {
    "duration": 5,
    "start_time": "2023-05-27T12:08:54.754Z"
   },
   {
    "duration": 6,
    "start_time": "2023-05-27T12:08:56.326Z"
   },
   {
    "duration": 6,
    "start_time": "2023-05-27T12:08:56.824Z"
   },
   {
    "duration": 5,
    "start_time": "2023-05-27T12:08:57.580Z"
   },
   {
    "duration": 4,
    "start_time": "2023-05-27T12:08:58.241Z"
   },
   {
    "duration": 5,
    "start_time": "2023-05-27T12:09:12.017Z"
   },
   {
    "duration": 3,
    "start_time": "2023-05-27T12:24:29.474Z"
   },
   {
    "duration": 4,
    "start_time": "2023-05-27T12:26:24.499Z"
   },
   {
    "duration": 3,
    "start_time": "2023-05-27T13:38:29.407Z"
   },
   {
    "duration": 5,
    "start_time": "2023-05-27T13:38:31.474Z"
   },
   {
    "duration": 3,
    "start_time": "2023-05-27T13:41:31.165Z"
   },
   {
    "duration": 5,
    "start_time": "2023-05-27T16:15:16.997Z"
   },
   {
    "duration": 4,
    "start_time": "2023-05-27T16:17:47.123Z"
   },
   {
    "duration": 7,
    "start_time": "2023-05-27T16:17:48.871Z"
   },
   {
    "duration": 11,
    "start_time": "2023-05-27T16:22:05.784Z"
   },
   {
    "duration": 10,
    "start_time": "2023-05-27T16:24:28.353Z"
   },
   {
    "duration": 3,
    "start_time": "2023-05-27T16:24:34.698Z"
   },
   {
    "duration": 28,
    "start_time": "2023-05-27T16:24:37.711Z"
   },
   {
    "duration": 4,
    "start_time": "2023-05-27T16:25:24.018Z"
   },
   {
    "duration": 4,
    "start_time": "2023-05-27T16:28:39.611Z"
   },
   {
    "duration": 3,
    "start_time": "2023-05-27T16:31:04.420Z"
   },
   {
    "duration": 3,
    "start_time": "2023-05-27T16:31:33.649Z"
   },
   {
    "duration": 4,
    "start_time": "2023-05-27T16:31:47.319Z"
   },
   {
    "duration": 4,
    "start_time": "2023-05-27T16:31:48.657Z"
   },
   {
    "duration": 5,
    "start_time": "2023-05-27T16:32:46.297Z"
   },
   {
    "duration": 21,
    "start_time": "2023-05-27T16:32:49.969Z"
   },
   {
    "duration": 904,
    "start_time": "2023-05-27T16:35:12.889Z"
   },
   {
    "duration": 4,
    "start_time": "2023-05-27T16:35:54.741Z"
   },
   {
    "duration": 794,
    "start_time": "2023-05-27T16:36:00.591Z"
   },
   {
    "duration": 1002,
    "start_time": "2023-05-27T16:38:58.774Z"
   },
   {
    "duration": 1272,
    "start_time": "2023-05-27T16:39:04.722Z"
   },
   {
    "duration": 8,
    "start_time": "2023-05-27T16:49:22.014Z"
   },
   {
    "duration": 6,
    "start_time": "2023-05-27T16:49:36.743Z"
   },
   {
    "duration": 1112,
    "start_time": "2023-05-27T16:57:26.352Z"
   },
   {
    "duration": 13,
    "start_time": "2023-05-27T16:57:49.392Z"
   },
   {
    "duration": 1038,
    "start_time": "2023-05-27T16:57:49.408Z"
   },
   {
    "duration": 34,
    "start_time": "2023-05-27T16:57:50.449Z"
   },
   {
    "duration": 14,
    "start_time": "2023-05-27T16:57:50.489Z"
   },
   {
    "duration": 16,
    "start_time": "2023-05-27T16:57:50.508Z"
   },
   {
    "duration": 23,
    "start_time": "2023-05-27T16:57:50.526Z"
   },
   {
    "duration": 31,
    "start_time": "2023-05-27T16:57:50.561Z"
   },
   {
    "duration": 145,
    "start_time": "2023-05-27T16:57:50.593Z"
   },
   {
    "duration": 40,
    "start_time": "2023-05-27T16:57:50.740Z"
   },
   {
    "duration": 23,
    "start_time": "2023-05-27T16:57:50.788Z"
   },
   {
    "duration": 38,
    "start_time": "2023-05-27T16:57:50.813Z"
   },
   {
    "duration": 53,
    "start_time": "2023-05-27T16:57:50.852Z"
   },
   {
    "duration": 24,
    "start_time": "2023-05-27T16:57:50.910Z"
   },
   {
    "duration": 696,
    "start_time": "2023-05-27T16:57:50.936Z"
   },
   {
    "duration": 593,
    "start_time": "2023-05-27T16:57:51.636Z"
   },
   {
    "duration": 682,
    "start_time": "2023-05-27T16:57:52.231Z"
   },
   {
    "duration": 17,
    "start_time": "2023-05-27T16:57:52.917Z"
   },
   {
    "duration": 655,
    "start_time": "2023-05-27T16:57:52.936Z"
   },
   {
    "duration": 16,
    "start_time": "2023-05-27T16:57:53.593Z"
   },
   {
    "duration": 11,
    "start_time": "2023-05-27T16:57:53.613Z"
   },
   {
    "duration": 11,
    "start_time": "2023-05-27T16:57:53.626Z"
   },
   {
    "duration": 7,
    "start_time": "2023-05-27T16:57:53.643Z"
   },
   {
    "duration": 282,
    "start_time": "2023-05-27T16:57:53.652Z"
   },
   {
    "duration": 215,
    "start_time": "2023-05-27T16:57:53.937Z"
   },
   {
    "duration": 226,
    "start_time": "2023-05-27T16:57:54.154Z"
   },
   {
    "duration": 232,
    "start_time": "2023-05-27T16:57:54.385Z"
   },
   {
    "duration": 4,
    "start_time": "2023-05-27T16:57:54.621Z"
   },
   {
    "duration": 12,
    "start_time": "2023-05-27T16:57:54.627Z"
   },
   {
    "duration": 12,
    "start_time": "2023-05-27T16:57:54.641Z"
   },
   {
    "duration": 32,
    "start_time": "2023-05-27T16:57:54.657Z"
   },
   {
    "duration": 26,
    "start_time": "2023-05-27T16:57:54.691Z"
   },
   {
    "duration": 9,
    "start_time": "2023-05-27T16:57:54.721Z"
   },
   {
    "duration": 19,
    "start_time": "2023-05-27T16:57:54.732Z"
   },
   {
    "duration": 27,
    "start_time": "2023-05-27T16:57:54.753Z"
   },
   {
    "duration": 6,
    "start_time": "2023-05-27T16:57:54.783Z"
   },
   {
    "duration": 5,
    "start_time": "2023-05-27T16:57:54.792Z"
   },
   {
    "duration": 5,
    "start_time": "2023-05-27T16:57:54.804Z"
   },
   {
    "duration": 17,
    "start_time": "2023-05-27T16:57:54.812Z"
   },
   {
    "duration": 7505,
    "start_time": "2023-05-27T16:57:54.831Z"
   },
   {
    "duration": 5,
    "start_time": "2023-05-27T16:58:02.339Z"
   },
   {
    "duration": 6,
    "start_time": "2023-05-27T16:58:07.316Z"
   },
   {
    "duration": 1219,
    "start_time": "2023-05-27T16:58:08.022Z"
   },
   {
    "duration": 2643,
    "start_time": "2023-05-27T17:06:11.134Z"
   },
   {
    "duration": 5,
    "start_time": "2023-05-27T17:10:22.101Z"
   },
   {
    "duration": 4518,
    "start_time": "2023-05-27T17:11:11.445Z"
   },
   {
    "duration": 13,
    "start_time": "2023-05-27T17:11:15.969Z"
   },
   {
    "duration": 15,
    "start_time": "2023-05-27T17:12:12.988Z"
   },
   {
    "duration": 15,
    "start_time": "2023-05-27T17:12:33.110Z"
   },
   {
    "duration": 6299,
    "start_time": "2023-05-27T17:12:53.243Z"
   },
   {
    "duration": 6191,
    "start_time": "2023-05-27T17:13:00.017Z"
   },
   {
    "duration": 5107,
    "start_time": "2023-05-27T17:13:35.797Z"
   },
   {
    "duration": 4,
    "start_time": "2023-05-27T17:14:39.905Z"
   },
   {
    "duration": 4389,
    "start_time": "2023-05-27T17:14:42.126Z"
   },
   {
    "duration": 77,
    "start_time": "2023-05-27T17:14:46.519Z"
   },
   {
    "duration": 5751,
    "start_time": "2023-05-27T17:14:46.603Z"
   },
   {
    "duration": 10,
    "start_time": "2023-05-27T17:16:01.806Z"
   },
   {
    "duration": 6179,
    "start_time": "2023-05-27T17:16:04.493Z"
   },
   {
    "duration": 4761,
    "start_time": "2023-05-27T17:16:14.338Z"
   },
   {
    "duration": 22,
    "start_time": "2023-05-27T17:16:19.102Z"
   },
   {
    "duration": 6,
    "start_time": "2023-05-27T17:17:01.838Z"
   },
   {
    "duration": 6438,
    "start_time": "2023-05-27T17:17:03.720Z"
   },
   {
    "duration": 3896,
    "start_time": "2023-05-27T17:17:12.322Z"
   },
   {
    "duration": 36,
    "start_time": "2023-05-27T17:17:16.224Z"
   },
   {
    "duration": 3570,
    "start_time": "2023-05-27T17:18:03.122Z"
   },
   {
    "duration": 2613,
    "start_time": "2023-05-27T17:19:36.591Z"
   },
   {
    "duration": 1352,
    "start_time": "2023-05-27T17:20:19.495Z"
   },
   {
    "duration": 4660,
    "start_time": "2023-05-27T17:20:20.850Z"
   },
   {
    "duration": 6,
    "start_time": "2023-05-27T17:20:57.511Z"
   },
   {
    "duration": 4,
    "start_time": "2023-05-27T17:24:05.848Z"
   },
   {
    "duration": 18,
    "start_time": "2023-05-27T17:24:35.020Z"
   },
   {
    "duration": 1166,
    "start_time": "2023-05-27T17:25:16.115Z"
   },
   {
    "duration": 4073,
    "start_time": "2023-05-27T17:25:17.294Z"
   },
   {
    "duration": 35,
    "start_time": "2023-05-27T17:25:21.377Z"
   },
   {
    "duration": 1572,
    "start_time": "2023-05-27T17:25:47.613Z"
   },
   {
    "duration": 1006,
    "start_time": "2023-05-27T17:25:49.193Z"
   },
   {
    "duration": 21,
    "start_time": "2023-05-27T17:25:50.204Z"
   },
   {
    "duration": 75,
    "start_time": "2023-05-27T17:25:50.227Z"
   },
   {
    "duration": 126,
    "start_time": "2023-05-27T17:25:50.304Z"
   },
   {
    "duration": 18,
    "start_time": "2023-05-27T17:25:50.432Z"
   },
   {
    "duration": 38,
    "start_time": "2023-05-27T17:25:50.452Z"
   },
   {
    "duration": 178,
    "start_time": "2023-05-27T17:25:50.495Z"
   },
   {
    "duration": 22,
    "start_time": "2023-05-27T17:25:50.674Z"
   },
   {
    "duration": 17,
    "start_time": "2023-05-27T17:25:50.698Z"
   },
   {
    "duration": 30,
    "start_time": "2023-05-27T17:25:50.717Z"
   },
   {
    "duration": 45,
    "start_time": "2023-05-27T17:25:50.768Z"
   },
   {
    "duration": 19,
    "start_time": "2023-05-27T17:25:50.815Z"
   },
   {
    "duration": 607,
    "start_time": "2023-05-27T17:25:50.836Z"
   },
   {
    "duration": 697,
    "start_time": "2023-05-27T17:25:51.444Z"
   },
   {
    "duration": 693,
    "start_time": "2023-05-27T17:25:52.144Z"
   },
   {
    "duration": 27,
    "start_time": "2023-05-27T17:25:52.839Z"
   },
   {
    "duration": 482,
    "start_time": "2023-05-27T17:25:52.870Z"
   },
   {
    "duration": 11,
    "start_time": "2023-05-27T17:25:53.361Z"
   },
   {
    "duration": 20,
    "start_time": "2023-05-27T17:25:53.378Z"
   },
   {
    "duration": 8,
    "start_time": "2023-05-27T17:25:53.401Z"
   },
   {
    "duration": 25,
    "start_time": "2023-05-27T17:25:53.411Z"
   },
   {
    "duration": 181,
    "start_time": "2023-05-27T17:25:53.439Z"
   },
   {
    "duration": 173,
    "start_time": "2023-05-27T17:25:53.622Z"
   },
   {
    "duration": 153,
    "start_time": "2023-05-27T17:25:53.797Z"
   },
   {
    "duration": 174,
    "start_time": "2023-05-27T17:25:53.951Z"
   },
   {
    "duration": 4,
    "start_time": "2023-05-27T17:25:54.128Z"
   },
   {
    "duration": 6,
    "start_time": "2023-05-27T17:25:54.136Z"
   },
   {
    "duration": 31,
    "start_time": "2023-05-27T17:25:54.156Z"
   },
   {
    "duration": 8,
    "start_time": "2023-05-27T17:25:54.190Z"
   },
   {
    "duration": 8,
    "start_time": "2023-05-27T17:25:54.200Z"
   },
   {
    "duration": 6,
    "start_time": "2023-05-27T17:25:54.210Z"
   },
   {
    "duration": 7,
    "start_time": "2023-05-27T17:25:54.218Z"
   },
   {
    "duration": 11,
    "start_time": "2023-05-27T17:25:54.228Z"
   },
   {
    "duration": 4,
    "start_time": "2023-05-27T17:25:54.241Z"
   },
   {
    "duration": 6,
    "start_time": "2023-05-27T17:25:54.269Z"
   },
   {
    "duration": 11,
    "start_time": "2023-05-27T17:25:54.277Z"
   },
   {
    "duration": 10,
    "start_time": "2023-05-27T17:25:54.290Z"
   },
   {
    "duration": 6,
    "start_time": "2023-05-27T17:25:54.303Z"
   },
   {
    "duration": 1450,
    "start_time": "2023-05-27T17:25:54.311Z"
   },
   {
    "duration": 3727,
    "start_time": "2023-05-27T17:25:55.763Z"
   },
   {
    "duration": 199,
    "start_time": "2023-05-27T17:25:59.496Z"
   },
   {
    "duration": 0,
    "start_time": "2023-05-27T17:25:59.700Z"
   },
   {
    "duration": 0,
    "start_time": "2023-05-27T17:25:59.701Z"
   },
   {
    "duration": 49,
    "start_time": "2023-05-27T17:26:32.289Z"
   },
   {
    "duration": 4,
    "start_time": "2023-05-27T17:26:45.990Z"
   },
   {
    "duration": 4868,
    "start_time": "2023-05-27T17:27:25.000Z"
   },
   {
    "duration": 88,
    "start_time": "2023-05-27T17:27:29.879Z"
   },
   {
    "duration": 0,
    "start_time": "2023-05-27T17:27:29.974Z"
   },
   {
    "duration": 4,
    "start_time": "2023-05-27T17:27:38.525Z"
   },
   {
    "duration": 16,
    "start_time": "2023-05-27T17:28:35.852Z"
   },
   {
    "duration": 2,
    "start_time": "2023-05-27T17:31:08.687Z"
   },
   {
    "duration": 12,
    "start_time": "2023-05-27T17:32:15.601Z"
   },
   {
    "duration": 9,
    "start_time": "2023-05-27T17:32:19.455Z"
   },
   {
    "duration": 23,
    "start_time": "2023-05-27T17:32:22.296Z"
   },
   {
    "duration": 5,
    "start_time": "2023-05-27T17:32:58.398Z"
   },
   {
    "duration": 977,
    "start_time": "2023-05-27T17:32:58.405Z"
   },
   {
    "duration": 28,
    "start_time": "2023-05-27T17:32:59.386Z"
   },
   {
    "duration": 8,
    "start_time": "2023-05-27T17:32:59.416Z"
   },
   {
    "duration": 8,
    "start_time": "2023-05-27T17:32:59.427Z"
   },
   {
    "duration": 50,
    "start_time": "2023-05-27T17:32:59.437Z"
   },
   {
    "duration": 19,
    "start_time": "2023-05-27T17:32:59.489Z"
   },
   {
    "duration": 128,
    "start_time": "2023-05-27T17:32:59.510Z"
   },
   {
    "duration": 43,
    "start_time": "2023-05-27T17:32:59.640Z"
   },
   {
    "duration": 22,
    "start_time": "2023-05-27T17:32:59.685Z"
   },
   {
    "duration": 38,
    "start_time": "2023-05-27T17:32:59.709Z"
   },
   {
    "duration": 46,
    "start_time": "2023-05-27T17:32:59.749Z"
   },
   {
    "duration": 17,
    "start_time": "2023-05-27T17:32:59.798Z"
   },
   {
    "duration": 600,
    "start_time": "2023-05-27T17:32:59.818Z"
   },
   {
    "duration": 545,
    "start_time": "2023-05-27T17:33:00.421Z"
   },
   {
    "duration": 571,
    "start_time": "2023-05-27T17:33:00.974Z"
   },
   {
    "duration": 35,
    "start_time": "2023-05-27T17:33:01.548Z"
   },
   {
    "duration": 587,
    "start_time": "2023-05-27T17:33:01.591Z"
   },
   {
    "duration": 8,
    "start_time": "2023-05-27T17:33:02.185Z"
   },
   {
    "duration": 47,
    "start_time": "2023-05-27T17:33:02.195Z"
   },
   {
    "duration": 74,
    "start_time": "2023-05-27T17:33:02.244Z"
   },
   {
    "duration": 26,
    "start_time": "2023-05-27T17:33:02.320Z"
   },
   {
    "duration": 255,
    "start_time": "2023-05-27T17:33:02.349Z"
   },
   {
    "duration": 191,
    "start_time": "2023-05-27T17:33:02.615Z"
   },
   {
    "duration": 175,
    "start_time": "2023-05-27T17:33:02.808Z"
   },
   {
    "duration": 160,
    "start_time": "2023-05-27T17:33:02.990Z"
   },
   {
    "duration": 11,
    "start_time": "2023-05-27T17:33:03.152Z"
   },
   {
    "duration": 28,
    "start_time": "2023-05-27T17:33:03.171Z"
   },
   {
    "duration": 12,
    "start_time": "2023-05-27T17:33:03.202Z"
   },
   {
    "duration": 17,
    "start_time": "2023-05-27T17:33:03.216Z"
   },
   {
    "duration": 47,
    "start_time": "2023-05-27T17:33:03.235Z"
   },
   {
    "duration": 16,
    "start_time": "2023-05-27T17:33:03.284Z"
   },
   {
    "duration": 12,
    "start_time": "2023-05-27T17:33:03.302Z"
   },
   {
    "duration": 17,
    "start_time": "2023-05-27T17:33:03.316Z"
   },
   {
    "duration": 21,
    "start_time": "2023-05-27T17:33:03.336Z"
   },
   {
    "duration": 13,
    "start_time": "2023-05-27T17:33:03.363Z"
   },
   {
    "duration": 23,
    "start_time": "2023-05-27T17:33:03.380Z"
   },
   {
    "duration": 14,
    "start_time": "2023-05-27T17:33:03.405Z"
   },
   {
    "duration": 5,
    "start_time": "2023-05-27T17:33:03.421Z"
   },
   {
    "duration": 1076,
    "start_time": "2023-05-27T17:33:03.428Z"
   },
   {
    "duration": 5105,
    "start_time": "2023-05-27T17:33:04.562Z"
   },
   {
    "duration": 4920,
    "start_time": "2023-05-27T17:33:13.053Z"
   },
   {
    "duration": 9,
    "start_time": "2023-05-27T17:33:17.982Z"
   },
   {
    "duration": 14,
    "start_time": "2023-05-27T17:33:17.998Z"
   },
   {
    "duration": 5006,
    "start_time": "2023-05-27T19:00:06.879Z"
   },
   {
    "duration": 12021,
    "start_time": "2023-05-27T19:01:15.560Z"
   },
   {
    "duration": 12000,
    "start_time": "2023-05-27T19:05:47.083Z"
   },
   {
    "duration": 12411,
    "start_time": "2023-05-27T19:08:18.317Z"
   },
   {
    "duration": 12009,
    "start_time": "2023-05-27T19:12:50.053Z"
   },
   {
    "duration": 12077,
    "start_time": "2023-05-27T19:13:09.357Z"
   },
   {
    "duration": 12205,
    "start_time": "2023-05-27T19:14:03.399Z"
   },
   {
    "duration": 2260,
    "start_time": "2023-05-27T19:14:28.440Z"
   },
   {
    "duration": 2225,
    "start_time": "2023-05-27T19:14:39.654Z"
   },
   {
    "duration": 2136,
    "start_time": "2023-05-27T19:14:47.441Z"
   },
   {
    "duration": 1845,
    "start_time": "2023-05-27T19:14:56.964Z"
   },
   {
    "duration": 12249,
    "start_time": "2023-05-27T19:17:31.350Z"
   },
   {
    "duration": 620,
    "start_time": "2023-05-27T19:17:55.808Z"
   },
   {
    "duration": 12256,
    "start_time": "2023-05-27T19:18:11.744Z"
   },
   {
    "duration": 11829,
    "start_time": "2023-05-27T19:20:30.631Z"
   },
   {
    "duration": 11846,
    "start_time": "2023-05-27T19:20:49.846Z"
   },
   {
    "duration": 12240,
    "start_time": "2023-05-27T19:23:14.937Z"
   },
   {
    "duration": 12399,
    "start_time": "2023-05-27T19:23:48.484Z"
   },
   {
    "duration": 4574,
    "start_time": "2023-05-27T19:24:30.516Z"
   },
   {
    "duration": 272551,
    "start_time": "2023-05-27T19:27:34.506Z"
   },
   {
    "duration": 5642,
    "start_time": "2023-05-27T19:34:44.895Z"
   },
   {
    "duration": 1405,
    "start_time": "2023-05-27T19:35:29.476Z"
   },
   {
    "duration": 184716,
    "start_time": "2023-05-27T19:35:59.595Z"
   },
   {
    "duration": 73867,
    "start_time": "2023-05-27T19:39:04.313Z"
   },
   {
    "duration": 3,
    "start_time": "2023-05-27T19:42:14.633Z"
   },
   {
    "duration": 1621,
    "start_time": "2023-05-28T12:19:55.073Z"
   },
   {
    "duration": 3575,
    "start_time": "2023-05-28T12:19:56.696Z"
   },
   {
    "duration": 23,
    "start_time": "2023-05-28T12:20:00.273Z"
   },
   {
    "duration": 6,
    "start_time": "2023-05-28T12:20:00.298Z"
   },
   {
    "duration": 67,
    "start_time": "2023-05-28T12:20:00.306Z"
   },
   {
    "duration": 35,
    "start_time": "2023-05-28T12:20:00.375Z"
   },
   {
    "duration": 26,
    "start_time": "2023-05-28T12:20:00.412Z"
   },
   {
    "duration": 159,
    "start_time": "2023-05-28T12:20:00.440Z"
   },
   {
    "duration": 19,
    "start_time": "2023-05-28T12:20:00.600Z"
   },
   {
    "duration": 59,
    "start_time": "2023-05-28T12:20:00.621Z"
   },
   {
    "duration": 62,
    "start_time": "2023-05-28T12:20:00.682Z"
   },
   {
    "duration": 49,
    "start_time": "2023-05-28T12:20:00.746Z"
   },
   {
    "duration": 37,
    "start_time": "2023-05-28T12:20:00.797Z"
   },
   {
    "duration": 554,
    "start_time": "2023-05-28T12:20:00.839Z"
   },
   {
    "duration": 616,
    "start_time": "2023-05-28T12:20:01.395Z"
   },
   {
    "duration": 509,
    "start_time": "2023-05-28T12:20:02.013Z"
   },
   {
    "duration": 12,
    "start_time": "2023-05-28T12:20:02.523Z"
   },
   {
    "duration": 410,
    "start_time": "2023-05-28T12:20:02.537Z"
   },
   {
    "duration": 11,
    "start_time": "2023-05-28T12:20:02.958Z"
   },
   {
    "duration": 16,
    "start_time": "2023-05-28T12:20:02.971Z"
   },
   {
    "duration": 25,
    "start_time": "2023-05-28T12:20:02.988Z"
   },
   {
    "duration": 37,
    "start_time": "2023-05-28T12:20:03.015Z"
   },
   {
    "duration": 161,
    "start_time": "2023-05-28T12:20:03.054Z"
   },
   {
    "duration": 159,
    "start_time": "2023-05-28T12:20:03.217Z"
   },
   {
    "duration": 144,
    "start_time": "2023-05-28T12:20:03.378Z"
   },
   {
    "duration": 163,
    "start_time": "2023-05-28T12:20:03.524Z"
   },
   {
    "duration": 4,
    "start_time": "2023-05-28T12:20:03.688Z"
   },
   {
    "duration": 19,
    "start_time": "2023-05-28T12:20:03.694Z"
   },
   {
    "duration": 31,
    "start_time": "2023-05-28T12:20:03.714Z"
   },
   {
    "duration": 32,
    "start_time": "2023-05-28T12:20:03.748Z"
   },
   {
    "duration": 16,
    "start_time": "2023-05-28T12:20:03.781Z"
   },
   {
    "duration": 4,
    "start_time": "2023-05-28T12:20:03.799Z"
   },
   {
    "duration": 15,
    "start_time": "2023-05-28T12:20:03.805Z"
   },
   {
    "duration": 31,
    "start_time": "2023-05-28T12:20:03.821Z"
   },
   {
    "duration": 14,
    "start_time": "2023-05-28T12:20:03.854Z"
   },
   {
    "duration": 13,
    "start_time": "2023-05-28T12:20:03.870Z"
   },
   {
    "duration": 6,
    "start_time": "2023-05-28T12:20:03.885Z"
   },
   {
    "duration": 7,
    "start_time": "2023-05-28T12:20:03.892Z"
   },
   {
    "duration": 4,
    "start_time": "2023-05-28T12:21:02.814Z"
   },
   {
    "duration": 3,
    "start_time": "2023-05-28T12:21:03.397Z"
   },
   {
    "duration": 8,
    "start_time": "2023-05-28T12:21:06.618Z"
   },
   {
    "duration": 4,
    "start_time": "2023-05-28T12:21:07.002Z"
   },
   {
    "duration": 5,
    "start_time": "2023-05-28T12:21:07.498Z"
   },
   {
    "duration": 4,
    "start_time": "2023-05-28T12:21:08.208Z"
   },
   {
    "duration": 5,
    "start_time": "2023-05-28T12:21:08.982Z"
   },
   {
    "duration": 5,
    "start_time": "2023-05-28T12:21:10.593Z"
   },
   {
    "duration": 4,
    "start_time": "2023-05-28T12:21:10.792Z"
   },
   {
    "duration": 4,
    "start_time": "2023-05-28T12:22:01.466Z"
   },
   {
    "duration": 3,
    "start_time": "2023-05-28T12:22:05.888Z"
   },
   {
    "duration": 773,
    "start_time": "2023-05-28T12:25:17.085Z"
   },
   {
    "duration": 972,
    "start_time": "2023-05-28T12:25:49.285Z"
   },
   {
    "duration": 1262,
    "start_time": "2023-05-28T12:26:36.800Z"
   },
   {
    "duration": 47,
    "start_time": "2023-05-28T12:28:16.500Z"
   },
   {
    "duration": 111,
    "start_time": "2023-05-28T12:28:24.357Z"
   },
   {
    "duration": 4,
    "start_time": "2023-05-28T12:28:45.612Z"
   },
   {
    "duration": 279,
    "start_time": "2023-05-28T12:30:44.615Z"
   },
   {
    "duration": 76124,
    "start_time": "2023-05-28T12:30:52.255Z"
   },
   {
    "duration": 186298,
    "start_time": "2023-05-28T12:32:33.108Z"
   },
   {
    "duration": 5059,
    "start_time": "2023-05-28T12:38:47.270Z"
   },
   {
    "duration": 4876,
    "start_time": "2023-05-28T12:38:59.725Z"
   },
   {
    "duration": 5075,
    "start_time": "2023-05-28T12:39:17.082Z"
   },
   {
    "duration": 27574,
    "start_time": "2023-05-28T12:39:48.958Z"
   },
   {
    "duration": 620,
    "start_time": "2023-05-28T12:40:41.056Z"
   },
   {
    "duration": 1451,
    "start_time": "2023-05-28T12:40:46.693Z"
   },
   {
    "duration": 4,
    "start_time": "2023-05-28T12:42:03.214Z"
   },
   {
    "duration": 1402,
    "start_time": "2023-05-28T12:43:31.955Z"
   },
   {
    "duration": 280,
    "start_time": "2023-05-28T12:43:59.358Z"
   },
   {
    "duration": 627,
    "start_time": "2023-05-28T12:44:04.622Z"
   },
   {
    "duration": 4,
    "start_time": "2023-05-28T12:44:21.653Z"
   },
   {
    "duration": 13,
    "start_time": "2023-05-28T12:48:15.051Z"
   },
   {
    "duration": 11853,
    "start_time": "2023-05-28T12:48:25.270Z"
   },
   {
    "duration": 12117,
    "start_time": "2023-05-28T12:49:14.816Z"
   },
   {
    "duration": 12234,
    "start_time": "2023-05-28T12:50:15.654Z"
   },
   {
    "duration": 12148,
    "start_time": "2023-05-28T12:50:41.820Z"
   },
   {
    "duration": 11953,
    "start_time": "2023-05-28T12:51:56.075Z"
   },
   {
    "duration": 11985,
    "start_time": "2023-05-28T12:52:21.626Z"
   },
   {
    "duration": 12163,
    "start_time": "2023-05-28T12:52:59.726Z"
   },
   {
    "duration": 15,
    "start_time": "2023-05-28T12:53:16.654Z"
   },
   {
    "duration": 11968,
    "start_time": "2023-05-28T12:53:20.180Z"
   },
   {
    "duration": 1450,
    "start_time": "2023-05-28T12:53:32.150Z"
   },
   {
    "duration": 3,
    "start_time": "2023-05-28T12:53:33.603Z"
   },
   {
    "duration": 1582,
    "start_time": "2023-05-28T12:54:19.554Z"
   },
   {
    "duration": 12337,
    "start_time": "2023-05-28T12:54:46.739Z"
   },
   {
    "duration": 1425,
    "start_time": "2023-05-28T12:54:59.079Z"
   },
   {
    "duration": 3,
    "start_time": "2023-05-28T12:55:00.507Z"
   },
   {
    "duration": 1447,
    "start_time": "2023-05-28T13:17:48.364Z"
   },
   {
    "duration": 781,
    "start_time": "2023-05-28T13:17:49.814Z"
   },
   {
    "duration": 19,
    "start_time": "2023-05-28T13:17:50.597Z"
   },
   {
    "duration": 5,
    "start_time": "2023-05-28T13:17:50.618Z"
   },
   {
    "duration": 30,
    "start_time": "2023-05-28T13:17:50.624Z"
   },
   {
    "duration": 33,
    "start_time": "2023-05-28T13:17:50.655Z"
   },
   {
    "duration": 16,
    "start_time": "2023-05-28T13:17:50.689Z"
   },
   {
    "duration": 120,
    "start_time": "2023-05-28T13:17:50.707Z"
   },
   {
    "duration": 18,
    "start_time": "2023-05-28T13:17:50.829Z"
   },
   {
    "duration": 25,
    "start_time": "2023-05-28T13:17:50.857Z"
   },
   {
    "duration": 37,
    "start_time": "2023-05-28T13:17:50.884Z"
   },
   {
    "duration": 37,
    "start_time": "2023-05-28T13:17:50.922Z"
   },
   {
    "duration": 19,
    "start_time": "2023-05-28T13:17:50.960Z"
   },
   {
    "duration": 513,
    "start_time": "2023-05-28T13:17:50.981Z"
   },
   {
    "duration": 579,
    "start_time": "2023-05-28T13:17:51.496Z"
   },
   {
    "duration": 509,
    "start_time": "2023-05-28T13:17:52.077Z"
   },
   {
    "duration": 10,
    "start_time": "2023-05-28T13:17:52.588Z"
   },
   {
    "duration": 411,
    "start_time": "2023-05-28T13:17:52.600Z"
   },
   {
    "duration": 4,
    "start_time": "2023-05-28T13:17:53.013Z"
   },
   {
    "duration": 5,
    "start_time": "2023-05-28T13:17:53.019Z"
   },
   {
    "duration": 7,
    "start_time": "2023-05-28T13:17:53.025Z"
   },
   {
    "duration": 10,
    "start_time": "2023-05-28T13:17:53.034Z"
   },
   {
    "duration": 162,
    "start_time": "2023-05-28T13:17:53.058Z"
   },
   {
    "duration": 144,
    "start_time": "2023-05-28T13:17:53.227Z"
   },
   {
    "duration": 143,
    "start_time": "2023-05-28T13:17:53.372Z"
   },
   {
    "duration": 163,
    "start_time": "2023-05-28T13:17:53.517Z"
   },
   {
    "duration": 3,
    "start_time": "2023-05-28T13:17:53.682Z"
   },
   {
    "duration": 3,
    "start_time": "2023-05-28T13:17:53.688Z"
   },
   {
    "duration": 9,
    "start_time": "2023-05-28T13:17:53.692Z"
   },
   {
    "duration": 12,
    "start_time": "2023-05-28T13:17:53.702Z"
   },
   {
    "duration": 5,
    "start_time": "2023-05-28T13:17:53.716Z"
   },
   {
    "duration": 5,
    "start_time": "2023-05-28T13:17:53.722Z"
   },
   {
    "duration": 32,
    "start_time": "2023-05-28T13:17:53.729Z"
   },
   {
    "duration": 14,
    "start_time": "2023-05-28T13:17:53.763Z"
   },
   {
    "duration": 4,
    "start_time": "2023-05-28T13:17:53.779Z"
   },
   {
    "duration": 24,
    "start_time": "2023-05-28T13:17:53.785Z"
   },
   {
    "duration": 8,
    "start_time": "2023-05-28T13:17:53.811Z"
   },
   {
    "duration": 6,
    "start_time": "2023-05-28T13:17:53.820Z"
   },
   {
    "duration": 10,
    "start_time": "2023-05-28T13:17:53.828Z"
   },
   {
    "duration": 1118,
    "start_time": "2023-05-28T13:17:53.840Z"
   },
   {
    "duration": 2201,
    "start_time": "2023-05-28T13:17:54.962Z"
   },
   {
    "duration": 4,
    "start_time": "2023-05-28T13:17:57.166Z"
   },
   {
    "duration": 12447,
    "start_time": "2023-05-28T13:17:57.172Z"
   },
   {
    "duration": 1450,
    "start_time": "2023-05-28T13:18:09.620Z"
   },
   {
    "duration": 4,
    "start_time": "2023-05-28T13:18:11.073Z"
   },
   {
    "duration": 343515,
    "start_time": "2023-05-28T13:18:11.079Z"
   },
   {
    "duration": 632,
    "start_time": "2023-05-28T13:23:54.595Z"
   },
   {
    "duration": 656,
    "start_time": "2023-05-28T13:23:55.229Z"
   },
   {
    "duration": 4,
    "start_time": "2023-05-28T13:23:55.887Z"
   },
   {
    "duration": 1460,
    "start_time": "2023-05-28T13:23:55.893Z"
   },
   {
    "duration": 299396,
    "start_time": "2023-05-28T13:23:57.356Z"
   },
   {
    "duration": 10696,
    "start_time": "2023-05-28T13:29:07.541Z"
   },
   {
    "duration": 3,
    "start_time": "2023-05-28T13:29:24.294Z"
   },
   {
    "duration": 25305,
    "start_time": "2023-05-28T13:29:55.085Z"
   },
   {
    "duration": 3,
    "start_time": "2023-05-28T13:30:20.392Z"
   },
   {
    "duration": 23,
    "start_time": "2023-05-28T13:35:21.187Z"
   },
   {
    "duration": 26,
    "start_time": "2023-05-28T13:35:47.466Z"
   },
   {
    "duration": 105,
    "start_time": "2023-05-28T13:36:59.796Z"
   },
   {
    "duration": 7,
    "start_time": "2023-05-28T13:37:06.479Z"
   },
   {
    "duration": 11,
    "start_time": "2023-05-28T13:37:25.023Z"
   },
   {
    "duration": 4,
    "start_time": "2023-05-28T13:46:35.904Z"
   },
   {
    "duration": 6,
    "start_time": "2023-05-28T13:46:37.723Z"
   },
   {
    "duration": 5,
    "start_time": "2023-05-28T13:46:38.623Z"
   },
   {
    "duration": 5,
    "start_time": "2023-05-28T13:46:39.287Z"
   },
   {
    "duration": 4,
    "start_time": "2023-05-28T13:46:39.807Z"
   },
   {
    "duration": 4,
    "start_time": "2023-05-28T13:46:40.370Z"
   },
   {
    "duration": 15,
    "start_time": "2023-05-28T13:46:56.812Z"
   },
   {
    "duration": 3,
    "start_time": "2023-05-28T13:47:02.992Z"
   },
   {
    "duration": 6,
    "start_time": "2023-05-28T13:47:05.111Z"
   },
   {
    "duration": 4,
    "start_time": "2023-05-28T13:47:05.319Z"
   },
   {
    "duration": 5,
    "start_time": "2023-05-28T13:47:05.584Z"
   },
   {
    "duration": 5,
    "start_time": "2023-05-28T13:47:05.871Z"
   },
   {
    "duration": 5,
    "start_time": "2023-05-28T13:47:06.087Z"
   },
   {
    "duration": 4,
    "start_time": "2023-05-28T13:47:07.279Z"
   },
   {
    "duration": 2996,
    "start_time": "2023-05-28T13:47:11.363Z"
   },
   {
    "duration": 6977,
    "start_time": "2023-05-28T13:47:14.361Z"
   },
   {
    "duration": 4,
    "start_time": "2023-05-28T13:48:02.162Z"
   },
   {
    "duration": 17,
    "start_time": "2023-05-28T13:52:25.102Z"
   },
   {
    "duration": 4,
    "start_time": "2023-05-28T13:54:23.959Z"
   },
   {
    "duration": 752,
    "start_time": "2023-05-28T13:54:23.966Z"
   },
   {
    "duration": 19,
    "start_time": "2023-05-28T13:54:24.720Z"
   },
   {
    "duration": 19,
    "start_time": "2023-05-28T13:54:24.740Z"
   },
   {
    "duration": 9,
    "start_time": "2023-05-28T13:54:24.762Z"
   },
   {
    "duration": 15,
    "start_time": "2023-05-28T13:54:24.773Z"
   },
   {
    "duration": 15,
    "start_time": "2023-05-28T13:54:24.790Z"
   },
   {
    "duration": 139,
    "start_time": "2023-05-28T13:54:24.807Z"
   },
   {
    "duration": 17,
    "start_time": "2023-05-28T13:54:24.948Z"
   },
   {
    "duration": 16,
    "start_time": "2023-05-28T13:54:24.966Z"
   },
   {
    "duration": 31,
    "start_time": "2023-05-28T13:54:24.984Z"
   },
   {
    "duration": 60,
    "start_time": "2023-05-28T13:54:25.017Z"
   },
   {
    "duration": 19,
    "start_time": "2023-05-28T13:54:25.081Z"
   },
   {
    "duration": 478,
    "start_time": "2023-05-28T13:54:25.102Z"
   },
   {
    "duration": 480,
    "start_time": "2023-05-28T13:54:25.582Z"
   },
   {
    "duration": 483,
    "start_time": "2023-05-28T13:54:26.065Z"
   },
   {
    "duration": 133,
    "start_time": "2023-05-28T13:54:26.550Z"
   },
   {
    "duration": 375,
    "start_time": "2023-05-28T13:54:26.685Z"
   },
   {
    "duration": 5,
    "start_time": "2023-05-28T13:54:27.062Z"
   },
   {
    "duration": 18,
    "start_time": "2023-05-28T13:54:27.068Z"
   },
   {
    "duration": 11,
    "start_time": "2023-05-28T13:54:27.088Z"
   },
   {
    "duration": 11,
    "start_time": "2023-05-28T13:54:27.101Z"
   },
   {
    "duration": 173,
    "start_time": "2023-05-28T13:54:27.114Z"
   },
   {
    "duration": 150,
    "start_time": "2023-05-28T13:54:27.289Z"
   },
   {
    "duration": 143,
    "start_time": "2023-05-28T13:54:27.441Z"
   },
   {
    "duration": 138,
    "start_time": "2023-05-28T13:54:27.586Z"
   },
   {
    "duration": 3,
    "start_time": "2023-05-28T13:54:27.726Z"
   },
   {
    "duration": 11,
    "start_time": "2023-05-28T13:54:27.731Z"
   },
   {
    "duration": 18,
    "start_time": "2023-05-28T13:54:27.744Z"
   },
   {
    "duration": 6,
    "start_time": "2023-05-28T13:54:27.764Z"
   },
   {
    "duration": 10,
    "start_time": "2023-05-28T13:54:27.772Z"
   },
   {
    "duration": 9,
    "start_time": "2023-05-28T13:54:27.784Z"
   },
   {
    "duration": 6,
    "start_time": "2023-05-28T13:54:27.795Z"
   },
   {
    "duration": 36,
    "start_time": "2023-05-28T13:54:27.802Z"
   },
   {
    "duration": 8,
    "start_time": "2023-05-28T13:54:27.840Z"
   },
   {
    "duration": 11,
    "start_time": "2023-05-28T13:54:27.850Z"
   },
   {
    "duration": 16,
    "start_time": "2023-05-28T13:54:27.865Z"
   },
   {
    "duration": 10,
    "start_time": "2023-05-28T13:54:27.882Z"
   },
   {
    "duration": 21,
    "start_time": "2023-05-28T13:54:27.893Z"
   },
   {
    "duration": 14,
    "start_time": "2023-05-28T13:54:27.915Z"
   },
   {
    "duration": 936,
    "start_time": "2023-05-28T13:54:27.931Z"
   },
   {
    "duration": 1192,
    "start_time": "2023-05-28T13:54:28.869Z"
   },
   {
    "duration": 4,
    "start_time": "2023-05-28T13:54:30.064Z"
   },
   {
    "duration": 11793,
    "start_time": "2023-05-28T13:54:30.070Z"
   },
   {
    "duration": 1422,
    "start_time": "2023-05-28T13:54:41.865Z"
   },
   {
    "duration": 4,
    "start_time": "2023-05-28T13:54:43.289Z"
   },
   {
    "duration": 341846,
    "start_time": "2023-05-28T13:54:43.294Z"
   },
   {
    "duration": 24705,
    "start_time": "2023-05-28T14:00:25.142Z"
   },
   {
    "duration": 19,
    "start_time": "2023-05-28T14:00:49.849Z"
   },
   {
    "duration": 3050,
    "start_time": "2023-05-28T14:00:49.870Z"
   },
   {
    "duration": 7262,
    "start_time": "2023-05-28T14:00:52.922Z"
   },
   {
    "duration": 4,
    "start_time": "2023-05-28T14:01:00.185Z"
   },
   {
    "duration": 3,
    "start_time": "2023-05-28T14:12:42.394Z"
   },
   {
    "duration": 1408,
    "start_time": "2023-05-28T14:12:51.238Z"
   },
   {
    "duration": 725,
    "start_time": "2023-05-28T14:12:52.647Z"
   },
   {
    "duration": 18,
    "start_time": "2023-05-28T14:12:53.374Z"
   },
   {
    "duration": 36,
    "start_time": "2023-05-28T14:12:53.394Z"
   },
   {
    "duration": 6,
    "start_time": "2023-05-28T14:12:53.432Z"
   },
   {
    "duration": 27,
    "start_time": "2023-05-28T14:12:53.439Z"
   },
   {
    "duration": 16,
    "start_time": "2023-05-28T14:12:53.467Z"
   },
   {
    "duration": 133,
    "start_time": "2023-05-28T14:12:53.485Z"
   },
   {
    "duration": 19,
    "start_time": "2023-05-28T14:12:53.620Z"
   },
   {
    "duration": 29,
    "start_time": "2023-05-28T14:12:53.642Z"
   },
   {
    "duration": 30,
    "start_time": "2023-05-28T14:12:53.673Z"
   },
   {
    "duration": 53,
    "start_time": "2023-05-28T14:12:53.704Z"
   },
   {
    "duration": 17,
    "start_time": "2023-05-28T14:12:53.759Z"
   },
   {
    "duration": 486,
    "start_time": "2023-05-28T14:12:53.777Z"
   },
   {
    "duration": 546,
    "start_time": "2023-05-28T14:12:54.265Z"
   },
   {
    "duration": 481,
    "start_time": "2023-05-28T14:12:54.812Z"
   },
   {
    "duration": 10,
    "start_time": "2023-05-28T14:12:55.295Z"
   },
   {
    "duration": 371,
    "start_time": "2023-05-28T14:12:55.307Z"
   },
   {
    "duration": 4,
    "start_time": "2023-05-28T14:12:55.680Z"
   },
   {
    "duration": 24,
    "start_time": "2023-05-28T14:12:55.686Z"
   },
   {
    "duration": 16,
    "start_time": "2023-05-28T14:12:55.712Z"
   },
   {
    "duration": 10,
    "start_time": "2023-05-28T14:12:55.730Z"
   },
   {
    "duration": 159,
    "start_time": "2023-05-28T14:12:55.742Z"
   },
   {
    "duration": 131,
    "start_time": "2023-05-28T14:12:55.903Z"
   },
   {
    "duration": 147,
    "start_time": "2023-05-28T14:12:56.036Z"
   },
   {
    "duration": 152,
    "start_time": "2023-05-28T14:12:56.185Z"
   },
   {
    "duration": 4,
    "start_time": "2023-05-28T14:12:56.338Z"
   },
   {
    "duration": 3,
    "start_time": "2023-05-28T14:12:56.356Z"
   },
   {
    "duration": 14,
    "start_time": "2023-05-28T14:12:56.361Z"
   },
   {
    "duration": 7,
    "start_time": "2023-05-28T14:12:56.377Z"
   },
   {
    "duration": 8,
    "start_time": "2023-05-28T14:12:56.386Z"
   },
   {
    "duration": 11,
    "start_time": "2023-05-28T14:12:56.396Z"
   },
   {
    "duration": 6,
    "start_time": "2023-05-28T14:12:56.409Z"
   },
   {
    "duration": 14,
    "start_time": "2023-05-28T14:12:56.417Z"
   },
   {
    "duration": 6,
    "start_time": "2023-05-28T14:12:56.433Z"
   },
   {
    "duration": 5,
    "start_time": "2023-05-28T14:12:56.456Z"
   },
   {
    "duration": 13,
    "start_time": "2023-05-28T14:12:56.462Z"
   },
   {
    "duration": 5,
    "start_time": "2023-05-28T14:12:56.477Z"
   },
   {
    "duration": 6,
    "start_time": "2023-05-28T14:12:56.484Z"
   },
   {
    "duration": 7,
    "start_time": "2023-05-28T14:12:56.492Z"
   },
   {
    "duration": 756,
    "start_time": "2023-05-28T14:12:56.501Z"
   },
   {
    "duration": 1005,
    "start_time": "2023-05-28T14:12:57.259Z"
   },
   {
    "duration": 92,
    "start_time": "2023-05-28T14:12:58.266Z"
   },
   {
    "duration": 12097,
    "start_time": "2023-05-28T14:12:58.360Z"
   },
   {
    "duration": 1383,
    "start_time": "2023-05-28T14:13:10.458Z"
   },
   {
    "duration": 4,
    "start_time": "2023-05-28T14:13:11.842Z"
   },
   {
    "duration": 353045,
    "start_time": "2023-05-28T14:13:11.847Z"
   },
   {
    "duration": 25342,
    "start_time": "2023-05-28T14:19:04.894Z"
   },
   {
    "duration": 4,
    "start_time": "2023-05-28T14:19:30.237Z"
   },
   {
    "duration": 3247,
    "start_time": "2023-05-28T14:19:30.242Z"
   },
   {
    "duration": 7353,
    "start_time": "2023-05-28T14:19:33.491Z"
   },
   {
    "duration": 3,
    "start_time": "2023-05-28T14:19:40.845Z"
   },
   {
    "duration": 1479,
    "start_time": "2023-05-29T13:28:23.727Z"
   },
   {
    "duration": 4,
    "start_time": "2023-05-29T13:28:38.188Z"
   },
   {
    "duration": 69,
    "start_time": "2023-05-29T13:46:37.831Z"
   },
   {
    "duration": 115,
    "start_time": "2023-05-29T13:47:40.748Z"
   },
   {
    "duration": 5,
    "start_time": "2023-05-29T13:47:46.506Z"
   },
   {
    "duration": 4209,
    "start_time": "2023-05-29T13:47:46.513Z"
   },
   {
    "duration": 18,
    "start_time": "2023-05-29T13:47:50.724Z"
   },
   {
    "duration": 26,
    "start_time": "2023-05-29T13:47:50.743Z"
   },
   {
    "duration": 30,
    "start_time": "2023-05-29T13:47:50.771Z"
   },
   {
    "duration": 31,
    "start_time": "2023-05-29T13:47:50.803Z"
   },
   {
    "duration": 19,
    "start_time": "2023-05-29T13:47:50.836Z"
   },
   {
    "duration": 121,
    "start_time": "2023-05-29T13:47:50.857Z"
   },
   {
    "duration": 20,
    "start_time": "2023-05-29T13:47:50.981Z"
   },
   {
    "duration": 19,
    "start_time": "2023-05-29T13:47:51.003Z"
   },
   {
    "duration": 34,
    "start_time": "2023-05-29T13:47:51.024Z"
   },
   {
    "duration": 54,
    "start_time": "2023-05-29T13:47:51.060Z"
   },
   {
    "duration": 17,
    "start_time": "2023-05-29T13:47:51.115Z"
   },
   {
    "duration": 503,
    "start_time": "2023-05-29T13:47:51.133Z"
   },
   {
    "duration": 485,
    "start_time": "2023-05-29T13:47:51.638Z"
   },
   {
    "duration": 573,
    "start_time": "2023-05-29T13:47:52.124Z"
   },
   {
    "duration": 15,
    "start_time": "2023-05-29T13:47:52.698Z"
   },
   {
    "duration": 431,
    "start_time": "2023-05-29T13:47:56.243Z"
   },
   {
    "duration": 3,
    "start_time": "2023-05-29T13:49:32.058Z"
   },
   {
    "duration": 793,
    "start_time": "2023-05-29T13:49:32.094Z"
   },
   {
    "duration": 21,
    "start_time": "2023-05-29T13:49:32.889Z"
   },
   {
    "duration": 5,
    "start_time": "2023-05-29T13:49:32.911Z"
   },
   {
    "duration": 8,
    "start_time": "2023-05-29T13:49:32.918Z"
   },
   {
    "duration": 19,
    "start_time": "2023-05-29T13:49:32.928Z"
   },
   {
    "duration": 38,
    "start_time": "2023-05-29T13:49:32.949Z"
   },
   {
    "duration": 124,
    "start_time": "2023-05-29T13:49:32.989Z"
   },
   {
    "duration": 12,
    "start_time": "2023-05-29T13:49:33.114Z"
   },
   {
    "duration": 14,
    "start_time": "2023-05-29T13:49:33.128Z"
   },
   {
    "duration": 61,
    "start_time": "2023-05-29T13:49:33.143Z"
   },
   {
    "duration": 32,
    "start_time": "2023-05-29T13:49:33.205Z"
   },
   {
    "duration": 16,
    "start_time": "2023-05-29T13:49:33.239Z"
   },
   {
    "duration": 483,
    "start_time": "2023-05-29T13:49:33.256Z"
   },
   {
    "duration": 480,
    "start_time": "2023-05-29T13:49:33.741Z"
   },
   {
    "duration": 616,
    "start_time": "2023-05-29T13:49:34.223Z"
   },
   {
    "duration": 10,
    "start_time": "2023-05-29T13:49:34.841Z"
   },
   {
    "duration": 415,
    "start_time": "2023-05-29T13:49:34.853Z"
   },
   {
    "duration": 17,
    "start_time": "2023-05-29T13:49:35.270Z"
   },
   {
    "duration": 16,
    "start_time": "2023-05-29T13:49:35.289Z"
   },
   {
    "duration": 4,
    "start_time": "2023-05-29T13:49:35.308Z"
   },
   {
    "duration": 4,
    "start_time": "2023-05-29T13:49:35.314Z"
   },
   {
    "duration": 152,
    "start_time": "2023-05-29T13:49:35.320Z"
   },
   {
    "duration": 148,
    "start_time": "2023-05-29T13:49:35.480Z"
   },
   {
    "duration": 151,
    "start_time": "2023-05-29T13:49:35.630Z"
   },
   {
    "duration": 128,
    "start_time": "2023-05-29T13:49:39.237Z"
   },
   {
    "duration": 152,
    "start_time": "2023-05-29T13:49:40.009Z"
   },
   {
    "duration": 39,
    "start_time": "2023-05-29T13:50:25.694Z"
   },
   {
    "duration": 493,
    "start_time": "2023-05-29T13:50:47.930Z"
   },
   {
    "duration": 10,
    "start_time": "2023-05-29T13:51:06.895Z"
   },
   {
    "duration": 8,
    "start_time": "2023-05-29T13:51:24.432Z"
   },
   {
    "duration": 7,
    "start_time": "2023-05-29T13:51:36.656Z"
   },
   {
    "duration": 12,
    "start_time": "2023-05-29T13:51:47.592Z"
   },
   {
    "duration": 134,
    "start_time": "2023-05-29T13:52:20.255Z"
   },
   {
    "duration": 22,
    "start_time": "2023-05-29T13:54:47.503Z"
   },
   {
    "duration": 590,
    "start_time": "2023-05-29T13:55:04.844Z"
   },
   {
    "duration": 493,
    "start_time": "2023-05-29T13:55:07.939Z"
   },
   {
    "duration": 541,
    "start_time": "2023-05-29T13:55:10.423Z"
   },
   {
    "duration": 11,
    "start_time": "2023-05-29T13:55:14.020Z"
   },
   {
    "duration": 505,
    "start_time": "2023-05-29T13:55:16.316Z"
   },
   {
    "duration": 4,
    "start_time": "2023-05-29T13:55:23.544Z"
   },
   {
    "duration": 4,
    "start_time": "2023-05-29T13:55:26.850Z"
   },
   {
    "duration": 9,
    "start_time": "2023-05-29T13:55:27.104Z"
   },
   {
    "duration": 4,
    "start_time": "2023-05-29T13:55:27.434Z"
   },
   {
    "duration": 155,
    "start_time": "2023-05-29T13:55:28.910Z"
   },
   {
    "duration": 144,
    "start_time": "2023-05-29T13:55:31.640Z"
   },
   {
    "duration": 144,
    "start_time": "2023-05-29T13:55:32.298Z"
   },
   {
    "duration": 151,
    "start_time": "2023-05-29T13:55:32.909Z"
   },
   {
    "duration": 16,
    "start_time": "2023-05-29T13:55:37.671Z"
   },
   {
    "duration": 22,
    "start_time": "2023-05-29T13:55:41.401Z"
   },
   {
    "duration": 11,
    "start_time": "2023-05-29T13:55:53.857Z"
   },
   {
    "duration": 11,
    "start_time": "2023-05-29T13:55:57.086Z"
   },
   {
    "duration": 9,
    "start_time": "2023-05-29T13:56:21.284Z"
   },
   {
    "duration": 10,
    "start_time": "2023-05-29T13:56:26.604Z"
   },
   {
    "duration": 20,
    "start_time": "2023-05-29T13:57:31.498Z"
   },
   {
    "duration": 10,
    "start_time": "2023-05-29T13:57:59.730Z"
   },
   {
    "duration": 5,
    "start_time": "2023-05-29T13:58:13.712Z"
   },
   {
    "duration": 780,
    "start_time": "2023-05-29T13:58:13.718Z"
   },
   {
    "duration": 23,
    "start_time": "2023-05-29T13:58:14.499Z"
   },
   {
    "duration": 5,
    "start_time": "2023-05-29T13:58:14.525Z"
   },
   {
    "duration": 6,
    "start_time": "2023-05-29T13:58:14.532Z"
   },
   {
    "duration": 12,
    "start_time": "2023-05-29T13:58:14.540Z"
   },
   {
    "duration": 54,
    "start_time": "2023-05-29T13:58:14.554Z"
   },
   {
    "duration": 121,
    "start_time": "2023-05-29T13:58:14.610Z"
   },
   {
    "duration": 18,
    "start_time": "2023-05-29T13:58:14.732Z"
   },
   {
    "duration": 13,
    "start_time": "2023-05-29T13:58:14.752Z"
   },
   {
    "duration": 39,
    "start_time": "2023-05-29T13:58:14.781Z"
   },
   {
    "duration": 24,
    "start_time": "2023-05-29T13:58:14.821Z"
   },
   {
    "duration": 536,
    "start_time": "2023-05-29T13:58:14.847Z"
   },
   {
    "duration": 536,
    "start_time": "2023-05-29T13:58:15.394Z"
   },
   {
    "duration": 635,
    "start_time": "2023-05-29T13:58:15.932Z"
   },
   {
    "duration": 17,
    "start_time": "2023-05-29T13:58:16.569Z"
   },
   {
    "duration": 415,
    "start_time": "2023-05-29T13:58:16.590Z"
   },
   {
    "duration": 9,
    "start_time": "2023-05-29T13:58:17.011Z"
   },
   {
    "duration": 4,
    "start_time": "2023-05-29T13:58:17.022Z"
   },
   {
    "duration": 4,
    "start_time": "2023-05-29T13:58:17.028Z"
   },
   {
    "duration": 6,
    "start_time": "2023-05-29T13:58:17.034Z"
   },
   {
    "duration": 190,
    "start_time": "2023-05-29T13:58:17.041Z"
   },
   {
    "duration": 173,
    "start_time": "2023-05-29T13:58:17.232Z"
   },
   {
    "duration": 204,
    "start_time": "2023-05-29T13:58:17.418Z"
   },
   {
    "duration": 179,
    "start_time": "2023-05-29T13:58:17.625Z"
   },
   {
    "duration": 18,
    "start_time": "2023-05-29T13:58:17.806Z"
   },
   {
    "duration": 8,
    "start_time": "2023-05-29T13:58:17.825Z"
   },
   {
    "duration": 16,
    "start_time": "2023-05-29T13:58:17.835Z"
   },
   {
    "duration": 11,
    "start_time": "2023-05-29T13:58:17.853Z"
   },
   {
    "duration": 18,
    "start_time": "2023-05-29T13:58:17.867Z"
   },
   {
    "duration": 7,
    "start_time": "2023-05-29T13:58:21.656Z"
   },
   {
    "duration": 6,
    "start_time": "2023-05-29T13:58:22.653Z"
   },
   {
    "duration": 4,
    "start_time": "2023-05-29T13:58:23.900Z"
   },
   {
    "duration": 8,
    "start_time": "2023-05-29T13:59:38.488Z"
   },
   {
    "duration": 7,
    "start_time": "2023-05-29T13:59:58.789Z"
   },
   {
    "duration": 3,
    "start_time": "2023-05-29T14:00:05.888Z"
   },
   {
    "duration": 7,
    "start_time": "2023-05-29T14:00:36.542Z"
   },
   {
    "duration": 4,
    "start_time": "2023-05-29T14:00:36.989Z"
   },
   {
    "duration": 7,
    "start_time": "2023-05-29T14:01:18.634Z"
   },
   {
    "duration": 6,
    "start_time": "2023-05-29T14:02:15.594Z"
   },
   {
    "duration": 4,
    "start_time": "2023-05-29T14:02:21.620Z"
   },
   {
    "duration": 7,
    "start_time": "2023-05-29T14:04:17.739Z"
   },
   {
    "duration": 17,
    "start_time": "2023-05-29T14:04:18.071Z"
   },
   {
    "duration": 7,
    "start_time": "2023-05-29T14:04:18.426Z"
   },
   {
    "duration": 7,
    "start_time": "2023-05-29T14:04:18.802Z"
   },
   {
    "duration": 31,
    "start_time": "2023-05-29T14:04:40.425Z"
   },
   {
    "duration": 4,
    "start_time": "2023-05-29T14:04:50.648Z"
   },
   {
    "duration": 3,
    "start_time": "2023-05-29T14:04:51.025Z"
   },
   {
    "duration": 755,
    "start_time": "2023-05-29T14:05:36.015Z"
   },
   {
    "duration": 3,
    "start_time": "2023-05-29T14:06:09.320Z"
   },
   {
    "duration": 747,
    "start_time": "2023-05-29T14:06:09.327Z"
   },
   {
    "duration": 21,
    "start_time": "2023-05-29T14:06:10.076Z"
   },
   {
    "duration": 5,
    "start_time": "2023-05-29T14:06:10.098Z"
   },
   {
    "duration": 5,
    "start_time": "2023-05-29T14:06:10.105Z"
   },
   {
    "duration": 16,
    "start_time": "2023-05-29T14:06:10.112Z"
   },
   {
    "duration": 14,
    "start_time": "2023-05-29T14:06:10.129Z"
   },
   {
    "duration": 149,
    "start_time": "2023-05-29T14:06:10.145Z"
   },
   {
    "duration": 12,
    "start_time": "2023-05-29T14:06:10.295Z"
   },
   {
    "duration": 14,
    "start_time": "2023-05-29T14:06:10.309Z"
   },
   {
    "duration": 28,
    "start_time": "2023-05-29T14:06:10.326Z"
   },
   {
    "duration": 43,
    "start_time": "2023-05-29T14:06:10.355Z"
   },
   {
    "duration": 497,
    "start_time": "2023-05-29T14:06:10.399Z"
   },
   {
    "duration": 553,
    "start_time": "2023-05-29T14:06:10.898Z"
   },
   {
    "duration": 464,
    "start_time": "2023-05-29T14:06:11.453Z"
   },
   {
    "duration": 9,
    "start_time": "2023-05-29T14:06:11.919Z"
   },
   {
    "duration": 363,
    "start_time": "2023-05-29T14:06:11.929Z"
   },
   {
    "duration": 5,
    "start_time": "2023-05-29T14:06:12.297Z"
   },
   {
    "duration": 7,
    "start_time": "2023-05-29T14:06:12.303Z"
   },
   {
    "duration": 4,
    "start_time": "2023-05-29T14:06:12.312Z"
   },
   {
    "duration": 5,
    "start_time": "2023-05-29T14:06:12.317Z"
   },
   {
    "duration": 154,
    "start_time": "2023-05-29T14:06:12.324Z"
   },
   {
    "duration": 114,
    "start_time": "2023-05-29T14:06:12.481Z"
   },
   {
    "duration": 125,
    "start_time": "2023-05-29T14:06:12.597Z"
   },
   {
    "duration": 234,
    "start_time": "2023-05-29T14:06:12.723Z"
   },
   {
    "duration": 28,
    "start_time": "2023-05-29T14:06:12.958Z"
   },
   {
    "duration": 9,
    "start_time": "2023-05-29T14:06:12.987Z"
   },
   {
    "duration": 12,
    "start_time": "2023-05-29T14:06:12.997Z"
   },
   {
    "duration": 7,
    "start_time": "2023-05-29T14:06:13.011Z"
   },
   {
    "duration": 8,
    "start_time": "2023-05-29T14:06:14.891Z"
   },
   {
    "duration": 127,
    "start_time": "2023-05-29T14:06:15.677Z"
   },
   {
    "duration": 137,
    "start_time": "2023-05-29T14:07:15.798Z"
   },
   {
    "duration": 122,
    "start_time": "2023-05-29T14:07:16.646Z"
   },
   {
    "duration": 167,
    "start_time": "2023-05-29T14:07:18.465Z"
   },
   {
    "duration": 29,
    "start_time": "2023-05-29T14:07:33.400Z"
   },
   {
    "duration": 4,
    "start_time": "2023-05-29T14:07:36.566Z"
   },
   {
    "duration": 3,
    "start_time": "2023-05-29T14:07:36.926Z"
   },
   {
    "duration": 6,
    "start_time": "2023-05-29T14:07:49.104Z"
   },
   {
    "duration": 4,
    "start_time": "2023-05-29T14:07:50.095Z"
   },
   {
    "duration": 4,
    "start_time": "2023-05-29T14:07:50.775Z"
   },
   {
    "duration": 4,
    "start_time": "2023-05-29T14:07:51.447Z"
   },
   {
    "duration": 3,
    "start_time": "2023-05-29T14:07:52.300Z"
   },
   {
    "duration": 5,
    "start_time": "2023-05-29T14:07:58.470Z"
   },
   {
    "duration": 5,
    "start_time": "2023-05-29T14:08:03.250Z"
   },
   {
    "duration": 4,
    "start_time": "2023-05-29T14:08:03.701Z"
   },
   {
    "duration": 4,
    "start_time": "2023-05-29T14:08:04.238Z"
   },
   {
    "duration": 4,
    "start_time": "2023-05-29T14:08:04.698Z"
   },
   {
    "duration": 3,
    "start_time": "2023-05-29T14:08:08.695Z"
   },
   {
    "duration": 5,
    "start_time": "2023-05-29T14:08:18.095Z"
   },
   {
    "duration": 822,
    "start_time": "2023-05-29T14:08:18.104Z"
   },
   {
    "duration": 18,
    "start_time": "2023-05-29T14:08:18.928Z"
   },
   {
    "duration": 5,
    "start_time": "2023-05-29T14:08:18.947Z"
   },
   {
    "duration": 26,
    "start_time": "2023-05-29T14:08:18.954Z"
   },
   {
    "duration": 26,
    "start_time": "2023-05-29T14:08:18.982Z"
   },
   {
    "duration": 31,
    "start_time": "2023-05-29T14:08:19.010Z"
   },
   {
    "duration": 137,
    "start_time": "2023-05-29T14:08:19.042Z"
   },
   {
    "duration": 13,
    "start_time": "2023-05-29T14:08:19.181Z"
   },
   {
    "duration": 20,
    "start_time": "2023-05-29T14:08:19.196Z"
   },
   {
    "duration": 51,
    "start_time": "2023-05-29T14:08:19.218Z"
   },
   {
    "duration": 22,
    "start_time": "2023-05-29T14:08:19.272Z"
   },
   {
    "duration": 500,
    "start_time": "2023-05-29T14:08:19.296Z"
   },
   {
    "duration": 447,
    "start_time": "2023-05-29T14:08:19.797Z"
   },
   {
    "duration": 541,
    "start_time": "2023-05-29T14:08:20.248Z"
   },
   {
    "duration": 9,
    "start_time": "2023-05-29T14:08:20.791Z"
   },
   {
    "duration": 355,
    "start_time": "2023-05-29T14:08:20.801Z"
   },
   {
    "duration": 4,
    "start_time": "2023-05-29T14:08:21.157Z"
   },
   {
    "duration": 21,
    "start_time": "2023-05-29T14:08:21.163Z"
   },
   {
    "duration": 21,
    "start_time": "2023-05-29T14:08:21.186Z"
   },
   {
    "duration": 9,
    "start_time": "2023-05-29T14:08:21.209Z"
   },
   {
    "duration": 137,
    "start_time": "2023-05-29T14:08:21.219Z"
   },
   {
    "duration": 110,
    "start_time": "2023-05-29T14:08:21.358Z"
   },
   {
    "duration": 128,
    "start_time": "2023-05-29T14:08:21.477Z"
   },
   {
    "duration": 133,
    "start_time": "2023-05-29T14:08:21.607Z"
   },
   {
    "duration": 14,
    "start_time": "2023-05-29T14:08:21.741Z"
   },
   {
    "duration": 17,
    "start_time": "2023-05-29T14:08:21.757Z"
   },
   {
    "duration": 20,
    "start_time": "2023-05-29T14:08:21.778Z"
   },
   {
    "duration": 9,
    "start_time": "2023-05-29T14:08:21.799Z"
   },
   {
    "duration": 113,
    "start_time": "2023-05-29T14:08:21.810Z"
   },
   {
    "duration": 129,
    "start_time": "2023-05-29T14:08:21.924Z"
   },
   {
    "duration": 223,
    "start_time": "2023-05-29T14:08:22.055Z"
   },
   {
    "duration": 120,
    "start_time": "2023-05-29T14:08:22.281Z"
   },
   {
    "duration": 28,
    "start_time": "2023-05-29T14:08:22.403Z"
   },
   {
    "duration": 4,
    "start_time": "2023-05-29T14:08:22.432Z"
   },
   {
    "duration": 9,
    "start_time": "2023-05-29T14:08:22.437Z"
   },
   {
    "duration": 14,
    "start_time": "2023-05-29T14:08:22.448Z"
   },
   {
    "duration": 15,
    "start_time": "2023-05-29T14:08:22.463Z"
   },
   {
    "duration": 4,
    "start_time": "2023-05-29T14:08:22.480Z"
   },
   {
    "duration": 5,
    "start_time": "2023-05-29T14:08:22.486Z"
   },
   {
    "duration": 6,
    "start_time": "2023-05-29T14:08:22.492Z"
   },
   {
    "duration": 4,
    "start_time": "2023-05-29T14:08:22.502Z"
   },
   {
    "duration": 7,
    "start_time": "2023-05-29T14:08:22.507Z"
   },
   {
    "duration": 13,
    "start_time": "2023-05-29T14:08:22.515Z"
   },
   {
    "duration": 10,
    "start_time": "2023-05-29T14:08:22.529Z"
   },
   {
    "duration": 23,
    "start_time": "2023-05-29T14:08:22.541Z"
   },
   {
    "duration": 18,
    "start_time": "2023-05-29T14:08:22.566Z"
   },
   {
    "duration": 4,
    "start_time": "2023-05-29T14:08:24.125Z"
   },
   {
    "duration": 3,
    "start_time": "2023-05-29T14:08:25.541Z"
   },
   {
    "duration": 580,
    "start_time": "2023-05-29T14:08:33.405Z"
   },
   {
    "duration": 1326,
    "start_time": "2023-05-29T14:08:42.458Z"
   },
   {
    "duration": 3,
    "start_time": "2023-05-29T14:08:45.758Z"
   },
   {
    "duration": 9762,
    "start_time": "2023-05-29T14:08:58.062Z"
   },
   {
    "duration": 22955,
    "start_time": "2023-05-29T14:11:20.964Z"
   },
   {
    "duration": 548,
    "start_time": "2023-05-29T14:11:55.379Z"
   },
   {
    "duration": 22908,
    "start_time": "2023-05-29T14:12:41.035Z"
   },
   {
    "duration": 4,
    "start_time": "2023-05-29T14:13:03.945Z"
   },
   {
    "duration": 288963,
    "start_time": "2023-05-29T14:13:14.018Z"
   },
   {
    "duration": 714397,
    "start_time": "2023-05-29T14:29:39.364Z"
   },
   {
    "duration": 1356,
    "start_time": "2023-05-29T14:41:44.499Z"
   },
   {
    "duration": 802,
    "start_time": "2023-05-29T14:41:45.858Z"
   },
   {
    "duration": 31,
    "start_time": "2023-05-29T14:41:46.661Z"
   },
   {
    "duration": 8,
    "start_time": "2023-05-29T14:41:46.695Z"
   },
   {
    "duration": 7,
    "start_time": "2023-05-29T14:41:46.706Z"
   },
   {
    "duration": 15,
    "start_time": "2023-05-29T14:41:46.715Z"
   },
   {
    "duration": 54,
    "start_time": "2023-05-29T14:41:46.732Z"
   },
   {
    "duration": 126,
    "start_time": "2023-05-29T14:41:46.787Z"
   },
   {
    "duration": 18,
    "start_time": "2023-05-29T14:41:46.915Z"
   },
   {
    "duration": 18,
    "start_time": "2023-05-29T14:41:46.934Z"
   },
   {
    "duration": 61,
    "start_time": "2023-05-29T14:41:46.953Z"
   },
   {
    "duration": 23,
    "start_time": "2023-05-29T14:41:47.015Z"
   },
   {
    "duration": 557,
    "start_time": "2023-05-29T14:41:47.040Z"
   },
   {
    "duration": 548,
    "start_time": "2023-05-29T14:41:47.600Z"
   },
   {
    "duration": 495,
    "start_time": "2023-05-29T14:41:48.150Z"
   },
   {
    "duration": 10,
    "start_time": "2023-05-29T14:41:48.647Z"
   },
   {
    "duration": 125,
    "start_time": "2023-05-29T14:41:48.659Z"
   },
   {
    "duration": 0,
    "start_time": "2023-05-29T14:41:48.795Z"
   },
   {
    "duration": 0,
    "start_time": "2023-05-29T14:41:48.798Z"
   },
   {
    "duration": 0,
    "start_time": "2023-05-29T14:41:48.799Z"
   },
   {
    "duration": 0,
    "start_time": "2023-05-29T14:41:48.800Z"
   },
   {
    "duration": 0,
    "start_time": "2023-05-29T14:41:48.801Z"
   },
   {
    "duration": 0,
    "start_time": "2023-05-29T14:41:48.802Z"
   },
   {
    "duration": 0,
    "start_time": "2023-05-29T14:41:48.803Z"
   },
   {
    "duration": 0,
    "start_time": "2023-05-29T14:41:48.804Z"
   },
   {
    "duration": 0,
    "start_time": "2023-05-29T14:41:48.806Z"
   },
   {
    "duration": 0,
    "start_time": "2023-05-29T14:41:48.807Z"
   },
   {
    "duration": 0,
    "start_time": "2023-05-29T14:41:48.808Z"
   },
   {
    "duration": 0,
    "start_time": "2023-05-29T14:41:48.809Z"
   },
   {
    "duration": 0,
    "start_time": "2023-05-29T14:41:48.810Z"
   },
   {
    "duration": 0,
    "start_time": "2023-05-29T14:41:48.811Z"
   },
   {
    "duration": 0,
    "start_time": "2023-05-29T14:41:48.813Z"
   },
   {
    "duration": 0,
    "start_time": "2023-05-29T14:41:48.814Z"
   },
   {
    "duration": 0,
    "start_time": "2023-05-29T14:41:48.814Z"
   },
   {
    "duration": 0,
    "start_time": "2023-05-29T14:41:48.815Z"
   },
   {
    "duration": 0,
    "start_time": "2023-05-29T14:41:48.816Z"
   },
   {
    "duration": 0,
    "start_time": "2023-05-29T14:41:48.817Z"
   },
   {
    "duration": 0,
    "start_time": "2023-05-29T14:41:48.818Z"
   },
   {
    "duration": 0,
    "start_time": "2023-05-29T14:41:48.819Z"
   },
   {
    "duration": 0,
    "start_time": "2023-05-29T14:41:48.820Z"
   },
   {
    "duration": 0,
    "start_time": "2023-05-29T14:41:48.821Z"
   },
   {
    "duration": 0,
    "start_time": "2023-05-29T14:41:48.822Z"
   },
   {
    "duration": 0,
    "start_time": "2023-05-29T14:41:48.823Z"
   },
   {
    "duration": 0,
    "start_time": "2023-05-29T14:41:48.824Z"
   },
   {
    "duration": 0,
    "start_time": "2023-05-29T14:41:48.826Z"
   },
   {
    "duration": 0,
    "start_time": "2023-05-29T14:41:48.827Z"
   },
   {
    "duration": 0,
    "start_time": "2023-05-29T14:41:48.828Z"
   },
   {
    "duration": 0,
    "start_time": "2023-05-29T14:41:48.829Z"
   },
   {
    "duration": 0,
    "start_time": "2023-05-29T14:41:48.830Z"
   },
   {
    "duration": 0,
    "start_time": "2023-05-29T14:41:48.831Z"
   },
   {
    "duration": 0,
    "start_time": "2023-05-29T14:41:48.832Z"
   },
   {
    "duration": 0,
    "start_time": "2023-05-29T14:41:48.878Z"
   },
   {
    "duration": 0,
    "start_time": "2023-05-29T14:41:48.878Z"
   },
   {
    "duration": 0,
    "start_time": "2023-05-29T14:41:48.880Z"
   },
   {
    "duration": 0,
    "start_time": "2023-05-29T14:41:48.881Z"
   },
   {
    "duration": 0,
    "start_time": "2023-05-29T14:41:48.881Z"
   },
   {
    "duration": 0,
    "start_time": "2023-05-29T14:41:48.882Z"
   },
   {
    "duration": 0,
    "start_time": "2023-05-29T14:41:48.882Z"
   },
   {
    "duration": 4,
    "start_time": "2023-05-29T14:42:43.925Z"
   },
   {
    "duration": 770,
    "start_time": "2023-05-29T14:42:43.931Z"
   },
   {
    "duration": 18,
    "start_time": "2023-05-29T14:42:44.703Z"
   },
   {
    "duration": 6,
    "start_time": "2023-05-29T14:42:44.723Z"
   },
   {
    "duration": 6,
    "start_time": "2023-05-29T14:42:44.731Z"
   },
   {
    "duration": 14,
    "start_time": "2023-05-29T14:42:44.738Z"
   },
   {
    "duration": 41,
    "start_time": "2023-05-29T14:42:44.754Z"
   },
   {
    "duration": 138,
    "start_time": "2023-05-29T14:42:44.797Z"
   },
   {
    "duration": 16,
    "start_time": "2023-05-29T14:42:44.937Z"
   },
   {
    "duration": 36,
    "start_time": "2023-05-29T14:42:44.954Z"
   },
   {
    "duration": 71,
    "start_time": "2023-05-29T14:42:44.993Z"
   },
   {
    "duration": 28,
    "start_time": "2023-05-29T14:42:45.066Z"
   },
   {
    "duration": 517,
    "start_time": "2023-05-29T14:42:45.095Z"
   },
   {
    "duration": 542,
    "start_time": "2023-05-29T14:42:45.613Z"
   },
   {
    "duration": 543,
    "start_time": "2023-05-29T14:42:46.157Z"
   },
   {
    "duration": 11,
    "start_time": "2023-05-29T14:42:46.701Z"
   },
   {
    "duration": 519,
    "start_time": "2023-05-29T14:42:46.714Z"
   },
   {
    "duration": 4,
    "start_time": "2023-05-29T14:42:47.235Z"
   },
   {
    "duration": 53,
    "start_time": "2023-05-29T14:42:47.241Z"
   },
   {
    "duration": 28,
    "start_time": "2023-05-29T14:42:47.296Z"
   },
   {
    "duration": 24,
    "start_time": "2023-05-29T14:42:47.326Z"
   },
   {
    "duration": 183,
    "start_time": "2023-05-29T14:42:47.351Z"
   },
   {
    "duration": 134,
    "start_time": "2023-05-29T14:42:47.535Z"
   },
   {
    "duration": 133,
    "start_time": "2023-05-29T14:42:47.682Z"
   },
   {
    "duration": 143,
    "start_time": "2023-05-29T14:42:47.816Z"
   },
   {
    "duration": 33,
    "start_time": "2023-05-29T14:42:47.960Z"
   },
   {
    "duration": 10,
    "start_time": "2023-05-29T14:42:47.995Z"
   },
   {
    "duration": 38,
    "start_time": "2023-05-29T14:42:48.007Z"
   },
   {
    "duration": 22,
    "start_time": "2023-05-29T14:42:48.050Z"
   },
   {
    "duration": 167,
    "start_time": "2023-05-29T14:42:48.074Z"
   },
   {
    "duration": 170,
    "start_time": "2023-05-29T14:42:48.243Z"
   },
   {
    "duration": 181,
    "start_time": "2023-05-29T14:42:48.415Z"
   },
   {
    "duration": 147,
    "start_time": "2023-05-29T14:42:48.598Z"
   },
   {
    "duration": 51,
    "start_time": "2023-05-29T14:42:48.747Z"
   },
   {
    "duration": 4,
    "start_time": "2023-05-29T14:42:48.800Z"
   },
   {
    "duration": 38,
    "start_time": "2023-05-29T14:42:48.806Z"
   },
   {
    "duration": 35,
    "start_time": "2023-05-29T14:42:48.846Z"
   },
   {
    "duration": 12,
    "start_time": "2023-05-29T14:42:48.888Z"
   },
   {
    "duration": 26,
    "start_time": "2023-05-29T14:42:48.901Z"
   },
   {
    "duration": 17,
    "start_time": "2023-05-29T14:42:48.929Z"
   },
   {
    "duration": 25,
    "start_time": "2023-05-29T14:42:48.948Z"
   },
   {
    "duration": 23,
    "start_time": "2023-05-29T14:42:48.975Z"
   },
   {
    "duration": 14,
    "start_time": "2023-05-29T14:42:48.999Z"
   },
   {
    "duration": 33,
    "start_time": "2023-05-29T14:42:49.015Z"
   },
   {
    "duration": 26,
    "start_time": "2023-05-29T14:42:49.049Z"
   },
   {
    "duration": 20,
    "start_time": "2023-05-29T14:42:49.077Z"
   },
   {
    "duration": 22,
    "start_time": "2023-05-29T14:42:49.099Z"
   },
   {
    "duration": 30,
    "start_time": "2023-05-29T14:42:49.123Z"
   },
   {
    "duration": 1144,
    "start_time": "2023-05-29T14:42:49.154Z"
   },
   {
    "duration": 1985,
    "start_time": "2023-05-29T14:42:50.303Z"
   },
   {
    "duration": 11,
    "start_time": "2023-05-29T14:42:52.294Z"
   },
   {
    "duration": 10591,
    "start_time": "2023-05-29T14:42:52.307Z"
   },
   {
    "duration": 25746,
    "start_time": "2023-05-29T14:43:02.899Z"
   },
   {
    "duration": 4,
    "start_time": "2023-05-29T14:43:28.647Z"
   },
   {
    "duration": 309576,
    "start_time": "2023-05-29T14:43:28.652Z"
   },
   {
    "duration": 736683,
    "start_time": "2023-05-29T14:48:38.230Z"
   },
   {
    "duration": 22216,
    "start_time": "2023-05-29T15:01:16.862Z"
   },
   {
    "duration": 8,
    "start_time": "2023-05-29T15:01:39.081Z"
   },
   {
    "duration": 714898,
    "start_time": "2023-05-29T15:04:49.458Z"
   },
   {
    "duration": 22266,
    "start_time": "2023-05-29T15:16:44.358Z"
   },
   {
    "duration": 3,
    "start_time": "2023-05-29T15:17:06.626Z"
   },
   {
    "duration": 746333,
    "start_time": "2023-05-29T15:19:04.395Z"
   },
   {
    "duration": 6863,
    "start_time": "2023-05-29T15:38:11.268Z"
   },
   {
    "duration": 3,
    "start_time": "2023-05-29T15:38:38.743Z"
   },
   {
    "duration": 2114,
    "start_time": "2023-05-29T15:39:30.096Z"
   },
   {
    "duration": 1698,
    "start_time": "2023-05-29T15:39:32.212Z"
   },
   {
    "duration": 4,
    "start_time": "2023-05-29T15:40:04.879Z"
   },
   {
    "duration": 3,
    "start_time": "2023-05-29T15:42:29.788Z"
   },
   {
    "duration": 8,
    "start_time": "2023-05-29T15:49:00.994Z"
   },
   {
    "duration": 12,
    "start_time": "2023-05-29T15:50:10.993Z"
   },
   {
    "duration": 12,
    "start_time": "2023-05-29T15:50:29.815Z"
   },
   {
    "duration": 12,
    "start_time": "2023-05-29T15:51:03.525Z"
   },
   {
    "duration": 11,
    "start_time": "2023-05-29T15:51:46.713Z"
   },
   {
    "duration": 10,
    "start_time": "2023-05-29T15:52:41.725Z"
   },
   {
    "duration": 10,
    "start_time": "2023-05-29T15:53:23.148Z"
   },
   {
    "duration": 3,
    "start_time": "2023-05-29T15:53:31.028Z"
   },
   {
    "duration": 3,
    "start_time": "2023-05-29T15:53:31.411Z"
   },
   {
    "duration": 8,
    "start_time": "2023-05-29T15:53:36.771Z"
   },
   {
    "duration": 7,
    "start_time": "2023-05-29T15:54:20.716Z"
   },
   {
    "duration": 3,
    "start_time": "2023-05-29T15:55:20.887Z"
   },
   {
    "duration": 3,
    "start_time": "2023-05-29T15:55:26.895Z"
   },
   {
    "duration": 1403,
    "start_time": "2023-05-29T16:05:12.733Z"
   },
   {
    "duration": 795,
    "start_time": "2023-05-29T16:05:14.139Z"
   },
   {
    "duration": 19,
    "start_time": "2023-05-29T16:05:14.936Z"
   },
   {
    "duration": 25,
    "start_time": "2023-05-29T16:05:14.958Z"
   },
   {
    "duration": 17,
    "start_time": "2023-05-29T16:05:14.985Z"
   },
   {
    "duration": 52,
    "start_time": "2023-05-29T16:05:15.005Z"
   },
   {
    "duration": 44,
    "start_time": "2023-05-29T16:05:15.059Z"
   },
   {
    "duration": 144,
    "start_time": "2023-05-29T16:05:15.106Z"
   },
   {
    "duration": 32,
    "start_time": "2023-05-29T16:05:15.253Z"
   },
   {
    "duration": 17,
    "start_time": "2023-05-29T16:05:15.292Z"
   },
   {
    "duration": 33,
    "start_time": "2023-05-29T16:05:15.311Z"
   },
   {
    "duration": 22,
    "start_time": "2023-05-29T16:05:15.345Z"
   },
   {
    "duration": 555,
    "start_time": "2023-05-29T16:05:15.382Z"
   },
   {
    "duration": 516,
    "start_time": "2023-05-29T16:05:15.939Z"
   },
   {
    "duration": 614,
    "start_time": "2023-05-29T16:05:16.457Z"
   },
   {
    "duration": 18,
    "start_time": "2023-05-29T16:05:17.073Z"
   },
   {
    "duration": 398,
    "start_time": "2023-05-29T16:05:17.095Z"
   },
   {
    "duration": 4,
    "start_time": "2023-05-29T16:05:17.495Z"
   },
   {
    "duration": 6,
    "start_time": "2023-05-29T16:05:17.501Z"
   },
   {
    "duration": 7,
    "start_time": "2023-05-29T16:05:17.509Z"
   },
   {
    "duration": 5,
    "start_time": "2023-05-29T16:05:17.518Z"
   },
   {
    "duration": 264,
    "start_time": "2023-05-29T16:05:17.525Z"
   },
   {
    "duration": 166,
    "start_time": "2023-05-29T16:05:17.794Z"
   },
   {
    "duration": 187,
    "start_time": "2023-05-29T16:05:17.962Z"
   },
   {
    "duration": 150,
    "start_time": "2023-05-29T16:05:18.151Z"
   },
   {
    "duration": 19,
    "start_time": "2023-05-29T16:05:18.303Z"
   },
   {
    "duration": 6,
    "start_time": "2023-05-29T16:05:18.324Z"
   },
   {
    "duration": 7,
    "start_time": "2023-05-29T16:05:18.334Z"
   },
   {
    "duration": 41,
    "start_time": "2023-05-29T16:05:18.342Z"
   },
   {
    "duration": 138,
    "start_time": "2023-05-29T16:05:18.384Z"
   },
   {
    "duration": 285,
    "start_time": "2023-05-29T16:05:18.524Z"
   },
   {
    "duration": 154,
    "start_time": "2023-05-29T16:05:18.812Z"
   },
   {
    "duration": 152,
    "start_time": "2023-05-29T16:05:18.968Z"
   },
   {
    "duration": 32,
    "start_time": "2023-05-29T16:05:19.122Z"
   },
   {
    "duration": 3,
    "start_time": "2023-05-29T16:05:19.156Z"
   },
   {
    "duration": 5,
    "start_time": "2023-05-29T16:05:19.178Z"
   },
   {
    "duration": 18,
    "start_time": "2023-05-29T16:05:19.185Z"
   },
   {
    "duration": 7,
    "start_time": "2023-05-29T16:05:19.205Z"
   },
   {
    "duration": 5,
    "start_time": "2023-05-29T16:05:19.214Z"
   },
   {
    "duration": 7,
    "start_time": "2023-05-29T16:05:19.220Z"
   },
   {
    "duration": 6,
    "start_time": "2023-05-29T16:05:19.228Z"
   },
   {
    "duration": 7,
    "start_time": "2023-05-29T16:05:19.235Z"
   },
   {
    "duration": 6,
    "start_time": "2023-05-29T16:05:19.244Z"
   },
   {
    "duration": 29,
    "start_time": "2023-05-29T16:05:19.252Z"
   },
   {
    "duration": 8,
    "start_time": "2023-05-29T16:05:19.288Z"
   },
   {
    "duration": 5,
    "start_time": "2023-05-29T16:05:19.298Z"
   },
   {
    "duration": 7,
    "start_time": "2023-05-29T16:05:19.304Z"
   },
   {
    "duration": 3,
    "start_time": "2023-05-29T16:05:19.313Z"
   },
   {
    "duration": 875,
    "start_time": "2023-05-29T16:05:19.318Z"
   },
   {
    "duration": 1679,
    "start_time": "2023-05-29T16:05:20.200Z"
   },
   {
    "duration": 3,
    "start_time": "2023-05-29T16:05:21.881Z"
   },
   {
    "duration": 10816,
    "start_time": "2023-05-29T16:05:21.886Z"
   },
   {
    "duration": 25893,
    "start_time": "2023-05-29T16:05:32.704Z"
   },
   {
    "duration": 5,
    "start_time": "2023-05-29T16:05:58.599Z"
   },
   {
    "duration": 305337,
    "start_time": "2023-05-29T16:05:58.605Z"
   },
   {
    "duration": 702723,
    "start_time": "2023-05-29T16:11:03.944Z"
   },
   {
    "duration": 10,
    "start_time": "2023-05-29T16:22:46.670Z"
   },
   {
    "duration": 2269,
    "start_time": "2023-05-29T16:22:46.682Z"
   },
   {
    "duration": 1839,
    "start_time": "2023-05-29T16:22:48.953Z"
   },
   {
    "duration": 4,
    "start_time": "2023-05-29T16:22:50.794Z"
   },
   {
    "duration": 143,
    "start_time": "2023-05-29T16:22:50.800Z"
   },
   {
    "duration": 0,
    "start_time": "2023-05-29T16:22:50.945Z"
   },
   {
    "duration": 1,
    "start_time": "2023-05-29T16:22:50.946Z"
   },
   {
    "duration": 12,
    "start_time": "2023-05-29T16:24:45.968Z"
   },
   {
    "duration": 12,
    "start_time": "2023-05-29T16:26:00.415Z"
   },
   {
    "duration": 8,
    "start_time": "2023-05-29T16:29:05.157Z"
   },
   {
    "duration": 8,
    "start_time": "2023-05-29T16:29:10.107Z"
   },
   {
    "duration": 3,
    "start_time": "2023-05-29T16:29:11.252Z"
   },
   {
    "duration": 2056,
    "start_time": "2023-05-29T16:30:57.892Z"
   },
   {
    "duration": 2273,
    "start_time": "2023-05-29T16:31:18.371Z"
   },
   {
    "duration": 1884,
    "start_time": "2023-05-29T16:31:26.019Z"
   },
   {
    "duration": 3,
    "start_time": "2023-05-29T16:31:29.053Z"
   },
   {
    "duration": 1609,
    "start_time": "2024-06-03T11:27:02.651Z"
   },
   {
    "duration": 1317,
    "start_time": "2024-06-03T11:27:04.262Z"
   },
   {
    "duration": 18,
    "start_time": "2024-06-03T11:27:05.581Z"
   },
   {
    "duration": 6,
    "start_time": "2024-06-03T11:27:05.601Z"
   },
   {
    "duration": 8,
    "start_time": "2024-06-03T11:27:05.609Z"
   },
   {
    "duration": 13,
    "start_time": "2024-06-03T11:27:05.619Z"
   },
   {
    "duration": 16,
    "start_time": "2024-06-03T11:27:05.634Z"
   },
   {
    "duration": 164,
    "start_time": "2024-06-03T11:27:05.652Z"
   },
   {
    "duration": 18,
    "start_time": "2024-06-03T11:27:05.818Z"
   },
   {
    "duration": 20,
    "start_time": "2024-06-03T11:27:05.838Z"
   },
   {
    "duration": 30,
    "start_time": "2024-06-03T11:27:05.859Z"
   },
   {
    "duration": 43,
    "start_time": "2024-06-03T11:27:05.890Z"
   },
   {
    "duration": 524,
    "start_time": "2024-06-03T11:27:05.934Z"
   },
   {
    "duration": 515,
    "start_time": "2024-06-03T11:27:06.459Z"
   },
   {
    "duration": 594,
    "start_time": "2024-06-03T11:27:06.975Z"
   },
   {
    "duration": 10,
    "start_time": "2024-06-03T11:27:07.571Z"
   },
   {
    "duration": 402,
    "start_time": "2024-06-03T11:27:07.583Z"
   },
   {
    "duration": 5,
    "start_time": "2024-06-03T11:27:07.987Z"
   },
   {
    "duration": 90,
    "start_time": "2024-06-03T11:27:07.993Z"
   },
   {
    "duration": 17,
    "start_time": "2024-06-03T11:27:08.085Z"
   },
   {
    "duration": 13,
    "start_time": "2024-06-03T11:27:08.103Z"
   },
   {
    "duration": 177,
    "start_time": "2024-06-03T11:27:08.118Z"
   },
   {
    "duration": 147,
    "start_time": "2024-06-03T11:27:08.297Z"
   },
   {
    "duration": 138,
    "start_time": "2024-06-03T11:27:08.445Z"
   },
   {
    "duration": 149,
    "start_time": "2024-06-03T11:27:08.585Z"
   },
   {
    "duration": 20,
    "start_time": "2024-06-03T11:27:08.736Z"
   },
   {
    "duration": 9,
    "start_time": "2024-06-03T11:27:08.758Z"
   },
   {
    "duration": 7,
    "start_time": "2024-06-03T11:27:08.771Z"
   },
   {
    "duration": 8,
    "start_time": "2024-06-03T11:27:08.779Z"
   },
   {
    "duration": 161,
    "start_time": "2024-06-03T11:27:08.788Z"
   },
   {
    "duration": 251,
    "start_time": "2024-06-03T11:27:08.951Z"
   },
   {
    "duration": 146,
    "start_time": "2024-06-03T11:27:09.203Z"
   },
   {
    "duration": 140,
    "start_time": "2024-06-03T11:27:09.350Z"
   },
   {
    "duration": 42,
    "start_time": "2024-06-03T11:27:09.492Z"
   },
   {
    "duration": 3,
    "start_time": "2024-06-03T11:27:09.536Z"
   },
   {
    "duration": 13,
    "start_time": "2024-06-03T11:27:09.541Z"
   },
   {
    "duration": 6,
    "start_time": "2024-06-03T11:27:09.556Z"
   },
   {
    "duration": 5,
    "start_time": "2024-06-03T11:27:09.564Z"
   },
   {
    "duration": 8,
    "start_time": "2024-06-03T11:27:09.571Z"
   },
   {
    "duration": 7,
    "start_time": "2024-06-03T11:27:09.581Z"
   },
   {
    "duration": 5,
    "start_time": "2024-06-03T11:27:09.590Z"
   },
   {
    "duration": 5,
    "start_time": "2024-06-03T11:27:09.615Z"
   },
   {
    "duration": 6,
    "start_time": "2024-06-03T11:27:09.621Z"
   },
   {
    "duration": 8,
    "start_time": "2024-06-03T11:27:09.629Z"
   },
   {
    "duration": 9,
    "start_time": "2024-06-03T11:27:09.638Z"
   },
   {
    "duration": 10,
    "start_time": "2024-06-03T11:27:09.648Z"
   },
   {
    "duration": 8,
    "start_time": "2024-06-03T11:27:09.659Z"
   },
   {
    "duration": 10,
    "start_time": "2024-06-03T11:27:09.669Z"
   },
   {
    "duration": 936,
    "start_time": "2024-06-03T11:27:09.680Z"
   },
   {
    "duration": 1497,
    "start_time": "2024-06-03T11:27:10.618Z"
   },
   {
    "duration": 3,
    "start_time": "2024-06-03T11:27:12.118Z"
   },
   {
    "duration": 11772,
    "start_time": "2024-06-03T11:27:12.123Z"
   },
   {
    "duration": 28675,
    "start_time": "2024-06-03T11:27:23.896Z"
   },
   {
    "duration": 4,
    "start_time": "2024-06-03T11:27:52.573Z"
   },
   {
    "duration": 348700,
    "start_time": "2024-06-03T11:27:52.579Z"
   },
   {
    "duration": 821456,
    "start_time": "2024-06-03T11:33:41.282Z"
   },
   {
    "duration": 5,
    "start_time": "2024-06-03T11:47:22.740Z"
   },
   {
    "duration": 2553,
    "start_time": "2024-06-03T11:47:22.747Z"
   },
   {
    "duration": 2049,
    "start_time": "2024-06-03T11:47:25.303Z"
   },
   {
    "duration": 3,
    "start_time": "2024-06-03T11:47:27.354Z"
   },
   {
    "duration": 10,
    "start_time": "2024-06-03T11:47:27.359Z"
   },
   {
    "duration": 7,
    "start_time": "2024-06-03T11:47:27.370Z"
   },
   {
    "duration": 3,
    "start_time": "2024-06-03T11:47:27.379Z"
   }
  ],
  "kernelspec": {
   "display_name": "Python 3 (ipykernel)",
   "language": "python",
   "name": "python3"
  },
  "language_info": {
   "codemirror_mode": {
    "name": "ipython",
    "version": 3
   },
   "file_extension": ".py",
   "mimetype": "text/x-python",
   "name": "python",
   "nbconvert_exporter": "python",
   "pygments_lexer": "ipython3",
   "version": "3.9.5"
  },
  "toc": {
   "base_numbering": 1,
   "nav_menu": {},
   "number_sections": true,
   "sideBar": true,
   "skip_h1_title": true,
   "title_cell": "Содержание",
   "title_sidebar": "Contents",
   "toc_cell": true,
   "toc_position": {
    "height": "calc(100% - 180px)",
    "left": "10px",
    "top": "150px",
    "width": "165px"
   },
   "toc_section_display": true,
   "toc_window_display": true
  }
 },
 "nbformat": 4,
 "nbformat_minor": 4
}
